{
 "cells": [
  {
   "cell_type": "code",
   "execution_count": 1,
   "id": "af16657a",
   "metadata": {
    "scrolled": true
   },
   "outputs": [
    {
     "name": "stdout",
     "output_type": "stream",
     "text": [
      "Hello, Python!\n"
     ]
    }
   ],
   "source": [
    "print('Hello, Python!')"
   ]
  },
  {
   "cell_type": "code",
   "execution_count": 2,
   "id": "9ffd550b",
   "metadata": {
    "scrolled": true
   },
   "outputs": [
    {
     "name": "stdout",
     "output_type": "stream",
     "text": [
      "Hello, Python!\n",
      "안녕, 파이썬\n"
     ]
    }
   ],
   "source": [
    "print('Hello, Python!')\n",
    "print('안녕, 파이썬')"
   ]
  },
  {
   "cell_type": "code",
   "execution_count": 3,
   "id": "77a72c06",
   "metadata": {},
   "outputs": [
    {
     "name": "stdout",
     "output_type": "stream",
     "text": [
      "손흥민\n"
     ]
    }
   ],
   "source": [
    "name = '손흥민'\n",
    "print(name)"
   ]
  },
  {
   "cell_type": "code",
   "execution_count": 4,
   "id": "c385ec9e",
   "metadata": {},
   "outputs": [
    {
     "name": "stdout",
     "output_type": "stream",
     "text": [
      "Hello, 손흥민\n"
     ]
    }
   ],
   "source": [
    "print('Hello, ' + name)"
   ]
  },
  {
   "cell_type": "code",
   "execution_count": 8,
   "id": "66a0da42",
   "metadata": {},
   "outputs": [
    {
     "name": "stdout",
     "output_type": "stream",
     "text": [
      "subinc\n"
     ]
    }
   ],
   "source": [
    "print(my_name)"
   ]
  },
  {
   "cell_type": "code",
   "execution_count": 7,
   "id": "cab029c2",
   "metadata": {},
   "outputs": [],
   "source": [
    "my_name = 'subinc'"
   ]
  },
  {
   "cell_type": "code",
   "execution_count": 9,
   "id": "0a4f743e",
   "metadata": {},
   "outputs": [
    {
     "data": {
      "text/plain": [
       "17"
      ]
     },
     "execution_count": 9,
     "metadata": {},
     "output_type": "execute_result"
    }
   ],
   "source": [
    "3 * 4 + 5"
   ]
  },
  {
   "cell_type": "code",
   "execution_count": 10,
   "id": "57eb8c72",
   "metadata": {},
   "outputs": [
    {
     "data": {
      "text/plain": [
       "14"
      ]
     },
     "execution_count": 10,
     "metadata": {},
     "output_type": "execute_result"
    }
   ],
   "source": [
    "3 * 4 + 5\n",
    "2 + 3 * 4"
   ]
  },
  {
   "cell_type": "code",
   "execution_count": 11,
   "id": "4289c6f3",
   "metadata": {},
   "outputs": [
    {
     "name": "stdout",
     "output_type": "stream",
     "text": [
      "60\n",
      "14\n"
     ]
    }
   ],
   "source": [
    "print(3*4*5)\n",
    "print(2+3*4)"
   ]
  },
  {
   "cell_type": "code",
   "execution_count": 18,
   "id": "5cb024c4",
   "metadata": {},
   "outputs": [
    {
     "name": "stdout",
     "output_type": "stream",
     "text": [
      "17\n",
      "14\n"
     ]
    }
   ],
   "source": [
    "# Shift + Enter\n",
    "print(3*4+5)\n",
    "print(2+3*4)"
   ]
  },
  {
   "cell_type": "code",
   "execution_count": 16,
   "id": "7b8397f7",
   "metadata": {},
   "outputs": [
    {
     "name": "stdout",
     "output_type": "stream",
     "text": [
      "17\n",
      "14\n"
     ]
    }
   ],
   "source": [
    "# Alt + Enter\n",
    "print(3*4+5)\n",
    "print(2+3*4)"
   ]
  },
  {
   "cell_type": "code",
   "execution_count": 19,
   "id": "892be5e3",
   "metadata": {},
   "outputs": [
    {
     "name": "stdout",
     "output_type": "stream",
     "text": [
      "17\n",
      "14\n"
     ]
    }
   ],
   "source": [
    "# Ctrl + Enter\n",
    "print(3*4+5)\n",
    "print(2+3*4)"
   ]
  },
  {
   "cell_type": "markdown",
   "id": "0183b635",
   "metadata": {},
   "source": [
    "# 가장 큰 제목\n",
    "## 두 번째 큰 제목\n",
    "###### 가장 작은 제목\n",
    "\n",
    "- 목록 1\n",
    "- 목록 2"
   ]
  }
 ],
 "metadata": {
  "kernelspec": {
   "display_name": "Python 3 (ipykernel)",
   "language": "python",
   "name": "python3"
  },
  "language_info": {
   "codemirror_mode": {
    "name": "ipython",
    "version": 3
   },
   "file_extension": ".py",
   "mimetype": "text/x-python",
   "name": "python",
   "nbconvert_exporter": "python",
   "pygments_lexer": "ipython3",
   "version": "3.9.12"
  }
 },
 "nbformat": 4,
 "nbformat_minor": 5
}
