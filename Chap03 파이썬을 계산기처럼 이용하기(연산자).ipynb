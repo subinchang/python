{
 "cells": [
  {
   "cell_type": "code",
   "execution_count": 101,
   "id": "d74534fe",
   "metadata": {},
   "outputs": [
    {
     "name": "stdout",
     "output_type": "stream",
     "text": [
      "7\n",
      "3\n",
      "10\n",
      "2.5\n",
      "2.0\n"
     ]
    }
   ],
   "source": [
    "print(5 + 2)\n",
    "print(5 - 2)\n",
    "print(5 * 2)\n",
    "print(5 / 2) # 정수 / 정수 = 실수\n",
    "print(4 / 2) # 정수 / 정수 = 실수 (2.0=/2)"
   ]
  },
  {
   "cell_type": "code",
   "execution_count": 102,
   "id": "2c2385ee",
   "metadata": {},
   "outputs": [
    {
     "name": "stdout",
     "output_type": "stream",
     "text": [
      "7.0\n",
      "7.0\n",
      "7.0\n"
     ]
    }
   ],
   "source": [
    "print(5 + 2.0) # 정수와 실수가 섞인 계산의 결과는 실수\n",
    "print(5.0 + 2)\n",
    "print(5.0 + 2.0)"
   ]
  },
  {
   "cell_type": "code",
   "execution_count": 103,
   "id": "7408d034",
   "metadata": {},
   "outputs": [
    {
     "data": {
      "text/plain": [
       "14"
      ]
     },
     "execution_count": 103,
     "metadata": {},
     "output_type": "execute_result"
    }
   ],
   "source": [
    "2 + 3 * 4"
   ]
  },
  {
   "cell_type": "code",
   "execution_count": 104,
   "id": "186ae902",
   "metadata": {},
   "outputs": [
    {
     "data": {
      "text/plain": [
       "9"
      ]
     },
     "execution_count": 104,
     "metadata": {},
     "output_type": "execute_result"
    }
   ],
   "source": [
    "2 + 3 + 4"
   ]
  },
  {
   "cell_type": "code",
   "execution_count": 105,
   "id": "41954211",
   "metadata": {},
   "outputs": [],
   "source": [
    "num = 10"
   ]
  },
  {
   "cell_type": "code",
   "execution_count": 106,
   "id": "005a4f9a",
   "metadata": {},
   "outputs": [
    {
     "data": {
      "text/plain": [
       "1"
      ]
     },
     "execution_count": 106,
     "metadata": {},
     "output_type": "execute_result"
    }
   ],
   "source": [
    "2 + 3 - 4"
   ]
  },
  {
   "cell_type": "code",
   "execution_count": 107,
   "id": "3990bd45",
   "metadata": {},
   "outputs": [
    {
     "data": {
      "text/plain": [
       "20"
      ]
     },
     "execution_count": 107,
     "metadata": {},
     "output_type": "execute_result"
    }
   ],
   "source": [
    "(2 + 3) * 4"
   ]
  },
  {
   "cell_type": "code",
   "execution_count": 108,
   "id": "434e546a",
   "metadata": {},
   "outputs": [
    {
     "data": {
      "text/plain": [
       "11"
      ]
     },
     "execution_count": 108,
     "metadata": {},
     "output_type": "execute_result"
    }
   ],
   "source": [
    "(5 * 4 - 15) + ((5 - 2) * (9 - 7))"
   ]
  },
  {
   "cell_type": "code",
   "execution_count": 109,
   "id": "c4b507b2",
   "metadata": {},
   "outputs": [
    {
     "data": {
      "text/plain": [
       "int"
      ]
     },
     "execution_count": 109,
     "metadata": {},
     "output_type": "execute_result"
    }
   ],
   "source": [
    "type(3)"
   ]
  },
  {
   "cell_type": "code",
   "execution_count": 110,
   "id": "b5382f78",
   "metadata": {},
   "outputs": [
    {
     "name": "stdout",
     "output_type": "stream",
     "text": [
      "<class 'int'>\n"
     ]
    }
   ],
   "source": [
    "print(type(3)) # 3은 int라는 class를 이용해 만들어진 개체라는 뜻"
   ]
  },
  {
   "cell_type": "code",
   "execution_count": 111,
   "id": "0d054230",
   "metadata": {},
   "outputs": [
    {
     "data": {
      "text/plain": [
       "float"
      ]
     },
     "execution_count": 111,
     "metadata": {},
     "output_type": "execute_result"
    }
   ],
   "source": [
    "type(3.14)"
   ]
  },
  {
   "cell_type": "code",
   "execution_count": 112,
   "id": "b3b3fadf",
   "metadata": {},
   "outputs": [
    {
     "data": {
      "text/plain": [
       "str"
      ]
     },
     "execution_count": 112,
     "metadata": {},
     "output_type": "execute_result"
    }
   ],
   "source": [
    "type('손흥민')"
   ]
  },
  {
   "cell_type": "code",
   "execution_count": 113,
   "id": "6eeea856",
   "metadata": {},
   "outputs": [
    {
     "name": "stdout",
     "output_type": "stream",
     "text": [
      "4.5\n",
      "4\n",
      "1\n"
     ]
    }
   ],
   "source": [
    "print(9 / 2)\n",
    "print(9 // 2)\n",
    "print(9 % 2)"
   ]
  },
  {
   "cell_type": "code",
   "execution_count": 114,
   "id": "a7e6fe76",
   "metadata": {},
   "outputs": [
    {
     "name": "stdout",
     "output_type": "stream",
     "text": [
      "3.0\n",
      "1.6999999999999993\n"
     ]
    }
   ],
   "source": [
    "print(9.2 // 2.5) # 실수값에 대한 몫, 나머지 연산도 가능\n",
    "print(9.2 % 2.5)"
   ]
  },
  {
   "cell_type": "code",
   "execution_count": 115,
   "id": "67e7d380",
   "metadata": {},
   "outputs": [
    {
     "name": "stdout",
     "output_type": "stream",
     "text": [
      "1024\n",
      "1024\n"
     ]
    }
   ],
   "source": [
    "print(2*2*2*2*2*2*2*2*2*2)\n",
    "print(2**10)"
   ]
  },
  {
   "cell_type": "code",
   "execution_count": 116,
   "id": "8a43f994",
   "metadata": {},
   "outputs": [
    {
     "name": "stdout",
     "output_type": "stream",
     "text": [
      "7.507027712383946\n"
     ]
    }
   ],
   "source": [
    "print(2.5**2.2) # 실수값에 대한 거듭제곱 연산도 가능"
   ]
  },
  {
   "cell_type": "code",
   "execution_count": 117,
   "id": "8f0243de",
   "metadata": {},
   "outputs": [
    {
     "name": "stdout",
     "output_type": "stream",
     "text": [
      "300000000\n",
      "300000000.0\n"
     ]
    }
   ],
   "source": [
    "print(3 * 10 ** 8)\n",
    "print(3e8)"
   ]
  },
  {
   "cell_type": "code",
   "execution_count": 118,
   "id": "02152d38",
   "metadata": {},
   "outputs": [
    {
     "name": "stdout",
     "output_type": "stream",
     "text": [
      "1000000000000000.0\n",
      "1e+16\n"
     ]
    }
   ],
   "source": [
    "print(1e15)\n",
    "print(1e16)"
   ]
  },
  {
   "cell_type": "code",
   "execution_count": 119,
   "id": "fa88bd98",
   "metadata": {},
   "outputs": [
    {
     "name": "stdout",
     "output_type": "stream",
     "text": [
      "0.0001\n",
      "1e-05\n"
     ]
    }
   ],
   "source": [
    "print(1e-4) # 과학적 표기법의 결과는 언제나 실수\n",
    "print(1e-5)"
   ]
  },
  {
   "cell_type": "code",
   "execution_count": 120,
   "id": "8d653b86",
   "metadata": {},
   "outputs": [
    {
     "name": "stdout",
     "output_type": "stream",
     "text": [
      "97\n",
      "97\n",
      "97\n",
      "97\n"
     ]
    }
   ],
   "source": [
    "print(97)\n",
    "print(0x61) # 16진수, hex\n",
    "print(0o141) # 8진수, oct\n",
    "print(0b01100001) # 2진수, bin"
   ]
  },
  {
   "cell_type": "code",
   "execution_count": 121,
   "id": "a467ff17",
   "metadata": {},
   "outputs": [
    {
     "name": "stdout",
     "output_type": "stream",
     "text": [
      "97\n",
      "0x61\n",
      "0o141\n",
      "0b1100001\n"
     ]
    }
   ],
   "source": [
    "print(97)\n",
    "print(hex(97))\n",
    "print(oct(97))\n",
    "print(bin(97))"
   ]
  },
  {
   "cell_type": "code",
   "execution_count": 122,
   "id": "b9879e2f",
   "metadata": {},
   "outputs": [
    {
     "name": "stdout",
     "output_type": "stream",
     "text": [
      "107\n",
      "107\n",
      "107\n"
     ]
    }
   ],
   "source": [
    "print(0x61 + 10)\n",
    "print(0o141 + 10)\n",
    "print(0b1100001 + 10)"
   ]
  },
  {
   "cell_type": "code",
   "execution_count": 123,
   "id": "09fd8671",
   "metadata": {},
   "outputs": [
    {
     "ename": "TypeError",
     "evalue": "can only concatenate str (not \"int\") to str",
     "output_type": "error",
     "traceback": [
      "\u001b[1;31m---------------------------------------------------------------------------\u001b[0m",
      "\u001b[1;31mTypeError\u001b[0m                                 Traceback (most recent call last)",
      "Input \u001b[1;32mIn [123]\u001b[0m, in \u001b[0;36m<cell line: 1>\u001b[1;34m()\u001b[0m\n\u001b[1;32m----> 1\u001b[0m \u001b[38;5;28;43mhex\u001b[39;49m\u001b[43m(\u001b[49m\u001b[38;5;241;43m97\u001b[39;49m\u001b[43m)\u001b[49m\u001b[43m \u001b[49m\u001b[38;5;241;43m+\u001b[39;49m\u001b[43m \u001b[49m\u001b[38;5;241;43m10\u001b[39;49m \u001b[38;5;66;03m# 문자열 + 숫자이기 때문에 오류 발생\u001b[39;00m\n\u001b[0;32m      2\u001b[0m \u001b[38;5;28mprint\u001b[39m(\u001b[38;5;28mhex\u001b[39m(\u001b[38;5;241m97\u001b[39m) \u001b[38;5;241m+\u001b[39m \u001b[38;5;241m10\u001b[39m)\n",
      "\u001b[1;31mTypeError\u001b[0m: can only concatenate str (not \"int\") to str"
     ]
    }
   ],
   "source": [
    "hex(97) + 10 # 문자열 + 숫자이기 때문에 오류 발생\n",
    "print(hex(97) + 10) # 문자열 + 숫자이기 때문에 오류 발생"
   ]
  },
  {
   "cell_type": "code",
   "execution_count": 124,
   "id": "fdc57376",
   "metadata": {},
   "outputs": [
    {
     "data": {
      "text/plain": [
       "'0x6b'"
      ]
     },
     "execution_count": 124,
     "metadata": {},
     "output_type": "execute_result"
    }
   ],
   "source": [
    "hex(97 + 10) #변환함수는 모든 연산 마치고 마지막 결과 변환할 때 사용"
   ]
  },
  {
   "cell_type": "code",
   "execution_count": 125,
   "id": "f175c671",
   "metadata": {},
   "outputs": [
    {
     "name": "stdout",
     "output_type": "stream",
     "text": [
      "0x61\n",
      "<class 'str'>\n"
     ]
    }
   ],
   "source": [
    "print(hex(97))\n",
    "print(type(hex(97))) # hex(97)는 문자열"
   ]
  },
  {
   "cell_type": "code",
   "execution_count": 126,
   "id": "119c913c",
   "metadata": {},
   "outputs": [
    {
     "name": "stdout",
     "output_type": "stream",
     "text": [
      "8\n"
     ]
    }
   ],
   "source": [
    "print(3 + 5)"
   ]
  },
  {
   "cell_type": "code",
   "execution_count": 127,
   "id": "df89e526",
   "metadata": {},
   "outputs": [
    {
     "ename": "TypeError",
     "evalue": "unsupported operand type(s) for +: 'int' and 'str'",
     "output_type": "error",
     "traceback": [
      "\u001b[1;31m---------------------------------------------------------------------------\u001b[0m",
      "\u001b[1;31mTypeError\u001b[0m                                 Traceback (most recent call last)",
      "Input \u001b[1;32mIn [127]\u001b[0m, in \u001b[0;36m<cell line: 1>\u001b[1;34m()\u001b[0m\n\u001b[1;32m----> 1\u001b[0m \u001b[38;5;28mprint\u001b[39m(\u001b[38;5;241;43m3\u001b[39;49m\u001b[43m \u001b[49m\u001b[38;5;241;43m+\u001b[39;49m\u001b[43m \u001b[49m\u001b[38;5;124;43m'\u001b[39;49m\u001b[38;5;124;43m문자열\u001b[39;49m\u001b[38;5;124;43m'\u001b[39;49m)\n",
      "\u001b[1;31mTypeError\u001b[0m: unsupported operand type(s) for +: 'int' and 'str'"
     ]
    }
   ],
   "source": [
    "print(3 + '문자열')"
   ]
  },
  {
   "cell_type": "code",
   "execution_count": 128,
   "id": "488f9e9c",
   "metadata": {},
   "outputs": [
    {
     "name": "stdout",
     "output_type": "stream",
     "text": [
      "문자열문자열문자열\n",
      "12\n"
     ]
    }
   ],
   "source": [
    "print(3 * '문자열') # 오류가 아님, 문자열 반복 연산자\n",
    "print(3 * 4) # 산술 연산자\n",
    "# 연산 시 중요한 것 1) 연산자 방향 2) 연산자 우선순위 3) 피연산자의 종류"
   ]
  },
  {
   "cell_type": "code",
   "execution_count": 129,
   "id": "d3b3f498",
   "metadata": {},
   "outputs": [
    {
     "name": "stdout",
     "output_type": "stream",
     "text": [
      "True False\n"
     ]
    }
   ],
   "source": [
    "print(True, False) # True, False는 예약어"
   ]
  },
  {
   "cell_type": "code",
   "execution_count": 130,
   "id": "7a094b63",
   "metadata": {},
   "outputs": [
    {
     "ename": "NameError",
     "evalue": "name 'true' is not defined",
     "output_type": "error",
     "traceback": [
      "\u001b[1;31m---------------------------------------------------------------------------\u001b[0m",
      "\u001b[1;31mNameError\u001b[0m                                 Traceback (most recent call last)",
      "Input \u001b[1;32mIn [130]\u001b[0m, in \u001b[0;36m<cell line: 1>\u001b[1;34m()\u001b[0m\n\u001b[1;32m----> 1\u001b[0m \u001b[38;5;28mprint\u001b[39m(\u001b[43mtrue\u001b[49m)\n",
      "\u001b[1;31mNameError\u001b[0m: name 'true' is not defined"
     ]
    }
   ],
   "source": [
    "print(true) # True는 반드시 대문자"
   ]
  },
  {
   "cell_type": "code",
   "execution_count": 131,
   "id": "fc3cd290",
   "metadata": {},
   "outputs": [
    {
     "name": "stdout",
     "output_type": "stream",
     "text": [
      "<class 'bool'> <class 'bool'>\n"
     ]
    }
   ],
   "source": [
    "print(type(True), type(False))"
   ]
  },
  {
   "cell_type": "code",
   "execution_count": 132,
   "id": "337a1650",
   "metadata": {},
   "outputs": [
    {
     "name": "stdout",
     "output_type": "stream",
     "text": [
      "False\n",
      "True\n",
      "False\n",
      "True\n",
      "False\n",
      "True\n"
     ]
    }
   ],
   "source": [
    "print(5 == 3)\n",
    "print(5 != 3)\n",
    "print(5 < 3)\n",
    "print(5 > 3)\n",
    "print(5 <= 3)\n",
    "print(5 >= 3)"
   ]
  },
  {
   "cell_type": "code",
   "execution_count": 133,
   "id": "9fad9d61",
   "metadata": {},
   "outputs": [
    {
     "name": "stdout",
     "output_type": "stream",
     "text": [
      "False\n"
     ]
    }
   ],
   "source": [
    "print(5 == 'apple') # 동등 연산은 자료형 관계없이 같은지만 판단"
   ]
  },
  {
   "cell_type": "code",
   "execution_count": 134,
   "id": "96c04531",
   "metadata": {},
   "outputs": [
    {
     "ename": "TypeError",
     "evalue": "'>' not supported between instances of 'int' and 'str'",
     "output_type": "error",
     "traceback": [
      "\u001b[1;31m---------------------------------------------------------------------------\u001b[0m",
      "\u001b[1;31mTypeError\u001b[0m                                 Traceback (most recent call last)",
      "Input \u001b[1;32mIn [134]\u001b[0m, in \u001b[0;36m<cell line: 1>\u001b[1;34m()\u001b[0m\n\u001b[1;32m----> 1\u001b[0m \u001b[38;5;28mprint\u001b[39m(\u001b[38;5;241;43m5\u001b[39;49m\u001b[43m \u001b[49m\u001b[38;5;241;43m>\u001b[39;49m\u001b[43m \u001b[49m\u001b[38;5;124;43m'\u001b[39;49m\u001b[38;5;124;43mapple\u001b[39;49m\u001b[38;5;124;43m'\u001b[39;49m)\n",
      "\u001b[1;31mTypeError\u001b[0m: '>' not supported between instances of 'int' and 'str'"
     ]
    }
   ],
   "source": [
    "print(5 > 'apple') # > 연산은 크기를 비교하기 때문에 자료형이 같아야만 계산 가능"
   ]
  },
  {
   "cell_type": "code",
   "execution_count": 135,
   "id": "72a987a8",
   "metadata": {},
   "outputs": [
    {
     "name": "stdout",
     "output_type": "stream",
     "text": [
      "True\n",
      "True\n"
     ]
    }
   ],
   "source": [
    "print (5 > 3)\n",
    "print (5 > 3.5) # 숫자는 같은 종류이므로 비교 가능"
   ]
  },
  {
   "cell_type": "code",
   "execution_count": 136,
   "id": "cc0f4aa8",
   "metadata": {},
   "outputs": [
    {
     "data": {
      "text/plain": [
       "2"
      ]
     },
     "execution_count": 136,
     "metadata": {},
     "output_type": "execute_result"
    }
   ],
   "source": [
    "True + 1 # True = 1, True는 숫자라고 할 수 있음"
   ]
  },
  {
   "cell_type": "code",
   "execution_count": 137,
   "id": "118ca01b",
   "metadata": {},
   "outputs": [
    {
     "data": {
      "text/plain": [
       "2"
      ]
     },
     "execution_count": 137,
     "metadata": {},
     "output_type": "execute_result"
    }
   ],
   "source": [
    "False + 2 # False = 0, False도 숫자라고 할 수 있음"
   ]
  },
  {
   "cell_type": "code",
   "execution_count": 138,
   "id": "8da9e3f9",
   "metadata": {},
   "outputs": [
    {
     "name": "stdout",
     "output_type": "stream",
     "text": [
      "True\n"
     ]
    }
   ],
   "source": [
    "print (3 > True)"
   ]
  },
  {
   "cell_type": "code",
   "execution_count": 139,
   "id": "aa1d7de4",
   "metadata": {},
   "outputs": [
    {
     "name": "stdout",
     "output_type": "stream",
     "text": [
      "True\n"
     ]
    }
   ],
   "source": [
    "print('apple' < 'tree') # 파이썬에서는 문자열과 문자열을 비교할 때 비교연산자 사용 가능"
   ]
  },
  {
   "cell_type": "code",
   "execution_count": 140,
   "id": "6a17051b",
   "metadata": {},
   "outputs": [
    {
     "name": "stdout",
     "output_type": "stream",
     "text": [
      "False\n"
     ]
    }
   ],
   "source": [
    "print('사과' < 'tree')"
   ]
  },
  {
   "cell_type": "code",
   "execution_count": null,
   "id": "e5d51408",
   "metadata": {},
   "outputs": [],
   "source": [
    "# 문자열의 크기를 비교하는 기준?\n",
    "'''\n",
    "    다음 문자열의 크기를 고려하여 그 크기 순으로 나열하는 순서를 결정하세요.\n",
    "    1) 'apple'\n",
    "    2) 'APPLE'\n",
    "    3) '사과'\n",
    "    4) '1234'\n",
    "    \n",
    "    파이썬 인코딩 방식: UTF-8\n",
    "    \n",
    "    ### 문자열 크기 순서 ###\n",
    "    숫자 문자 < 알파벳 대문자 < 알파벳 소문자 < 한글 문자\n",
    "'''\n",
    "# ASCII코드는 알파벳 대소문자 (52개), 숫자(10개), 특수문자, 제어문자 정렬 가능 (128개)"
   ]
  },
  {
   "cell_type": "code",
   "execution_count": 141,
   "id": "5558a1ab",
   "metadata": {},
   "outputs": [
    {
     "name": "stdout",
     "output_type": "stream",
     "text": [
      "97\n",
      "65\n",
      "49324\n",
      "49\n"
     ]
    }
   ],
   "source": [
    "print(ord('a')) # 3. 소문자\n",
    "print(ord('A')) # 2. 대문자\n",
    "print(ord('사')) # 4. 한글\n",
    "print(ord('1')) # 1. 숫자"
   ]
  },
  {
   "cell_type": "code",
   "execution_count": 142,
   "id": "9b6cd70b",
   "metadata": {},
   "outputs": [
    {
     "name": "stdout",
     "output_type": "stream",
     "text": [
      "97 98 99 122\n",
      "65 66 67 90\n"
     ]
    }
   ],
   "source": [
    "print(ord('a'), ord('b'), ord('c'), ord('z'))\n",
    "print(ord('A'), ord('B'), ord('C'), ord('Z'))"
   ]
  },
  {
   "cell_type": "code",
   "execution_count": 143,
   "id": "001056e2",
   "metadata": {},
   "outputs": [
    {
     "data": {
      "text/plain": [
       "True"
      ]
     },
     "execution_count": 143,
     "metadata": {},
     "output_type": "execute_result"
    }
   ],
   "source": [
    "'abcd' < 'abde' # 앞에서부터 하나씩 크기 비교"
   ]
  },
  {
   "cell_type": "code",
   "execution_count": 144,
   "id": "210d9a6f",
   "metadata": {},
   "outputs": [
    {
     "name": "stdout",
     "output_type": "stream",
     "text": [
      "True\n",
      "True\n",
      "True\n"
     ]
    }
   ],
   "source": [
    "print('1234' < 'APPLE')\n",
    "print('APPLE' < 'apple')\n",
    "print('apple' < '사과')     "
   ]
  },
  {
   "cell_type": "code",
   "execution_count": 145,
   "id": "1ee65d60",
   "metadata": {},
   "outputs": [
    {
     "name": "stdout",
     "output_type": "stream",
     "text": [
      "False\n",
      "True\n",
      "False\n"
     ]
    }
   ],
   "source": [
    "print(True and False) # 실제로 이런 코드를 작성할 일은 없음\n",
    "print(True or False)\n",
    "print(not True)"
   ]
  },
  {
   "cell_type": "code",
   "execution_count": null,
   "id": "5c0cd99b",
   "metadata": {},
   "outputs": [],
   "source": [
    "'''\n",
    "문제 1) 사용자에게 수학 점수를 입력으로 받아 80점 이상이면 True, 아니면 False를 출력하는 코드를 작성하세요.\n",
    "'''"
   ]
  },
  {
   "cell_type": "code",
   "execution_count": 146,
   "id": "6d307e03",
   "metadata": {},
   "outputs": [
    {
     "name": "stdout",
     "output_type": "stream",
     "text": [
      "수학 점수를 입력하세요: 80\n",
      "<class 'str'> 80\n"
     ]
    }
   ],
   "source": [
    "math = input('수학 점수를 입력하세요: ') # input을 통해 받는 값은 언제나 문자열로 변환됨\n",
    "\n",
    "print(type(math), math)"
   ]
  },
  {
   "cell_type": "code",
   "execution_count": 150,
   "id": "8e673835",
   "metadata": {},
   "outputs": [
    {
     "name": "stdout",
     "output_type": "stream",
     "text": [
      "<class 'int'>\n",
      "<class 'str'>\n",
      "<class 'int'>\n"
     ]
    }
   ],
   "source": [
    "print(type(1234))\n",
    "print(type('1234'))\n",
    "print(type(int('1234')))"
   ]
  },
  {
   "cell_type": "code",
   "execution_count": 151,
   "id": "030b3f4e",
   "metadata": {},
   "outputs": [
    {
     "data": {
      "text/plain": [
       "str"
      ]
     },
     "execution_count": 151,
     "metadata": {},
     "output_type": "execute_result"
    }
   ],
   "source": [
    "type('78.5')"
   ]
  },
  {
   "cell_type": "code",
   "execution_count": 152,
   "id": "f19159d4",
   "metadata": {},
   "outputs": [
    {
     "data": {
      "text/plain": [
       "float"
      ]
     },
     "execution_count": 152,
     "metadata": {},
     "output_type": "execute_result"
    }
   ],
   "source": [
    "type(float('78.5'))"
   ]
  },
  {
   "cell_type": "code",
   "execution_count": 153,
   "id": "693514a3",
   "metadata": {},
   "outputs": [
    {
     "name": "stdout",
     "output_type": "stream",
     "text": [
      "수학 점수를 입력하세요: 70\n",
      "False\n"
     ]
    }
   ],
   "source": [
    "math = input('수학 점수를 입력하세요: ') # input을 통해 받는 값은 언제나 문자열로 변환됨\n",
    "math = int(math) # int를 통해 str를 int화\n",
    "\n",
    "print(math >= 80)"
   ]
  },
  {
   "cell_type": "code",
   "execution_count": null,
   "id": "183f8bc7",
   "metadata": {},
   "outputs": [],
   "source": [
    "'''\n",
    "문제 2) 사용자에게 수학과 영어 점수를 입력으로 받아 모든 점수가 80점 이상이면 True, 아니면 False를 출력하는 코드를 작성하세요.\n",
    "'''"
   ]
  },
  {
   "cell_type": "code",
   "execution_count": 159,
   "id": "cb6096e4",
   "metadata": {},
   "outputs": [
    {
     "name": "stdout",
     "output_type": "stream",
     "text": [
      "수학 점수를 입력하세요: 81\n",
      "영어 점수를 입력하세요: 78\n",
      "결과:  False\n"
     ]
    }
   ],
   "source": [
    "math = int(input('수학 점수를 입력하세요: '))\n",
    "eng = int(input('영어 점수를 입력하세요: '))\n",
    "\n",
    "print('결과: ', math and eng >= 80) # math >= 80 and eng >= 80 로 써도 됨"
   ]
  },
  {
   "cell_type": "code",
   "execution_count": null,
   "id": "c38702ee",
   "metadata": {},
   "outputs": [],
   "source": [
    "'''\n",
    "문제 3) 사용자에게 수학과 영어 점수를 입력으로 받아 한 과목이라도 점수가 80점 미만이면 True,\n",
    "아니면 False를 출력하는 코드를 작성하세요.\n",
    "'''"
   ]
  },
  {
   "cell_type": "code",
   "execution_count": 164,
   "id": "b815e101",
   "metadata": {},
   "outputs": [
    {
     "name": "stdout",
     "output_type": "stream",
     "text": [
      "수학 점수를 입력하세요: 81\n",
      "영어 점수를 입력하세요: 82\n",
      "결과:  False\n"
     ]
    }
   ],
   "source": [
    "math = int(input('수학 점수를 입력하세요: ')) # 함수 안에 함수 사용하는 것을 함수 중첩이라고 함, 내함수 먼저 계산\n",
    "eng = int(input('영어 점수를 입력하세요: '))\n",
    "\n",
    "print('결과: ', math < 80 or eng < 80)\n",
    "# print('결과: ', math or eng < 80) 으로 하면 오류 생김"
   ]
  },
  {
   "cell_type": "code",
   "execution_count": null,
   "id": "d85d3391",
   "metadata": {},
   "outputs": [],
   "source": [
    "'''\n",
    "문제 2) 사용자에게 수학과 영어 점수를 입력으로 받아 모든 점수가 80점 이상이면 True, 아니면 False를 출력하는 코드를 작성하세요.\n",
    "단, and 연산자를 사용할 수 없음.\n",
    "'''"
   ]
  },
  {
   "cell_type": "code",
   "execution_count": 173,
   "id": "1c6ba7e6",
   "metadata": {},
   "outputs": [
    {
     "name": "stdout",
     "output_type": "stream",
     "text": [
      "수학 점수를 입력하세요: 80\n",
      "영어 점수를 입력하세요: 90\n",
      "결과:  True\n"
     ]
    }
   ],
   "source": [
    "math = int(input('수학 점수를 입력하세요: '))\n",
    "eng = int(input('영어 점수를 입력하세요: '))\n",
    "\n",
    "print('결과: ', not (math < 80 or eng < 80)) # a and b 의 반대는 not a or b\n",
    "# 80을 70 + 10으로 해도 됨. 산술 > 비교 > 논리 연산자 순으로 우선순위 작동"
   ]
  },
  {
   "cell_type": "code",
   "execution_count": 174,
   "id": "67e894aa",
   "metadata": {},
   "outputs": [
    {
     "name": "stdout",
     "output_type": "stream",
     "text": [
      "False\n"
     ]
    }
   ],
   "source": [
    "print(((3 > 0) or (-5 > 0)) and ((4 > 8) or (3 < 0)))"
   ]
  },
  {
   "cell_type": "code",
   "execution_count": null,
   "id": "70b353a2",
   "metadata": {},
   "outputs": [],
   "source": [
    "'''\n",
    "총 정리 문제) 다음 결과를 출력하는 코드를 작성하세요.\n",
    "\n",
    "실행 예1)\n",
    "하나의 실수를 입력하세요: 3.6\n",
    "버림: 3\n",
    "반올림: 4\n",
    "\n",
    "실행 예2)\n",
    "하나의 실수를 입력하세요: 3.4\n",
    "버림: 3\n",
    "반올림: 3\n",
    "'''"
   ]
  },
  {
   "cell_type": "code",
   "execution_count": 182,
   "id": "9b156ab4",
   "metadata": {},
   "outputs": [
    {
     "name": "stdout",
     "output_type": "stream",
     "text": [
      "하나의 실수를 입력하세요: 3.55667\n",
      "\n",
      "버림: 3\n",
      "반올림: 4\n"
     ]
    }
   ],
   "source": [
    "num = float(input('하나의 실수를 입력하세요: '))\n",
    "\n",
    "print('\\n버림:', int(num)) # \\n 입력하면 줄바꿈 됨\n",
    "print('반올림:', int(num + 0.5)) # 0.5 더해서 반올림"
   ]
  }
 ],
 "metadata": {
  "kernelspec": {
   "display_name": "Python 3 (ipykernel)",
   "language": "python",
   "name": "python3"
  },
  "language_info": {
   "codemirror_mode": {
    "name": "ipython",
    "version": 3
   },
   "file_extension": ".py",
   "mimetype": "text/x-python",
   "name": "python",
   "nbconvert_exporter": "python",
   "pygments_lexer": "ipython3",
   "version": "3.9.12"
  }
 },
 "nbformat": 4,
 "nbformat_minor": 5
}
