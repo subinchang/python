{
 "cells": [
  {
   "cell_type": "code",
   "execution_count": 1,
   "id": "5f60e93c",
   "metadata": {},
   "outputs": [
    {
     "name": "stdout",
     "output_type": "stream",
     "text": [
      "<class 'int'> 1234\n"
     ]
    }
   ],
   "source": [
    "var1 = 1234\n",
    "print(type(var1), var1)"
   ]
  },
  {
   "cell_type": "code",
   "execution_count": 4,
   "id": "3c6d8105",
   "metadata": {},
   "outputs": [
    {
     "name": "stdout",
     "output_type": "stream",
     "text": [
      "<class 'float'> 1234.5678\n"
     ]
    }
   ],
   "source": [
    "var2 = 1234.5678\n",
    "print(type(var2), var2)"
   ]
  },
  {
   "cell_type": "code",
   "execution_count": 5,
   "id": "63523a77",
   "metadata": {},
   "outputs": [
    {
     "ename": "NameError",
     "evalue": "name 'var3' is not defined",
     "output_type": "error",
     "traceback": [
      "\u001b[1;31m---------------------------------------------------------------------------\u001b[0m",
      "\u001b[1;31mNameError\u001b[0m                                 Traceback (most recent call last)",
      "Input \u001b[1;32mIn [5]\u001b[0m, in \u001b[0;36m<cell line: 1>\u001b[1;34m()\u001b[0m\n\u001b[1;32m----> 1\u001b[0m \u001b[43mvar3\u001b[49m\n\u001b[0;32m      2\u001b[0m var3 \u001b[38;5;241m=\u001b[39m \u001b[38;5;241m1234\u001b[39m\n",
      "\u001b[1;31mNameError\u001b[0m: name 'var3' is not defined"
     ]
    }
   ],
   "source": [
    "var3 # 변수는 반드시 만들면서 값을 지정해 주어야 함.\n",
    "var3 = 1234"
   ]
  },
  {
   "cell_type": "code",
   "execution_count": 6,
   "id": "5e98696d",
   "metadata": {},
   "outputs": [
    {
     "name": "stdout",
     "output_type": "stream",
     "text": [
      "70\n"
     ]
    }
   ],
   "source": [
    "math_score3 = 70\n",
    "print(math_score3)"
   ]
  },
  {
   "cell_type": "code",
   "execution_count": 7,
   "id": "9512b714",
   "metadata": {},
   "outputs": [
    {
     "ename": "SyntaxError",
     "evalue": "invalid syntax (1156488921.py, line 1)",
     "output_type": "error",
     "traceback": [
      "\u001b[1;36m  Input \u001b[1;32mIn [7]\u001b[1;36m\u001b[0m\n\u001b[1;33m    3mom = 20\u001b[0m\n\u001b[1;37m     ^\u001b[0m\n\u001b[1;31mSyntaxError\u001b[0m\u001b[1;31m:\u001b[0m invalid syntax\n"
     ]
    }
   ],
   "source": [
    "3mom = 20 # 숫자로 시작하는 변수는 불가"
   ]
  },
  {
   "cell_type": "code",
   "execution_count": 9,
   "id": "eba2d348",
   "metadata": {},
   "outputs": [
    {
     "name": "stdout",
     "output_type": "stream",
     "text": [
      "손흥민\n"
     ]
    }
   ],
   "source": [
    "_name = '손흥민' # _로 시작하거나 끝날 수 있지만 사용하지 않음. _는 특별한 의미를 가짐.\n",
    "print(_name)"
   ]
  },
  {
   "cell_type": "code",
   "execution_count": 10,
   "id": "8acece7f",
   "metadata": {},
   "outputs": [
    {
     "name": "stdout",
     "output_type": "stream",
     "text": [
      "사과 나도 사과\n"
     ]
    }
   ],
   "source": [
    "apple = '사과'\n",
    "APPLE = '나도 사과'\n",
    "\n",
    "print(apple, APPLE)"
   ]
  },
  {
   "cell_type": "code",
   "execution_count": 3,
   "id": "89de3177",
   "metadata": {},
   "outputs": [
    {
     "name": "stdout",
     "output_type": "stream",
     "text": [
      "변수 값\n"
     ]
    }
   ],
   "source": [
    "변수 = '변수 값' # 변수 명은 한글일 수 있음. UTF-8 인코딩 방식에서 지원하는 건 다 가능하지만 권장하지는 않음.\n",
    "print(변수)"
   ]
  },
  {
   "cell_type": "code",
   "execution_count": 11,
   "id": "2e2aa916",
   "metadata": {},
   "outputs": [
    {
     "ename": "SyntaxError",
     "evalue": "invalid syntax (2491307893.py, line 1)",
     "output_type": "error",
     "traceback": [
      "\u001b[1;36m  Input \u001b[1;32mIn [11]\u001b[1;36m\u001b[0m\n\u001b[1;33m    my$name = '손흥민'\u001b[0m\n\u001b[1;37m      ^\u001b[0m\n\u001b[1;31mSyntaxError\u001b[0m\u001b[1;31m:\u001b[0m invalid syntax\n"
     ]
    }
   ],
   "source": [
    "my$name = '손흥민' # 다른 언어와 달리 파이썬은 $ 사용 불가\n",
    "print(my$name)"
   ]
  },
  {
   "cell_type": "code",
   "execution_count": 12,
   "id": "d52e7333",
   "metadata": {},
   "outputs": [
    {
     "ename": "SyntaxError",
     "evalue": "invalid syntax (3413986133.py, line 1)",
     "output_type": "error",
     "traceback": [
      "\u001b[1;36m  Input \u001b[1;32mIn [12]\u001b[1;36m\u001b[0m\n\u001b[1;33m    for = '사과'\u001b[0m\n\u001b[1;37m        ^\u001b[0m\n\u001b[1;31mSyntaxError\u001b[0m\u001b[1;31m:\u001b[0m invalid syntax\n"
     ]
    }
   ],
   "source": [
    "for = '사과' # for과 같은 예약어는 변수로 사용하지 않음\n",
    "print(for)"
   ]
  },
  {
   "cell_type": "code",
   "execution_count": 6,
   "id": "034c1548",
   "metadata": {},
   "outputs": [
    {
     "name": "stdout",
     "output_type": "stream",
     "text": [
      "90 85 80\n"
     ]
    }
   ],
   "source": [
    "math_score = 90 # _(underscore) 가능\n",
    "mathScore = 85 # 단어와 단어가 구분되는 지점에서 대문자 사용하는 경우 많음.\n",
    "ms = 80 # 권장하지 않음. 변수명은 의미가 파악될 수 있게 지정.\n",
    "\n",
    "print(math_score, mathScore, ms)"
   ]
  },
  {
   "cell_type": "code",
   "execution_count": null,
   "id": "e0121af1",
   "metadata": {},
   "outputs": [],
   "source": [
    "'''\n",
    "### 파이썬 데이터 타입 ###\n",
    "\n",
    "1. 기본 자료형(primitive type): 한 번에 하나의 값을 저장하는 데이터 타입\n",
    "    - int\n",
    "        C언어, 자바의 int는 4바이트, 32비트로 정해져 있음) (파이썬 int는 값의 범위에 제한이 없음\n",
    "    - float\n",
    "        IEEE(국제전기전자표준협회)가 754번째 표준(IEEE754)으로 컴퓨터에 실수값 저장에 대한 규칙을 정해놓음 \n",
    "        실수값을 4바이트 또는 8바이트로 저장하는데 파이썬은 8바이트만 지원\n",
    "        64비트(8바이트) = 1(부호 저장) / 12(지수 저장) / 51(가수 저장) 비트로 나눌 수 있음.\n",
    "    - bool\n",
    "    - complex(복소수)\n",
    "\n",
    "2. 복합 자료형(container type): 한 번에 여러 값 저장 가능한 데이터 타입\n",
    "    - str\n",
    "        문자들의 집합으로 이해하면 되지만 자료 저장소로서의 의미는 부족하기 때문에 나머지 4개와 구분됨\n",
    "    --------------------------\n",
    "    - list\n",
    "        가장 폭넓게, 많이 사용됨\n",
    "    - tuple\n",
    "    - set\n",
    "    - dict\n",
    "'''"
   ]
  },
  {
   "cell_type": "code",
   "execution_count": 7,
   "id": "66ae5475",
   "metadata": {},
   "outputs": [
    {
     "data": {
      "text/plain": [
       "1524157875323883675049535156256668194500838287337600975522511812231126352691000152415888766956267751562263087639079520012193273126047859425087639153757049236500533455762536198787501905199875019052100"
      ]
     },
     "execution_count": 7,
     "metadata": {},
     "output_type": "execute_result"
    }
   ],
   "source": [
    "num1 = 1234567890123456789012345678901234567890123456789012345678901234567890123456789012345678901234567890\n",
    "num2 = 1234567890123456789012345678901234567890123456789012345678901234567890123456789012345678901234567890\n",
    "\n",
    "num1 * num2 # 파이썬은 100자리 * 100자리도 가능함. 즉, int 값의 범위의 제한이 없음"
   ]
  },
  {
   "cell_type": "code",
   "execution_count": 10,
   "id": "6260e11f",
   "metadata": {},
   "outputs": [
    {
     "name": "stdout",
     "output_type": "stream",
     "text": [
      "8\n",
      "0.5\n"
     ]
    }
   ],
   "source": [
    "# 8.5 => 8 + 0.5\n",
    "print(0b1000)\n",
    "print(0b1 * 2 ** -1)"
   ]
  },
  {
   "cell_type": "code",
   "execution_count": null,
   "id": "22bb4470",
   "metadata": {},
   "outputs": [],
   "source": [
    "'''\n",
    "문제) 10진수 8.5를 2진수로 변환하여 출력하는 코드를 작성하세요.\n",
    "'''"
   ]
  },
  {
   "cell_type": "code",
   "execution_count": 13,
   "id": "09820ecc",
   "metadata": {},
   "outputs": [
    {
     "data": {
      "text/plain": [
       "8.5"
      ]
     },
     "execution_count": 13,
     "metadata": {},
     "output_type": "execute_result"
    }
   ],
   "source": [
    "0b10001 * 2 ** -1 # 가수: 10001, 지수: -1"
   ]
  },
  {
   "cell_type": "code",
   "execution_count": 14,
   "id": "bd767ba2",
   "metadata": {},
   "outputs": [
    {
     "data": {
      "text/plain": [
       "complex"
      ]
     },
     "execution_count": 14,
     "metadata": {},
     "output_type": "execute_result"
    }
   ],
   "source": [
    "type(3 + 4j) # 파이썬에서 복소수는 i가 아니라 j를 사용함"
   ]
  },
  {
   "cell_type": "code",
   "execution_count": 15,
   "id": "6232c423",
   "metadata": {},
   "outputs": [
    {
     "data": {
      "text/plain": [
       "'문자열'"
      ]
     },
     "execution_count": 15,
     "metadata": {},
     "output_type": "execute_result"
    }
   ],
   "source": [
    "'문자열'"
   ]
  },
  {
   "cell_type": "code",
   "execution_count": 18,
   "id": "8679135c",
   "metadata": {},
   "outputs": [
    {
     "data": {
      "text/plain": [
       "'문자열'"
      ]
     },
     "execution_count": 18,
     "metadata": {},
     "output_type": "execute_result"
    }
   ],
   "source": [
    "\"문자열\"\n",
    "# 큰 따옴표, 작은 따옴표 둘 다 가능하지만 작은 따옴표가 기본임"
   ]
  },
  {
   "cell_type": "code",
   "execution_count": 20,
   "id": "fb9f6aac",
   "metadata": {},
   "outputs": [
    {
     "name": "stdout",
     "output_type": "stream",
     "text": [
      "This is a \"double\" quotation test\n",
      "This is a 'single' quotation test\n"
     ]
    }
   ],
   "source": [
    "str1 = 'This is a \"double\" quotation test'\n",
    "str2 = \"This is a 'single' quotation test\"\n",
    "\n",
    "print(str1)\n",
    "print(str2)\n",
    "\n",
    "# 큰 따옴표와 작은 따옴표는 중첩 불가.만약 안에 작은 따옴표 있으면 밖에 큰 따옴표 사용해야함 (vice versa)"
   ]
  },
  {
   "cell_type": "code",
   "execution_count": 21,
   "id": "b88a6f35",
   "metadata": {},
   "outputs": [
    {
     "name": "stdout",
     "output_type": "stream",
     "text": [
      "This is a 'double' quotation test\n"
     ]
    }
   ],
   "source": [
    "str3 = 'This is a \\'double\\' quotation test' # 이전에는 escape character \\ 썼지만 이제는 그렇게 하지 않음.\n",
    "print(str3)"
   ]
  },
  {
   "cell_type": "code",
   "execution_count": 27,
   "id": "a1a88eae",
   "metadata": {},
   "outputs": [
    {
     "name": "stdout",
     "output_type": "stream",
     "text": [
      "동해물과 백두산이\n",
      "마르고 닳도록\n",
      "동해물과 백두산이\n",
      "마르고 닳도록\n",
      "\n",
      "\n",
      "동해물과 백두산이\n",
      "마르고 닳도록\n"
     ]
    }
   ],
   "source": [
    "# 3중 따옴표 위치에 따라 행 추가 여부 결정됨\n",
    "\n",
    "str4 = '''동해물과 백두산이\n",
    "마르고 닳도록''' # 위아래 행 추가 없음\n",
    "str5 = '''동해물과 백두산이\n",
    "마르고 닳도록\n",
    "''' # 아래에 행 추가\n",
    "str6 = \"\"\"\n",
    "동해물과 백두산이\n",
    "마르고 닳도록\"\"\" # 위에 행 추가\n",
    "\n",
    "print(str4)\n",
    "print(str5)\n",
    "print(str6)"
   ]
  },
  {
   "cell_type": "code",
   "execution_count": 30,
   "id": "5382d0be",
   "metadata": {},
   "outputs": [
    {
     "data": {
      "text/plain": [
       "'동해물과 백두산이\\n마르고 닳도록'"
      ]
     },
     "execution_count": 30,
     "metadata": {},
     "output_type": "execute_result"
    }
   ],
   "source": [
    "str4\n",
    "# \\n = escape character, 개행 문자\n",
    "# 3중 따옴표 쓸 때는 직접 실행이 아니라 print 통해 실행해야 함"
   ]
  },
  {
   "cell_type": "code",
   "execution_count": 31,
   "id": "30fb2069",
   "metadata": {},
   "outputs": [
    {
     "data": {
      "text/plain": [
       "8"
      ]
     },
     "execution_count": 31,
     "metadata": {},
     "output_type": "execute_result"
    }
   ],
   "source": [
    "# 주석(comment): 파이썬 인터프리터가 해석하지 않고 무시하는 영역\n",
    "# 파이썬은 한 줄짜리 주석만 제공함. 여러 줄 주석은 삼중 큰/작은 따옴표로 표시함.\n",
    "\n",
    "'''\n",
    "    여러 줄 주석을 사용하기 위해서\n",
    "    삼중 따옴표 문자열을 사용할 수 있습니다.\n",
    "'''\n",
    "\n",
    "3 + 5 # 한 줄, 여러 줄 주석 모두 무시됨"
   ]
  },
  {
   "cell_type": "code",
   "execution_count": 37,
   "id": "96b300c2",
   "metadata": {},
   "outputs": [
    {
     "data": {
      "text/plain": [
       "'python programming language'"
      ]
     },
     "execution_count": 37,
     "metadata": {},
     "output_type": "execute_result"
    }
   ],
   "source": [
    "# 문자열 연결 연산\n",
    "'python ' + 'programming ' + 'language'"
   ]
  },
  {
   "cell_type": "code",
   "execution_count": 41,
   "id": "bc2b6fda",
   "metadata": {},
   "outputs": [
    {
     "data": {
      "text/plain": [
       "'pythonpythonpythonpythonpythonpythonpythonpythonpython'"
      ]
     },
     "execution_count": 41,
     "metadata": {},
     "output_type": "execute_result"
    }
   ],
   "source": [
    "# 문자열 반복 연산\n",
    "3 * 'python' * 3"
   ]
  },
  {
   "cell_type": "code",
   "execution_count": 42,
   "id": "97688ec0",
   "metadata": {},
   "outputs": [
    {
     "name": "stdout",
     "output_type": "stream",
     "text": [
      "<class 'list'> [90, 80, 85, 95]\n"
     ]
    }
   ],
   "source": [
    "stu1 = [90, 80, 85, 95]\n",
    "print(type(stu1), stu1)"
   ]
  },
  {
   "cell_type": "code",
   "execution_count": 44,
   "id": "dc1abd91",
   "metadata": {},
   "outputs": [
    {
     "name": "stdout",
     "output_type": "stream",
     "text": [
      "90 80 85 95\n"
     ]
    }
   ],
   "source": [
    "print(stu1[0], stu1[1], stu1[2], stu1[3]) # 정방향 인덱스"
   ]
  },
  {
   "cell_type": "code",
   "execution_count": 45,
   "id": "fbde6cc9",
   "metadata": {},
   "outputs": [
    {
     "name": "stdout",
     "output_type": "stream",
     "text": [
      "95 85 80 90\n"
     ]
    }
   ],
   "source": [
    "print(stu1[-1], stu1[-2], stu1[-3], stu1[-4]) # 역방향 인덱스"
   ]
  },
  {
   "cell_type": "code",
   "execution_count": 46,
   "id": "2f10d914",
   "metadata": {},
   "outputs": [
    {
     "data": {
      "text/plain": [
       "[90, 80, 85, 100]"
      ]
     },
     "execution_count": 46,
     "metadata": {},
     "output_type": "execute_result"
    }
   ],
   "source": [
    "stu1[3] = 100 # 리스트 내 특정 값 수정\n",
    "stu1"
   ]
  },
  {
   "cell_type": "code",
   "execution_count": 47,
   "id": "b00f8db6",
   "metadata": {},
   "outputs": [
    {
     "data": {
      "text/plain": [
       "['James', 'Robert', 'Lisa', 'Mary']"
      ]
     },
     "execution_count": 47,
     "metadata": {},
     "output_type": "execute_result"
    }
   ],
   "source": [
    "myFriends = ['James', 'Robert', 'Lisa', 'Mary']\n",
    "myFriends"
   ]
  },
  {
   "cell_type": "code",
   "execution_count": 49,
   "id": "f5084613",
   "metadata": {},
   "outputs": [
    {
     "name": "stdout",
     "output_type": "stream",
     "text": [
      "James Robert Mary Lisa\n"
     ]
    }
   ],
   "source": [
    "print(myFriends[0], myFriends[1], myFriends[-1], myFriends[-2])"
   ]
  },
  {
   "cell_type": "code",
   "execution_count": 72,
   "id": "7f7de09a",
   "metadata": {},
   "outputs": [
    {
     "name": "stdout",
     "output_type": "stream",
     "text": [
      "0 1 True ['James', 'Robert', 'Lisa', 'Mary']\n"
     ]
    }
   ],
   "source": [
    "mixed_list = [0, 1, 3.14, 'python', 'program', True, myFriends]\n",
    "print(mixed_list[0], mixed_list[1], mixed_list[-2], mixed_list[-1])"
   ]
  },
  {
   "cell_type": "code",
   "execution_count": 57,
   "id": "515181fb",
   "metadata": {},
   "outputs": [
    {
     "name": "stdout",
     "output_type": "stream",
     "text": [
      "James Robert Mary\n"
     ]
    }
   ],
   "source": [
    "print(mixed_list[-1][0], mixed_list[-1][1], mixed_list[-1][-1]) # [] 두번 써서 리스트 내 리스트에 접근 가능"
   ]
  },
  {
   "cell_type": "code",
   "execution_count": 58,
   "id": "18a76a6d",
   "metadata": {},
   "outputs": [
    {
     "data": {
      "text/plain": [
       "[1, 2, 3, 4, 5, 6, 7, 8]"
      ]
     },
     "execution_count": 58,
     "metadata": {},
     "output_type": "execute_result"
    }
   ],
   "source": [
    "lst1 = [1, 2, 3, 4]\n",
    "lst2 = [5, 6, 7, 8]\n",
    "\n",
    "lst1 + lst2"
   ]
  },
  {
   "cell_type": "code",
   "execution_count": 59,
   "id": "fb1c8a61",
   "metadata": {},
   "outputs": [
    {
     "name": "stdout",
     "output_type": "stream",
     "text": [
      "[1, 2, 3, 4] [5, 6, 7, 8]\n"
     ]
    }
   ],
   "source": [
    "print(lst1, lst2) # 리스트 연결/반복 연산은 원래의 리스트를 변경하는 게 아니라 새로운 리스트를 생성함"
   ]
  },
  {
   "cell_type": "code",
   "execution_count": 60,
   "id": "43e62dda",
   "metadata": {},
   "outputs": [
    {
     "data": {
      "text/plain": [
       "[1, 2, 3, 4, 1, 2, 3, 4, 1, 2, 3, 4]"
      ]
     },
     "execution_count": 60,
     "metadata": {},
     "output_type": "execute_result"
    }
   ],
   "source": [
    "lst1 * 3"
   ]
  },
  {
   "cell_type": "code",
   "execution_count": 61,
   "id": "1dbd9631",
   "metadata": {},
   "outputs": [
    {
     "data": {
      "text/plain": [
       "[1, 2, 3, 4]"
      ]
     },
     "execution_count": 61,
     "metadata": {},
     "output_type": "execute_result"
    }
   ],
   "source": [
    "lst1 # 원래의 리스트는 안 바뀜"
   ]
  },
  {
   "cell_type": "code",
   "execution_count": 67,
   "id": "272dbfd8",
   "metadata": {},
   "outputs": [
    {
     "name": "stdout",
     "output_type": "stream",
     "text": [
      "[1, 2, 3, 4]\n",
      "[1, 2, 3, 4]\n",
      "[0, 1, 2, 3, 4, 5]\n",
      "[0, 2, 4, 6, 8]\n",
      "[0, 1, 2, 3, 4, 5, 6, 7, 8, 9]\n"
     ]
    }
   ],
   "source": [
    "lst = [0, 1, 2, 3, 4, 5, 6, 7, 8, 9]\n",
    "      \n",
    "print(lst[1:5:1])\n",
    "print(lst[1:5]) # 1부터 5까지의 리스트\n",
    "print(lst[:6]) # : 때문에 스타트가 생략된 것을 알 수 있음\n",
    "print(lst[::2]) # 0부터 끝까지 2씩 증가하는 리스트\n",
    "print(lst[::]) # 전체 리스트, 리스트 이름만 쓰는 것과 동일"
   ]
  },
  {
   "cell_type": "code",
   "execution_count": 70,
   "id": "921e7030",
   "metadata": {},
   "outputs": [
    {
     "name": "stdout",
     "output_type": "stream",
     "text": [
      "[8, 6, 4]\n",
      "[8, 7, 6, 5, 4, 3]\n",
      "[]\n"
     ]
    }
   ],
   "source": [
    "lst = [0, 1, 2, 3, 4, 5, 6, 7, 8, 9]\n",
    "\n",
    "print(lst[-2:-8:-2]) # 역방향 인덱스도 슬라이싱 가능\n",
    "print(lst[-2:-8:-1])\n",
    "print(lst[-2:-8]) # 스텝 없어서 1씩 증가해야 하는데 방향이 충돌함. 역방향 인덱스는 반드시 스텝 지정 필요"
   ]
  },
  {
   "cell_type": "code",
   "execution_count": 73,
   "id": "7d23b072",
   "metadata": {},
   "outputs": [
    {
     "name": "stdout",
     "output_type": "stream",
     "text": [
      "[0, 1, 3.14, 'python', 'program', True, ['James', 'Robert', 'Lisa', 'Mary']]\n",
      "[0, 1, 3.14, 'program', True, ['James', 'Robert', 'Lisa', 'Mary']]\n"
     ]
    }
   ],
   "source": [
    "mixed_list = [0, 1, 3.14, 'python', 'program', True, myFriends]\n",
    "\n",
    "print(mixed_list)\n",
    "\n",
    "del mixed_list[3] # 0부터 시작하니까 3은 4번째\n",
    "\n",
    "print(mixed_list)"
   ]
  },
  {
   "cell_type": "code",
   "execution_count": 76,
   "id": "a7e4e771",
   "metadata": {},
   "outputs": [
    {
     "name": "stdout",
     "output_type": "stream",
     "text": [
      "True\n",
      "False\n"
     ]
    }
   ],
   "source": [
    "mixed_list = [0, 1, 3.14, 'python', 'program', True, myFriends]\n",
    "\n",
    "print('python' in mixed_list)\n",
    "print('java' in mixed_list)"
   ]
  },
  {
   "cell_type": "code",
   "execution_count": 77,
   "id": "35b9854c",
   "metadata": {},
   "outputs": [
    {
     "name": "stdout",
     "output_type": "stream",
     "text": [
      "7\n"
     ]
    }
   ],
   "source": [
    "mixed_list = [0, 1, 3.14, 'python', 'program', True, myFriends]\n",
    "\n",
    "print(len(mixed_list)) # len = length, 값의 개수는 7개"
   ]
  },
  {
   "cell_type": "code",
   "execution_count": 83,
   "id": "73891863",
   "metadata": {},
   "outputs": [
    {
     "name": "stdout",
     "output_type": "stream",
     "text": [
      "2\n",
      "22\n",
      "[1, 3, 4]\n",
      "4\n"
     ]
    },
    {
     "ename": "IndexError",
     "evalue": "list assignment index out of range",
     "output_type": "error",
     "traceback": [
      "\u001b[1;31m---------------------------------------------------------------------------\u001b[0m",
      "\u001b[1;31mIndexError\u001b[0m                                Traceback (most recent call last)",
      "Input \u001b[1;32mIn [83]\u001b[0m, in \u001b[0;36m<cell line: 11>\u001b[1;34m()\u001b[0m\n\u001b[0;32m      8\u001b[0m \u001b[38;5;28mprint\u001b[39m(lst)\n\u001b[0;32m     10\u001b[0m \u001b[38;5;28mprint\u001b[39m(lst[\u001b[38;5;241m2\u001b[39m])\n\u001b[1;32m---> 11\u001b[0m lst[\u001b[38;5;241m3\u001b[39m] \u001b[38;5;241m=\u001b[39m \u001b[38;5;241m5\u001b[39m\n",
      "\u001b[1;31mIndexError\u001b[0m: list assignment index out of range"
     ]
    }
   ],
   "source": [
    "lst = [1, 2, 3, 4]\n",
    "print(lst[1]) # read\n",
    "\n",
    "lst[1] = 22\n",
    "print(lst[1]) # update\n",
    "\n",
    "del lst[1] # delete\n",
    "print(lst)\n",
    "\n",
    "print(lst[2])\n",
    "lst[3] = 5 # insert는 수행 불가. 존재하지 않는 (3번) 인덱스는 사용할 수 없기 때문."
   ]
  },
  {
   "cell_type": "code",
   "execution_count": 88,
   "id": "870aeb8a",
   "metadata": {},
   "outputs": [
    {
     "name": "stdout",
     "output_type": "stream",
     "text": [
      "['James', 'Robert', 'Lisa', 'Mary']\n",
      "['James', 'Robert', 'Lisa', 'Mary', 'Thomas']\n"
     ]
    }
   ],
   "source": [
    "myFriends = ['James', 'Robert', 'Lisa', 'Mary']\n",
    "print(myFriends)\n",
    "\n",
    "myFriends.append('Thomas')\n",
    "print(myFriends)"
   ]
  },
  {
   "cell_type": "code",
   "execution_count": 89,
   "id": "9b4b6868",
   "metadata": {},
   "outputs": [
    {
     "name": "stdout",
     "output_type": "stream",
     "text": [
      "['James', 'Robert', 'Lisa', 'Mary']\n",
      "['James', 'Paul', 'Robert', 'Lisa', 'Mary']\n"
     ]
    }
   ],
   "source": [
    "myFriends = ['James', 'Robert', 'Lisa', 'Mary']\n",
    "print(myFriends)\n",
    "\n",
    "myFriends.insert(1, 'Paul')\n",
    "print(myFriends)"
   ]
  },
  {
   "cell_type": "code",
   "execution_count": 90,
   "id": "29e2f773",
   "metadata": {},
   "outputs": [
    {
     "name": "stdout",
     "output_type": "stream",
     "text": [
      "['James', 'Robert', 'Lisa', 'Mary', 'Laura', 'Betty']\n",
      "['James', 'Robert', 'Lisa', 'Mary']\n"
     ]
    }
   ],
   "source": [
    "myFriends = ['James', 'Robert', 'Lisa', 'Mary']\n",
    "newFriends = ['Laura', 'Betty']\n",
    "\n",
    "print(myFriends + newFriends)\n",
    "print(myFriends)"
   ]
  },
  {
   "cell_type": "code",
   "execution_count": 103,
   "id": "a7cb8171",
   "metadata": {},
   "outputs": [
    {
     "name": "stdout",
     "output_type": "stream",
     "text": [
      "['James', 'Robert', 'Lisa', 'Mary', 'Laura', 'Betty']\n",
      "['James', 'Robert', 'Lisa', 'Mary', 'Laura', 'Betty']\n",
      "['James', 'Robert', 'Lisa', 'Mary', 'Betty']\n"
     ]
    }
   ],
   "source": [
    "myFriends = ['James', 'Robert', 'Lisa', 'Mary']\n",
    "newFriends = ['Laura', 'Betty']\n",
    "\n",
    "myFriends.extend(newFriends)\n",
    "print(myFriends)\n",
    "\n",
    "print(myFriends)\n",
    "myFriends.remove('Laura')\n",
    "print(myFriends)"
   ]
  },
  {
   "cell_type": "code",
   "execution_count": 107,
   "id": "a6543920",
   "metadata": {},
   "outputs": [
    {
     "name": "stdout",
     "output_type": "stream",
     "text": [
      "['James', 'Robert', 'Lisa', 'Mary']\n",
      "False\n"
     ]
    },
    {
     "ename": "ValueError",
     "evalue": "list.remove(x): x not in list",
     "output_type": "error",
     "traceback": [
      "\u001b[1;31m---------------------------------------------------------------------------\u001b[0m",
      "\u001b[1;31mValueError\u001b[0m                                Traceback (most recent call last)",
      "Input \u001b[1;32mIn [107]\u001b[0m, in \u001b[0;36m<cell line: 9>\u001b[1;34m()\u001b[0m\n\u001b[0;32m      4\u001b[0m \u001b[38;5;28mprint\u001b[39m(\u001b[38;5;124m'\u001b[39m\u001b[38;5;124mLaura\u001b[39m\u001b[38;5;124m'\u001b[39m \u001b[38;5;129;01min\u001b[39;00m myFriends)\n\u001b[0;32m      6\u001b[0m \u001b[38;5;66;03m# myFriends.remove('Laura') # 존재하지 않는 값을 제거할 수 없다.\u001b[39;00m\n\u001b[0;32m      7\u001b[0m \u001b[38;5;66;03m# print('Laura' in myFriends)를 통해 존재 여부 먼저 파악\u001b[39;00m\n\u001b[1;32m----> 9\u001b[0m \u001b[43mmyFriends\u001b[49m\u001b[38;5;241;43m.\u001b[39;49m\u001b[43mremove\u001b[49m\u001b[43m(\u001b[49m\u001b[38;5;124;43m'\u001b[39;49m\u001b[38;5;124;43mLaura\u001b[39;49m\u001b[38;5;124;43m'\u001b[39;49m\u001b[43m)\u001b[49m\n",
      "\u001b[1;31mValueError\u001b[0m: list.remove(x): x not in list"
     ]
    }
   ],
   "source": [
    "myFriends = ['James', 'Robert', 'Lisa', 'Mary']\n",
    "print(myFriends)\n",
    "\n",
    "print('Laura' in myFriends)\n",
    "\n",
    "# myFriends.remove('Laura') # 존재하지 않는 값을 제거할 수 없다.\n",
    "# print('Laura' in myFriends)를 통해 존재 여부 먼저 파악\n",
    "\n",
    "myFriends.remove('Laura')"
   ]
  },
  {
   "cell_type": "code",
   "execution_count": 110,
   "id": "eaab00bc",
   "metadata": {},
   "outputs": [
    {
     "name": "stdout",
     "output_type": "stream",
     "text": [
      "[1, 2, 3, 4, 2, 5]\n",
      "[1, 3, 4, 2, 5]\n"
     ]
    }
   ],
   "source": [
    "lst = [1, 2, 3, 4, 2, 5]\n",
    "print(lst)\n",
    "\n",
    "lst.remove(2)\n",
    "print(lst) # 입력값과 첫 번째로 일치하는 항목을 삭제함"
   ]
  },
  {
   "cell_type": "code",
   "execution_count": 112,
   "id": "0decbe67",
   "metadata": {},
   "outputs": [
    {
     "name": "stdout",
     "output_type": "stream",
     "text": [
      "['James', 'Robert', 'Lisa', 'Mary']\n",
      "['James', 'Robert', 'Lisa'] Mary\n"
     ]
    }
   ],
   "source": [
    "myFriends = ['James', 'Robert', 'Lisa', 'Mary']\n",
    "print(myFriends)\n",
    "\n",
    "removeFriend = myFriends.pop()\n",
    "print(myFriends, removeFriend)"
   ]
  },
  {
   "cell_type": "code",
   "execution_count": 116,
   "id": "a3caffde",
   "metadata": {},
   "outputs": [
    {
     "name": "stdout",
     "output_type": "stream",
     "text": [
      "['James', 'Robert', 'Lisa', 'Mary']\n",
      "2 Lisa\n"
     ]
    }
   ],
   "source": [
    "my_friends = ['James', 'Robert', 'Lisa', 'Mary']\n",
    "print(my_friends)\n",
    "\n",
    "friend_index = my_friends.index('Lisa')\n",
    "print(friend_index, my_friends[friend_index])"
   ]
  },
  {
   "cell_type": "code",
   "execution_count": 117,
   "id": "2857415b",
   "metadata": {},
   "outputs": [
    {
     "data": {
      "text/plain": [
       "2"
      ]
     },
     "execution_count": 117,
     "metadata": {},
     "output_type": "execute_result"
    }
   ],
   "source": [
    "lst = [1, 2, 3, 4, 5, 6, 3, 7, 8]\n",
    "\n",
    "lst.index(3) # 첫 번째의 순서 번호 리턴"
   ]
  },
  {
   "cell_type": "code",
   "execution_count": 121,
   "id": "e74f0687",
   "metadata": {},
   "outputs": [
    {
     "name": "stdout",
     "output_type": "stream",
     "text": [
      "첫 번째 3의 위치:  2\n",
      "두 번째 3의 위치:  6\n",
      "[1, 2, 3, 4, 5, 6, 7, 8]\n"
     ]
    }
   ],
   "source": [
    "# list_name.index(값, 검색 시작 인덱스(어느 위치부터 값을 찾기 시작할 건지))\n",
    "# lst 리스트에서 두 번째 3 값의 인덱스를 확인하려면\n",
    "lst = [1, 2, 3, 4, 5, 6, 3, 7, 8]\n",
    "\n",
    "idx = lst.index(3)\n",
    "idx # 여기까지 해서 실행하면 첫 번째 3의 위치 2 리턴\n",
    "print('첫 번째 3의 위치: ', idx)\n",
    "\n",
    "idx = lst.index(3, idx + 1)\n",
    "idx # 여기까지 해서 실행하면 두 번째 3의 위치 6 리턴\n",
    "print('두 번째 3의 위치: ', idx)\n",
    "\n",
    "del lst[idx]\n",
    "print(lst)"
   ]
  },
  {
   "cell_type": "code",
   "execution_count": 122,
   "id": "9156729f",
   "metadata": {},
   "outputs": [
    {
     "ename": "ValueError",
     "evalue": "10 is not in list",
     "output_type": "error",
     "traceback": [
      "\u001b[1;31m---------------------------------------------------------------------------\u001b[0m",
      "\u001b[1;31mValueError\u001b[0m                                Traceback (most recent call last)",
      "Input \u001b[1;32mIn [122]\u001b[0m, in \u001b[0;36m<cell line: 3>\u001b[1;34m()\u001b[0m\n\u001b[0;32m      1\u001b[0m lst \u001b[38;5;241m=\u001b[39m [\u001b[38;5;241m1\u001b[39m, \u001b[38;5;241m2\u001b[39m, \u001b[38;5;241m3\u001b[39m, \u001b[38;5;241m4\u001b[39m, \u001b[38;5;241m5\u001b[39m, \u001b[38;5;241m6\u001b[39m, \u001b[38;5;241m3\u001b[39m, \u001b[38;5;241m7\u001b[39m, \u001b[38;5;241m8\u001b[39m]\n\u001b[1;32m----> 3\u001b[0m \u001b[43mlst\u001b[49m\u001b[38;5;241;43m.\u001b[39;49m\u001b[43mindex\u001b[49m\u001b[43m(\u001b[49m\u001b[38;5;241;43m10\u001b[39;49m\u001b[43m)\u001b[49m\n",
      "\u001b[1;31mValueError\u001b[0m: 10 is not in list"
     ]
    }
   ],
   "source": [
    "lst = [1, 2, 3, 4, 5, 6, 3, 7, 8]\n",
    "\n",
    "lst.index(10) # 존재하지 않는 값을 찾고자 하면 ValueError 오류 발생하므로 in 명령어 사용해서 확인 필요"
   ]
  },
  {
   "cell_type": "code",
   "execution_count": 126,
   "id": "ba0d4ebd",
   "metadata": {},
   "outputs": [
    {
     "name": "stdout",
     "output_type": "stream",
     "text": [
      "1 3\n"
     ]
    }
   ],
   "source": [
    "lst = [1, 2, 5, 3, 4, 5, 6, 7, 5, 8]\n",
    "\n",
    "print(lst.count(2), lst.count(5))"
   ]
  },
  {
   "cell_type": "code",
   "execution_count": null,
   "id": "a62fdef2",
   "metadata": {},
   "outputs": [],
   "source": [
    "'''\n",
    "문제) 다음 리스트에서 마지막 5를 제거하는 코드를 작성하세요.\n",
    "lst = [1, 2, 5, 3, 4, 5, 6, 7, 5, 8]\n",
    "'''"
   ]
  },
  {
   "cell_type": "code",
   "execution_count": 141,
   "id": "0d2d33a7",
   "metadata": {},
   "outputs": [
    {
     "name": "stdout",
     "output_type": "stream",
     "text": [
      "[1, 2, 5, 3, 4, 5, 6, 7, 8]\n"
     ]
    }
   ],
   "source": [
    "# 방법 1\n",
    "lst = [1, 2, 5, 3, 4, 5, 6, 7, 5, 8]\n",
    "idx = lst.index(5)\n",
    "idx = lst.index(5, idx+1)\n",
    "idx = lst.index(5, idx+1)\n",
    "\n",
    "del lst[idx]\n",
    "\n",
    "print(lst)"
   ]
  },
  {
   "cell_type": "code",
   "execution_count": 146,
   "id": "74ee8b2c",
   "metadata": {
    "scrolled": true
   },
   "outputs": [
    {
     "name": "stdout",
     "output_type": "stream",
     "text": [
      "[1, 2, 5, 3, 4, 5, 6, 7, 5, 8]\n",
      "[8, 5, 7, 6, 5, 4, 3, 5, 2, 1]\n",
      "[8, 7, 6, 5, 4, 3, 5, 2, 1]\n",
      "[1, 2, 5, 3, 4, 5, 6, 7, 8]\n"
     ]
    }
   ],
   "source": [
    "# 방법 2 (reverse 활용)\n",
    "lst = [1, 2, 5, 3, 4, 5, 6, 7, 5, 8]\n",
    "print(lst)\n",
    "\n",
    "lst.reverse()\n",
    "print(lst)\n",
    "\n",
    "lst.remove(5)\n",
    "print(lst)\n",
    "\n",
    "lst.reverse()\n",
    "print(lst)"
   ]
  },
  {
   "cell_type": "code",
   "execution_count": 147,
   "id": "024825b5",
   "metadata": {},
   "outputs": [
    {
     "name": "stdout",
     "output_type": "stream",
     "text": [
      "[5, 2, 8, 3, 1, 4, 6, 9, 7]\n",
      "[1, 2, 3, 4, 5, 6, 7, 8, 9]\n"
     ]
    }
   ],
   "source": [
    "lst = [5, 2, 8, 3, 1, 4, 6, 9, 7]\n",
    "print(lst)\n",
    "\n",
    "lst.sort() # 새로운 리스트 만드는 게 아니라 기존 리스트가 바뀌는 것\n",
    "print(lst) # sort 사용하는 순간 원래 순서를 찾을 수 없어서 위험함"
   ]
  },
  {
   "cell_type": "code",
   "execution_count": null,
   "id": "5e39745d",
   "metadata": {},
   "outputs": [],
   "source": [
    "'''\n",
    "완전한 데이터 저장소로 사용되기 위해서는 CRUD(Create, Read, Update, Delete)가 가능해야 함\n",
    "- list (o)\n",
    "- tuple (일부 지원)\n",
    "- set (일부 지원)\n",
    "- dict (o)\n",
    "tuple, set은 실질적인 자료 저장소는 아님. \n",
    "'''"
   ]
  },
  {
   "cell_type": "code",
   "execution_count": 1,
   "id": "45fe5cb8",
   "metadata": {},
   "outputs": [
    {
     "name": "stdout",
     "output_type": "stream",
     "text": [
      "<class 'tuple'> (1, 2, 3, 4)\n"
     ]
    }
   ],
   "source": [
    "tpl = (1, 2, 3, 4)\n",
    "\n",
    "print(type(tpl), tpl)"
   ]
  },
  {
   "cell_type": "code",
   "execution_count": 2,
   "id": "17e9bae7",
   "metadata": {},
   "outputs": [
    {
     "name": "stdout",
     "output_type": "stream",
     "text": [
      "1 2 3 4\n",
      "4 3 2 1\n"
     ]
    }
   ],
   "source": [
    "print(tpl[0], tpl[1], tpl[2], tpl[3])\n",
    "print(tpl[-1], tpl[-2], tpl[-3], tpl[-4])"
   ]
  },
  {
   "cell_type": "code",
   "execution_count": 3,
   "id": "0304af94",
   "metadata": {},
   "outputs": [
    {
     "name": "stdout",
     "output_type": "stream",
     "text": [
      "<class 'tuple'> (1, 2, 3, 4)\n"
     ]
    }
   ],
   "source": [
    "tpl = 1, 2, 3, 4 # 괄호 생략 가능하나 가독성 측면에서 붙이는 게 좋음\n",
    "\n",
    "print(type(tpl), tpl)"
   ]
  },
  {
   "cell_type": "code",
   "execution_count": 4,
   "id": "f9acbabe",
   "metadata": {},
   "outputs": [
    {
     "name": "stdout",
     "output_type": "stream",
     "text": [
      "<class 'list'> [1234]\n"
     ]
    }
   ],
   "source": [
    "lst = [1234]\n",
    "\n",
    "print(type(lst), lst)"
   ]
  },
  {
   "cell_type": "code",
   "execution_count": 5,
   "id": "ce6f9fa1",
   "metadata": {},
   "outputs": [
    {
     "name": "stdout",
     "output_type": "stream",
     "text": [
      "<class 'int'> 1234\n"
     ]
    }
   ],
   "source": [
    "tpl = (1234) # 단일 값 튜플을 일반적으로는 지원하지 않음\n",
    "\n",
    "print(type(tpl), tpl) # print(type(tpl), tpl, tpl[0] 하면 tpl[0]에서 오류 생김"
   ]
  },
  {
   "cell_type": "code",
   "execution_count": 7,
   "id": "761fe004",
   "metadata": {},
   "outputs": [
    {
     "name": "stdout",
     "output_type": "stream",
     "text": [
      "<class 'tuple'> (1234,) 1234\n"
     ]
    }
   ],
   "source": [
    "tpl = (1234,) # 콤마 붙여서 단일 값 튜플로 인식하게 할 수 있음\n",
    "\n",
    "print(type(tpl), tpl, tpl[0])"
   ]
  },
  {
   "cell_type": "code",
   "execution_count": 9,
   "id": "fcfaa4b8",
   "metadata": {},
   "outputs": [
    {
     "ename": "TypeError",
     "evalue": "'tuple' object does not support item assignment",
     "output_type": "error",
     "traceback": [
      "\u001b[1;31m---------------------------------------------------------------------------\u001b[0m",
      "\u001b[1;31mTypeError\u001b[0m                                 Traceback (most recent call last)",
      "Input \u001b[1;32mIn [9]\u001b[0m, in \u001b[0;36m<cell line: 2>\u001b[1;34m()\u001b[0m\n\u001b[0;32m      1\u001b[0m tpl \u001b[38;5;241m=\u001b[39m (\u001b[38;5;241m1\u001b[39m, \u001b[38;5;241m2\u001b[39m, \u001b[38;5;241m3\u001b[39m, \u001b[38;5;241m4\u001b[39m)\n\u001b[1;32m----> 2\u001b[0m tpl[\u001b[38;5;241m1\u001b[39m] \u001b[38;5;241m=\u001b[39m \u001b[38;5;241m5\u001b[39m\n",
      "\u001b[1;31mTypeError\u001b[0m: 'tuple' object does not support item assignment"
     ]
    }
   ],
   "source": [
    "tpl = (1, 2, 3, 4)\n",
    "tpl[1] = 5 # 튜플은 변경 불가. 오류 발생함."
   ]
  },
  {
   "cell_type": "code",
   "execution_count": 10,
   "id": "b66006fd",
   "metadata": {},
   "outputs": [
    {
     "ename": "TypeError",
     "evalue": "'tuple' object doesn't support item deletion",
     "output_type": "error",
     "traceback": [
      "\u001b[1;31m---------------------------------------------------------------------------\u001b[0m",
      "\u001b[1;31mTypeError\u001b[0m                                 Traceback (most recent call last)",
      "Input \u001b[1;32mIn [10]\u001b[0m, in \u001b[0;36m<cell line: 3>\u001b[1;34m()\u001b[0m\n\u001b[0;32m      1\u001b[0m tpl \u001b[38;5;241m=\u001b[39m (\u001b[38;5;241m1\u001b[39m, \u001b[38;5;241m2\u001b[39m, \u001b[38;5;241m3\u001b[39m, \u001b[38;5;241m4\u001b[39m)\n\u001b[1;32m----> 3\u001b[0m \u001b[38;5;28;01mdel\u001b[39;00m tpl[\u001b[38;5;241m2\u001b[39m]\n",
      "\u001b[1;31mTypeError\u001b[0m: 'tuple' object doesn't support item deletion"
     ]
    }
   ],
   "source": [
    "tpl = (1, 2, 3, 4)\n",
    "\n",
    "del tpl[2] # 튜플은 삭제 불가"
   ]
  },
  {
   "cell_type": "code",
   "execution_count": 16,
   "id": "ccc8f585",
   "metadata": {},
   "outputs": [
    {
     "name": "stdout",
     "output_type": "stream",
     "text": [
      "(1, 2, 3, 4, 5, 6, 7, 8)\n",
      "(1, 2, 3, 4, 1, 2, 3, 4, 1, 2, 3, 4)\n",
      "(1, 2, 3, 4) (5, 6, 7, 8)\n"
     ]
    }
   ],
   "source": [
    "tpl1 = (1, 2, 3, 4)\n",
    "tpl2 = (5, 6, 7, 8)\n",
    "\n",
    "print(tpl1 + tpl2) # 원래 튜플은 변하지 않고 연결, 반복 연산 잘 실행됨\n",
    "print(tpl1 * 3)\n",
    "print(tpl1, tpl2)"
   ]
  },
  {
   "cell_type": "code",
   "execution_count": 19,
   "id": "6bf1dc21",
   "metadata": {},
   "outputs": [
    {
     "name": "stdout",
     "output_type": "stream",
     "text": [
      "(2, 4, 6, 8)\n",
      "(1, 2, 3, 4, 5, 6, 7, 8, 9)\n"
     ]
    }
   ],
   "source": [
    "tpl = (1, 2, 3, 4, 5, 6, 7, 8, 9)\n",
    "\n",
    "print(tpl[1:8:2]) # 슬라이싱은 범위 내 값을 가지고 새로운 튜플 만드는 것\n",
    "print(tpl) # 기존 튜플 변하지 않으므로 슬라이싱 가능"
   ]
  },
  {
   "cell_type": "code",
   "execution_count": 20,
   "id": "be5216f0",
   "metadata": {},
   "outputs": [
    {
     "data": {
      "text/plain": [
       "True"
      ]
     },
     "execution_count": 20,
     "metadata": {},
     "output_type": "execute_result"
    }
   ],
   "source": [
    "tpl = (1, 2, 3, 4, 5, 6, 7, 8, 9)\n",
    "\n",
    "3 in tpl # 마찬가지 논리로 in 명령도 리스트와 동일하게 사용 가능"
   ]
  },
  {
   "cell_type": "code",
   "execution_count": 21,
   "id": "8c67605a",
   "metadata": {},
   "outputs": [
    {
     "name": "stdout",
     "output_type": "stream",
     "text": [
      "6 1\n"
     ]
    }
   ],
   "source": [
    "# 튜플도 메서드 있음. 리스트 메서드 중 index와 count만 가능.\n",
    "tpl = (1, 2, 3, 4, 5, 6, 7, 8, 9)\n",
    "\n",
    "print(tpl.index(7), tpl.count(7))"
   ]
  },
  {
   "cell_type": "code",
   "execution_count": 22,
   "id": "2ca3b665",
   "metadata": {},
   "outputs": [
    {
     "ename": "AttributeError",
     "evalue": "'tuple' object has no attribute 'sort'",
     "output_type": "error",
     "traceback": [
      "\u001b[1;31m---------------------------------------------------------------------------\u001b[0m",
      "\u001b[1;31mAttributeError\u001b[0m                            Traceback (most recent call last)",
      "Input \u001b[1;32mIn [22]\u001b[0m, in \u001b[0;36m<cell line: 1>\u001b[1;34m()\u001b[0m\n\u001b[1;32m----> 1\u001b[0m \u001b[43mtpl\u001b[49m\u001b[38;5;241;43m.\u001b[39;49m\u001b[43msort\u001b[49m()\n",
      "\u001b[1;31mAttributeError\u001b[0m: 'tuple' object has no attribute 'sort'"
     ]
    }
   ],
   "source": [
    "tpl.sort() # 리스트 메서드 중 sort는 순서를 변경하는 것이기 때문에 불가."
   ]
  },
  {
   "cell_type": "code",
   "execution_count": null,
   "id": "8e5c4b1c",
   "metadata": {},
   "outputs": [],
   "source": [
    "'''\n",
    "실제 데이터 저장소는 리스트임.\n",
    "리스트 자체에서 자료를 쓰고 싶은데 수정되어야만 할 때\n",
    "리스트를 튜플로 바꿔서 넘겨주면 원래 자료 그대로 보호한 채로 사용 가능\n",
    "\n",
    "처음부터 튜플 만드는 경우는 거의 없음\n",
    "'''"
   ]
  },
  {
   "cell_type": "code",
   "execution_count": null,
   "id": "17c72d32",
   "metadata": {},
   "outputs": [],
   "source": [
    "'''\n",
    "집합의 특징: 순서x, 중복 허용x\n",
    "리스트, 튜플은 중복 허용o, 셋은 중복 허용x\n",
    "리스트, 튜플은 사용자가 지정한 순서대로 저장됨\n",
    "셋은 사용자 지정 순서와 저장 순서가 다를 수 있음\n",
    "'''"
   ]
  },
  {
   "cell_type": "code",
   "execution_count": 25,
   "id": "4230ec35",
   "metadata": {},
   "outputs": [
    {
     "name": "stdout",
     "output_type": "stream",
     "text": [
      "<class 'set'> {1, 2, 3, 4}\n"
     ]
    }
   ],
   "source": [
    "set1 = {1, 2, 3, 4}\n",
    "print(type(set1), set1)"
   ]
  },
  {
   "cell_type": "code",
   "execution_count": 26,
   "id": "006cabe0",
   "metadata": {},
   "outputs": [
    {
     "name": "stdout",
     "output_type": "stream",
     "text": [
      "{1, 2, 3, 4, 5}\n"
     ]
    }
   ],
   "source": [
    "set2 = {1, 2, 3, 4, 2, 5}\n",
    "print(set2)"
   ]
  },
  {
   "cell_type": "code",
   "execution_count": 27,
   "id": "e606659f",
   "metadata": {},
   "outputs": [
    {
     "name": "stdout",
     "output_type": "stream",
     "text": [
      "{1, 2, 3, 4, 5}\n"
     ]
    }
   ],
   "source": [
    "set3 = {3, 1, 4, 2, 5}\n",
    "print(set3)"
   ]
  },
  {
   "cell_type": "code",
   "execution_count": 28,
   "id": "e47a8aa8",
   "metadata": {},
   "outputs": [
    {
     "data": {
      "text/plain": [
       "{100, 3.14, True, 'set'}"
      ]
     },
     "execution_count": 28,
     "metadata": {},
     "output_type": "execute_result"
    }
   ],
   "source": [
    "set4 = {100, True, 'set', 3.14} # 순서가 달라짐\n",
    "set4"
   ]
  },
  {
   "cell_type": "code",
   "execution_count": 29,
   "id": "ab1717de",
   "metadata": {},
   "outputs": [
    {
     "ename": "TypeError",
     "evalue": "'set' object is not subscriptable",
     "output_type": "error",
     "traceback": [
      "\u001b[1;31m---------------------------------------------------------------------------\u001b[0m",
      "\u001b[1;31mTypeError\u001b[0m                                 Traceback (most recent call last)",
      "Input \u001b[1;32mIn [29]\u001b[0m, in \u001b[0;36m<cell line: 2>\u001b[1;34m()\u001b[0m\n\u001b[0;32m      1\u001b[0m set5 \u001b[38;5;241m=\u001b[39m {\u001b[38;5;241m1\u001b[39m, \u001b[38;5;241m2\u001b[39m, \u001b[38;5;241m3\u001b[39m, \u001b[38;5;241m4\u001b[39m, \u001b[38;5;241m5\u001b[39m}\n\u001b[1;32m----> 2\u001b[0m \u001b[38;5;28mprint\u001b[39m(\u001b[43mset5\u001b[49m\u001b[43m[\u001b[49m\u001b[38;5;241;43m2\u001b[39;49m\u001b[43m]\u001b[49m)\n",
      "\u001b[1;31mTypeError\u001b[0m: 'set' object is not subscriptable"
     ]
    }
   ],
   "source": [
    "set5 = {1, 2, 3, 4, 5}\n",
    "print(set5[2]) # set은 인덱스를 허용하지 않음"
   ]
  },
  {
   "cell_type": "code",
   "execution_count": 32,
   "id": "ef6f75f7",
   "metadata": {},
   "outputs": [
    {
     "name": "stdout",
     "output_type": "stream",
     "text": [
      "{4, 5}\n",
      "{1, 2, 3, 4, 5, 6, 7, 8}\n",
      "{1, 2, 3}\n",
      "{1, 2, 3, 4, 5} {4, 5, 6, 7, 8}\n"
     ]
    }
   ],
   "source": [
    "set1 = {1, 2, 3, 4, 5}\n",
    "set2 = {4, 5, 6, 7, 8}\n",
    "\n",
    "print(set1.intersection(set2)) # 교집합 출력\n",
    "print(set1.union(set2)) # 합집합 출력\n",
    "print(set1.difference(set2)) # 차집합 출력\n",
    "\n",
    "print(set1, set2) # 원본 셋은 변하지 않음"
   ]
  },
  {
   "cell_type": "code",
   "execution_count": 34,
   "id": "1603d034",
   "metadata": {},
   "outputs": [
    {
     "name": "stdout",
     "output_type": "stream",
     "text": [
      "{4, 5}\n",
      "{1, 2, 3, 4, 5, 6, 7, 8}\n",
      "{1, 2, 3}\n",
      "{1, 2, 3, 4, 5} {4, 5, 6, 7, 8}\n"
     ]
    }
   ],
   "source": [
    "set1 = {1, 2, 3, 4, 5}\n",
    "set2 = {4, 5, 6, 7, 8}\n",
    "\n",
    "print(set1 & set2)\n",
    "print(set1 | set2)\n",
    "print(set1 - set2)\n",
    "print(set1, set2) # 연산자를 사용해도 기존 집합은 변하지 않음"
   ]
  },
  {
   "cell_type": "code",
   "execution_count": 37,
   "id": "2a760eda",
   "metadata": {},
   "outputs": [
    {
     "name": "stdout",
     "output_type": "stream",
     "text": [
      "{4, 5} {4, 5, 6, 7, 8}\n"
     ]
    }
   ],
   "source": [
    "set1 = {1, 2, 3, 4, 5}\n",
    "set2 = {4, 5, 6, 7, 8}\n",
    "\n",
    "set1.intersection_update(set2) # set1이 교집합 연산의 결과로 바뀜\n",
    "print(set1, set2)"
   ]
  },
  {
   "cell_type": "code",
   "execution_count": 39,
   "id": "d512a61a",
   "metadata": {},
   "outputs": [
    {
     "name": "stdout",
     "output_type": "stream",
     "text": [
      "{1, 2, 3, 4, 5, 6, 7, 8} {4, 5, 6, 7, 8}\n"
     ]
    }
   ],
   "source": [
    "set1 = {1, 2, 3, 4, 5}\n",
    "set2 = {4, 5, 6, 7, 8}\n",
    "\n",
    "set1.update(set2) # union_update는 존재하지 않음. 대신 그냥 update 사용.\n",
    "print(set1, set2)"
   ]
  },
  {
   "cell_type": "code",
   "execution_count": 40,
   "id": "041b43c5",
   "metadata": {},
   "outputs": [
    {
     "name": "stdout",
     "output_type": "stream",
     "text": [
      "{1, 2, 3} {4, 5, 6, 7, 8}\n"
     ]
    }
   ],
   "source": [
    "set1 = {1, 2, 3, 4, 5}\n",
    "set2 = {4, 5, 6, 7, 8}\n",
    "\n",
    "set1.difference_update(set2) # set1의 내용이 차집합 연산의 결과로 바뀜\n",
    "print(set1, set2)"
   ]
  },
  {
   "cell_type": "code",
   "execution_count": 42,
   "id": "44d5423f",
   "metadata": {},
   "outputs": [
    {
     "name": "stdout",
     "output_type": "stream",
     "text": [
      "{1, 2, 3, 6, 7, 8}\n",
      "{1, 2, 3, 4, 5} {4, 5, 6, 7, 8}\n"
     ]
    }
   ],
   "source": [
    "set1 = {1, 2, 3, 4, 5}\n",
    "set2 = {4, 5, 6, 7, 8}\n",
    "\n",
    "print(set1.symmetric_difference(set2)) # 대칭 차집합: 교집합을 뺀 나머지\n",
    "print(set1, set2)"
   ]
  },
  {
   "cell_type": "code",
   "execution_count": 43,
   "id": "230dcd7c",
   "metadata": {},
   "outputs": [
    {
     "name": "stdout",
     "output_type": "stream",
     "text": [
      "{1, 2, 3, 6, 7, 8} {4, 5, 6, 7, 8}\n"
     ]
    }
   ],
   "source": [
    "set1 = {1, 2, 3, 4, 5}\n",
    "set2 = {4, 5, 6, 7, 8}\n",
    "\n",
    "set1.symmetric_difference_update(set2) # set1의 내용이 대칭 차집합 연산 결과로 바뀜\n",
    "print(set1, set2)"
   ]
  },
  {
   "cell_type": "code",
   "execution_count": 47,
   "id": "653649be",
   "metadata": {},
   "outputs": [
    {
     "name": "stdout",
     "output_type": "stream",
     "text": [
      "{1, 2, 3, 6, 7, 8}\n",
      "{1, 2, 3, 4, 5} {4, 5, 6, 7, 8}\n"
     ]
    }
   ],
   "source": [
    "set1 = {1, 2, 3, 4, 5}\n",
    "set2 = {4, 5, 6, 7, 8}\n",
    "\n",
    "print((set1 | set2) - (set1 & set2))\n",
    "print(set1, set2)"
   ]
  },
  {
   "cell_type": "code",
   "execution_count": 51,
   "id": "f0fc2025",
   "metadata": {},
   "outputs": [
    {
     "name": "stdout",
     "output_type": "stream",
     "text": [
      "{2, 3, 4}\n",
      "{1, 2, 3, 4}\n",
      "{1, 2, 3}\n",
      "{1, 2.5, 3}\n"
     ]
    }
   ],
   "source": [
    "A = {4, 2, 3}\n",
    "print(A)\n",
    "\n",
    "A.add(1) # 집합에 원소 추가\n",
    "print(A)\n",
    "\n",
    "A.remove(4) # 집합에서 원소 삭제\n",
    "print(A)\n",
    "\n",
    "A.remove(2) # 원소 변경은 지원하지 않지만, 삭제 후 삽입하면 변경한 것과 같은 효과 가능\n",
    "A.add(2.5)\n",
    "print(A)"
   ]
  },
  {
   "cell_type": "code",
   "execution_count": 55,
   "id": "29856b9c",
   "metadata": {},
   "outputs": [
    {
     "name": "stdout",
     "output_type": "stream",
     "text": [
      "{1, 2, 3, 4, 5} {3, 4, 5, 6, 7} {3, 4, 5}\n",
      "[1, 2, 3, 4, 5] [3, 4, 5, 6, 7] [3, 4, 5]\n"
     ]
    }
   ],
   "source": [
    "A_list = [1, 2, 3, 4, 5]\n",
    "B_list = [3, 4, 5, 6, 7]\n",
    "\n",
    "A_set = set(A_list) # set으로 변환하는 함수\n",
    "B_set = set(B_list)\n",
    "\n",
    "C_set = A_set & B_set\n",
    "C_list = list(C_set)\n",
    "\n",
    "print(A_set, B_set, C_set)\n",
    "print(A_list, B_list, C_list)"
   ]
  },
  {
   "cell_type": "code",
   "execution_count": 58,
   "id": "0a986943",
   "metadata": {},
   "outputs": [
    {
     "name": "stdout",
     "output_type": "stream",
     "text": [
      "{1, 2, 3, 4, 5} {3, 4, 5, 6, 7} {3, 4, 5}\n",
      "(1, 2, 3, 4, 5) (3, 4, 5, 6, 7) (3, 4, 5)\n"
     ]
    }
   ],
   "source": [
    "A_tuple = (1, 2, 3, 4, 5)\n",
    "B_tuple = (3, 4, 5, 6, 7)\n",
    "\n",
    "A_set = set(A_tuple)\n",
    "B_set = set(B_tuple)\n",
    "\n",
    "C_set = A_set & B_set\n",
    "C_tuple = tuple(C_set)\n",
    "\n",
    "print(A_set, B_set, C_set)\n",
    "print(A_tuple, B_tuple, C_tuple)"
   ]
  },
  {
   "cell_type": "code",
   "execution_count": 64,
   "id": "11494df9",
   "metadata": {},
   "outputs": [
    {
     "name": "stdout",
     "output_type": "stream",
     "text": [
      "<class 'dict'> {'one': 1, 'two': 22, 'three': 3, 'four': 3}\n"
     ]
    }
   ],
   "source": [
    "# 딕셔너리\n",
    "\n",
    "dct = {'one':1, 'two':2, 'three':3, 'two':22, 'four':3} # key 중복 불가, value 중복 가능\n",
    "print(type(dct), dct)"
   ]
  },
  {
   "cell_type": "code",
   "execution_count": 2,
   "id": "d1e73dd8",
   "metadata": {},
   "outputs": [
    {
     "name": "stdout",
     "output_type": "stream",
     "text": [
      "{'영국': '런던', '프랑스': '파리', '스위스': '베른', '호주': '멜버른', '덴마크': '코펜하겐'}\n"
     ]
    }
   ],
   "source": [
    "country_capital = {'영국':'런던', '프랑스':'파리', '스위스':'베른', '호주':'멜버른', '덴마크':'코펜하겐'}\n",
    "\n",
    "print(country_capital)"
   ]
  },
  {
   "cell_type": "code",
   "execution_count": 3,
   "id": "bf6c657f",
   "metadata": {},
   "outputs": [
    {
     "data": {
      "text/plain": [
       "'런던'"
      ]
     },
     "execution_count": 3,
     "metadata": {},
     "output_type": "execute_result"
    }
   ],
   "source": [
    "country_capital['영국'] # key 넣으면 value 반환"
   ]
  },
  {
   "cell_type": "code",
   "execution_count": 4,
   "id": "a2507253",
   "metadata": {},
   "outputs": [
    {
     "data": {
      "text/plain": [
       "{'영국': '런던', '프랑스': '파리', '스위스': '베른', '호주': '멜버른', '덴마크': '코펜하겐', '독일': '베를린'}"
      ]
     },
     "execution_count": 4,
     "metadata": {},
     "output_type": "execute_result"
    }
   ],
   "source": [
    "# dict 데이터 추가\n",
    "country_capital['독일'] = '베를린'\n",
    "country_capital"
   ]
  },
  {
   "cell_type": "code",
   "execution_count": 70,
   "id": "a694715e",
   "metadata": {},
   "outputs": [
    {
     "data": {
      "text/plain": [
       "{'영국': '런던', '프랑스': '파리', '스위스': '베른', '호주': '캔버라', '덴마크': '코펜하겐', '독일': '베를린'}"
      ]
     },
     "execution_count": 70,
     "metadata": {},
     "output_type": "execute_result"
    }
   ],
   "source": [
    "# dict 데이터 변경\n",
    "country_capital['호주']='캔버라'\n",
    "country_capital"
   ]
  },
  {
   "cell_type": "code",
   "execution_count": 71,
   "id": "08b38514",
   "metadata": {},
   "outputs": [
    {
     "data": {
      "text/plain": [
       "{'영국': '런던', '프랑스': '파리', '스위스': '베른', '호주': '캔버라', '독일': '베를린'}"
      ]
     },
     "execution_count": 71,
     "metadata": {},
     "output_type": "execute_result"
    }
   ],
   "source": [
    "# dict 데이터 삭제\n",
    "del country_capital['덴마크']\n",
    "country_capital"
   ]
  },
  {
   "cell_type": "code",
   "execution_count": 6,
   "id": "f2030fb2",
   "metadata": {},
   "outputs": [
    {
     "name": "stdout",
     "output_type": "stream",
     "text": [
      "<class 'dict_keys'> dict_keys(['영국', '프랑스', '스위스', '호주', '덴마크'])\n",
      "<class 'list'> ['영국', '프랑스', '스위스', '호주', '덴마크']\n",
      "<class 'tuple'> ('영국', '프랑스', '스위스', '호주', '덴마크')\n",
      "<class 'set'> {'호주', '영국', '스위스', '덴마크', '프랑스'}\n"
     ]
    }
   ],
   "source": [
    "country_capital = {'영국':'런던', '프랑스':'파리', '스위스':'베른', '호주':'멜버른', '덴마크':'코펜하겐'}\n",
    "\n",
    "keys = country_capital.keys()\n",
    "print(type(keys), keys)\n",
    "\n",
    "# key 값만 뽑아서 형 변환 가능\n",
    "\n",
    "keys_list = list(keys)\n",
    "print(type(keys_list), keys_list)\n",
    "\n",
    "keys_tuple = tuple(keys)\n",
    "print(type(keys_tuple), keys_tuple)\n",
    "\n",
    "keys_set = set(keys)\n",
    "print(type(keys_set), keys_set)"
   ]
  },
  {
   "cell_type": "code",
   "execution_count": 79,
   "id": "274fa18a",
   "metadata": {},
   "outputs": [
    {
     "name": "stdout",
     "output_type": "stream",
     "text": [
      "<class 'dict_values'> dict_values(['런던', '파리', '베른', '멜버른', '코펜하겐'])\n",
      "<class 'list'> ['런던', '파리', '베른', '멜버른', '코펜하겐']\n",
      "<class 'tuple'> ('런던', '파리', '베른', '멜버른', '코펜하겐')\n",
      "<class 'set'> {'코펜하겐', '파리', '베른', '런던', '멜버른'}\n"
     ]
    }
   ],
   "source": [
    "country_capital = {'영국':'런던', '프랑스':'파리', '스위스':'베른', '호주':'멜버른', '덴마크':'코펜하겐'}\n",
    "\n",
    "values = country_capital.values()\n",
    "print(type(values), values)\n",
    "\n",
    "# value 값만 뽑아서 형 변환 가능\n",
    "\n",
    "values_list = list(values)\n",
    "print(type(values_list), values_list)\n",
    "\n",
    "values_tuple = tuple(values)\n",
    "print(type(values_tuple), values_tuple)\n",
    "\n",
    "values_set = set(values)\n",
    "print(type(values_set), values_set)"
   ]
  },
  {
   "cell_type": "code",
   "execution_count": 8,
   "id": "5d61b7d0",
   "metadata": {},
   "outputs": [
    {
     "name": "stdout",
     "output_type": "stream",
     "text": [
      "<class 'dict_items'> dict_items([('영국', '런던'), ('프랑스', '파리'), ('스위스', '베른'), ('호주', '멜버른'), ('덴마크', '코펜하겐')])\n",
      "<class 'list'> [('영국', '런던'), ('프랑스', '파리'), ('스위스', '베른'), ('호주', '멜버른'), ('덴마크', '코펜하겐')]\n",
      "<class 'tuple'> (('영국', '런던'), ('프랑스', '파리'), ('스위스', '베른'), ('호주', '멜버른'), ('덴마크', '코펜하겐'))\n",
      "<class 'set'> {('프랑스', '파리'), ('덴마크', '코펜하겐'), ('호주', '멜버른'), ('스위스', '베른'), ('영국', '런던')}\n"
     ]
    }
   ],
   "source": [
    "country_capital = {'영국':'런던', '프랑스':'파리', '스위스':'베른', '호주':'멜버른', '덴마크':'코펜하겐'}\n",
    "\n",
    "items = country_capital.items()\n",
    "print(type(items), items)\n",
    "\n",
    "items_list = list(items)\n",
    "print(type(items_list), items_list)\n",
    "\n",
    "items_tuple = tuple(items)\n",
    "print(type(items_tuple), items_tuple)\n",
    "\n",
    "items_set = set(items)\n",
    "print(type(items_set), items_set)"
   ]
  },
  {
   "cell_type": "code",
   "execution_count": 11,
   "id": "c4d9369b",
   "metadata": {},
   "outputs": [
    {
     "name": "stdout",
     "output_type": "stream",
     "text": [
      "<class 'list'> [('영국', '런던'), ('프랑스', '파리'), ('스위스', '베른'), ('호주', '멜버른'), ('덴마크', '코펜하겐')]\n",
      "<class 'dict'> {'영국': '런던', '프랑스': '파리', '스위스': '베른', '호주': '멜버른', '덴마크': '코펜하겐'}\n"
     ]
    }
   ],
   "source": [
    "country_capital_list = [('영국', '런던'), ('프랑스', '파리'), ('스위스', '베른'), ('호주', '멜버른'), ('덴마크', '코펜하겐')]\n",
    "print(type(country_capital_list), country_capital_list)\n",
    "\n",
    "country_capital_dict = dict(country_capital_list)\n",
    "print(type(country_capital_dict), country_capital_dict)\n",
    "\n",
    "# key, value 쌍으로 묶여있는 리스트만 dict로 형 변환 가능"
   ]
  },
  {
   "cell_type": "code",
   "execution_count": 13,
   "id": "aca5bc23",
   "metadata": {},
   "outputs": [
    {
     "name": "stdout",
     "output_type": "stream",
     "text": [
      "<class 'tuple'> (('영국', '런던'), ('프랑스', '파리'), ('스위스', '베른'), ('호주', '멜버른'), ('덴마크', '코펜하겐'))\n",
      "<class 'dict'> {'영국': '런던', '프랑스': '파리', '스위스': '베른', '호주': '멜버른', '덴마크': '코펜하겐'}\n"
     ]
    }
   ],
   "source": [
    "country_capital_tuple = (('영국', '런던'), ('프랑스', '파리'), ('스위스', '베른'), ('호주', '멜버른'), ('덴마크', '코펜하겐'))\n",
    "print(type(country_capital_tuple), country_capital_tuple)\n",
    "\n",
    "country_capital_dict = dict(country_capital_tuple)\n",
    "print(type(country_capital_dict), country_capital_dict)\n",
    "\n",
    "# tuple도 dict로 형 변환 가능"
   ]
  },
  {
   "cell_type": "code",
   "execution_count": 14,
   "id": "5cb3c0f7",
   "metadata": {},
   "outputs": [
    {
     "name": "stdout",
     "output_type": "stream",
     "text": [
      "<class 'set'> {('영국', '런던'), ('프랑스', '파리'), ('덴마크', '코펜하겐'), ('스위스', '베른'), ('호주', '멜버른')}\n",
      "<class 'dict'> {'영국': '런던', '프랑스': '파리', '덴마크': '코펜하겐', '스위스': '베른', '호주': '멜버른'}\n"
     ]
    }
   ],
   "source": [
    "country_capital_set = {('영국', '런던'), ('프랑스', '파리'), ('스위스', '베른'), ('호주', '멜버른'), ('덴마크', '코펜하겐')}\n",
    "print(type(country_capital_set), country_capital_set)\n",
    "\n",
    "country_capital_dict = dict(country_capital_set)\n",
    "print(type(country_capital_dict), country_capital_dict)\n",
    "\n",
    "# dict <-> list tuple set but <- 일 때는 list tuple set 안 값들이 key, value의 쌍으로 구성된 tuple 이어야 함"
   ]
  },
  {
   "cell_type": "code",
   "execution_count": 21,
   "id": "bdc0ebaf",
   "metadata": {},
   "outputs": [
    {
     "data": {
      "text/plain": [
       "{'영국': '런던', '프랑스': '파리', '스위스': '베른', '호주': '멜버른', '덴마크': '코펜하겐'}"
      ]
     },
     "execution_count": 21,
     "metadata": {},
     "output_type": "execute_result"
    }
   ],
   "source": [
    "country_capital_A = {'영국':'런던', '프랑스':'파리', '스위스':'베른'}\n",
    "country_capital_B = {'호주':'멜버른', '덴마크':'코펜하겐'}\n",
    "\n",
    "country_capital_A.update(country_capital_B)\n",
    "country_capital_A\n",
    "\n",
    "# update는 현재 dict의 내용을 변경함"
   ]
  },
  {
   "cell_type": "code",
   "execution_count": 22,
   "id": "a0a44d1e",
   "metadata": {},
   "outputs": [
    {
     "data": {
      "text/plain": [
       "{}"
      ]
     },
     "execution_count": 22,
     "metadata": {},
     "output_type": "execute_result"
    }
   ],
   "source": [
    "country_capital_A.clear()\n",
    "country_capital_A\n",
    "\n",
    "# {}는 dict일까, set일까?"
   ]
  },
  {
   "cell_type": "code",
   "execution_count": 25,
   "id": "f4a5e31c",
   "metadata": {},
   "outputs": [
    {
     "data": {
      "text/plain": [
       "dict"
      ]
     },
     "execution_count": 25,
     "metadata": {},
     "output_type": "execute_result"
    }
   ],
   "source": [
    "what = {}\n",
    "\n",
    "type(what) # {}는 dict임. 비어있는 set는 존재하지 않음."
   ]
  }
 ],
 "metadata": {
  "kernelspec": {
   "display_name": "Python 3 (ipykernel)",
   "language": "python",
   "name": "python3"
  },
  "language_info": {
   "codemirror_mode": {
    "name": "ipython",
    "version": 3
   },
   "file_extension": ".py",
   "mimetype": "text/x-python",
   "name": "python",
   "nbconvert_exporter": "python",
   "pygments_lexer": "ipython3",
   "version": "3.9.12"
  }
 },
 "nbformat": 4,
 "nbformat_minor": 5
}
