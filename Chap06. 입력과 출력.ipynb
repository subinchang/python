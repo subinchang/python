{
 "cells": [
  {
   "cell_type": "code",
   "execution_count": 1,
   "id": "0bcb92b2",
   "metadata": {},
   "outputs": [
    {
     "name": "stdout",
     "output_type": "stream",
     "text": [
      "Hello, Python\n"
     ]
    }
   ],
   "source": [
    "print('Hello, Python')"
   ]
  },
  {
   "cell_type": "code",
   "execution_count": 2,
   "id": "7772d5e0",
   "metadata": {},
   "outputs": [
    {
     "name": "stdout",
     "output_type": "stream",
     "text": [
      "1234 3.141592 True 문자열 [1, 2, 3, 4, 5]\n"
     ]
    }
   ],
   "source": [
    "print(1234, 3.141592, True, '문자열', [1, 2, 3, 4, 5]) # 기본 구분자는 공백"
   ]
  },
  {
   "cell_type": "code",
   "execution_count": 4,
   "id": "005fd0e4",
   "metadata": {},
   "outputs": [
    {
     "name": "stdout",
     "output_type": "stream",
     "text": [
      "1234-:*:-3.141592-:*:-True-:*:-문자열-:*:-[1, 2, 3, 4, 5]\n"
     ]
    }
   ],
   "source": [
    "print(1234, 3.141592, True, '문자열', [1, 2, 3, 4, 5], sep = \"-:*:-\") # 기본 구분자는 공백"
   ]
  },
  {
   "cell_type": "code",
   "execution_count": 6,
   "id": "19220504",
   "metadata": {},
   "outputs": [
    {
     "name": "stdout",
     "output_type": "stream",
     "text": [
      "Hello, Python\n"
     ]
    }
   ],
   "source": [
    "str1 = 'Hello, ' + 'Python' # 연결\n",
    "print(str1)"
   ]
  },
  {
   "cell_type": "code",
   "execution_count": 7,
   "id": "1bf146e6",
   "metadata": {},
   "outputs": [
    {
     "name": "stdout",
     "output_type": "stream",
     "text": [
      "Hello\n",
      "Python\n"
     ]
    }
   ],
   "source": [
    "str2 = 'Hello\\nPython' # \\n = escape character\n",
    "print(str2)"
   ]
  },
  {
   "cell_type": "code",
   "execution_count": 8,
   "id": "bd6e93e6",
   "metadata": {},
   "outputs": [
    {
     "name": "stdout",
     "output_type": "stream",
     "text": [
      "Hello\tPython\n"
     ]
    }
   ],
   "source": [
    "print('Hello', end='\\t')\n",
    "print('Python')"
   ]
  },
  {
   "cell_type": "code",
   "execution_count": 10,
   "id": "43c2c794",
   "metadata": {},
   "outputs": [
    {
     "name": "stdout",
     "output_type": "stream",
     "text": [
      "정수: 1234, 실수: 3.141592, 문자열: String\n"
     ]
    }
   ],
   "source": [
    "# 형식 지정 출력은 문자열 자체의 기능이므로 print 함수와 무관하게 사용 가능\n",
    "\n",
    "format_str = '정수: %d, 실수: %f, 문자열: %s' % (1234, 3.141592, 'String')\n",
    "print(format_str)"
   ]
  },
  {
   "cell_type": "code",
   "execution_count": 11,
   "id": "cd34a5cc",
   "metadata": {},
   "outputs": [
    {
     "ename": "TypeError",
     "evalue": "must be real number, not str",
     "output_type": "error",
     "traceback": [
      "\u001b[1;31m---------------------------------------------------------------------------\u001b[0m",
      "\u001b[1;31mTypeError\u001b[0m                                 Traceback (most recent call last)",
      "Input \u001b[1;32mIn [11]\u001b[0m, in \u001b[0;36m<cell line: 1>\u001b[1;34m()\u001b[0m\n\u001b[1;32m----> 1\u001b[0m format_str \u001b[38;5;241m=\u001b[39m \u001b[38;5;124;43m'\u001b[39;49m\u001b[38;5;124;43m정수: \u001b[39;49m\u001b[38;5;132;43;01m%d\u001b[39;49;00m\u001b[38;5;124;43m, 실수: \u001b[39;49m\u001b[38;5;132;43;01m%f\u001b[39;49;00m\u001b[38;5;124;43m, 문자열: \u001b[39;49m\u001b[38;5;132;43;01m%s\u001b[39;49;00m\u001b[38;5;124;43m'\u001b[39;49m\u001b[43m \u001b[49m\u001b[38;5;241;43m%\u001b[39;49m\u001b[43m \u001b[49m\u001b[43m(\u001b[49m\u001b[38;5;241;43m1234\u001b[39;49m\u001b[43m,\u001b[49m\u001b[43m \u001b[49m\u001b[38;5;124;43m'\u001b[39;49m\u001b[38;5;124;43mString\u001b[39;49m\u001b[38;5;124;43m'\u001b[39;49m\u001b[43m,\u001b[49m\u001b[43m \u001b[49m\u001b[38;5;241;43m3.141592\u001b[39;49m\u001b[43m)\u001b[49m\n\u001b[0;32m      2\u001b[0m \u001b[38;5;28mprint\u001b[39m(format_str)\n",
      "\u001b[1;31mTypeError\u001b[0m: must be real number, not str"
     ]
    }
   ],
   "source": [
    "# 형식 문자의 순서와 값이 알맞게 매치되지 않으면 오류 발생\n",
    "\n",
    "format_str = '정수: %d, 실수: %f, 문자열: %s' % (1234, 'String', 3.141592)\n",
    "print(format_str)"
   ]
  },
  {
   "cell_type": "code",
   "execution_count": 19,
   "id": "5af3efaa",
   "metadata": {},
   "outputs": [
    {
     "name": "stdout",
     "output_type": "stream",
     "text": [
      "정수: 1234, 실수: 3.141592, 문자열: String\n"
     ]
    }
   ],
   "source": [
    "# format\n",
    "\n",
    "format_str = '정수: {0}, 실수: {1}, 문자열: {2}'.format(1234, 3.141592, 'String')\n",
    "print(format_str)"
   ]
  },
  {
   "cell_type": "code",
   "execution_count": 14,
   "id": "a13f4d74",
   "metadata": {},
   "outputs": [
    {
     "name": "stdout",
     "output_type": "stream",
     "text": [
      "1234, String, 3.141592\n"
     ]
    }
   ],
   "source": [
    "# format은 순서 상관 없이 사용 가능\n",
    "\n",
    "format_str = '{0}, {2}, {1}'.format(1234, 3.141592, 'String')\n",
    "print(format_str)"
   ]
  },
  {
   "cell_type": "code",
   "execution_count": 15,
   "id": "9a015f73",
   "metadata": {},
   "outputs": [
    {
     "name": "stdout",
     "output_type": "stream",
     "text": [
      "String, 3.141592, 1234, String, 3.141592\n"
     ]
    }
   ],
   "source": [
    "format_str = '{2}, {1}, {0}, {2}, {1}'.format(1234, 3.141592, 'String')\n",
    "print(format_str)"
   ]
  },
  {
   "cell_type": "code",
   "execution_count": 17,
   "id": "c4868f6a",
   "metadata": {},
   "outputs": [
    {
     "name": "stdout",
     "output_type": "stream",
     "text": [
      "정수: 1234, 실수: String, 문자열: 3.141592\n"
     ]
    }
   ],
   "source": [
    "format_str = '정수: {}, 실수: {}, 문자열: {}'.format(1234, 'String', 3.141592)\n",
    "print(format_str)"
   ]
  },
  {
   "cell_type": "code",
   "execution_count": 20,
   "id": "2d63567d",
   "metadata": {},
   "outputs": [
    {
     "name": "stdout",
     "output_type": "stream",
     "text": [
      "3.141592, 1234\n"
     ]
    }
   ],
   "source": [
    "format_str = '{2}, {0}'.format(1234, 'String', 3.141592)\n",
    "print(format_str)"
   ]
  },
  {
   "cell_type": "code",
   "execution_count": 22,
   "id": "a93b1139",
   "metadata": {},
   "outputs": [
    {
     "name": "stdout",
     "output_type": "stream",
     "text": [
      "3 * 1 =  3\n",
      "3 * 2 =  6\n",
      "3 * 3 =  9\n",
      "3 * 4 = 12\n",
      "3 * 5 = 15\n",
      "3 * 6 = 18\n",
      "3 * 7 = 21\n",
      "3 * 8 = 24\n",
      "3 * 9 = 27\n"
     ]
    }
   ],
   "source": [
    "# 자릿수 맞추기\n",
    "\n",
    "for num in range(1,10):\n",
    "    print('{0} * {1} = {2:2d}'.format(3, num, 3 * num)) # %2d\n",
    "    # 순서번호 + 콜론 + 원하는 형식"
   ]
  },
  {
   "cell_type": "code",
   "execution_count": 23,
   "id": "02359867",
   "metadata": {},
   "outputs": [
    {
     "name": "stdout",
     "output_type": "stream",
     "text": [
      "3 * 1 =  3\n",
      "3 * 2 =  6\n",
      "3 * 3 =  9\n",
      "3 * 4 = 12\n",
      "3 * 5 = 15\n",
      "3 * 6 = 18\n",
      "3 * 7 = 21\n",
      "3 * 8 = 24\n",
      "3 * 9 = 27\n"
     ]
    }
   ],
   "source": [
    "for num in range(1,10):\n",
    "    print('{} * {} = {:2d}'.format(3, num, 3 * num))"
   ]
  },
  {
   "cell_type": "code",
   "execution_count": 25,
   "id": "1e38405b",
   "metadata": {},
   "outputs": [
    {
     "name": "stdout",
     "output_type": "stream",
     "text": [
      "3.142, 3.1416, 3.14159\n"
     ]
    }
   ],
   "source": [
    "# 여러 가지 형식 지정\n",
    "\n",
    "print('{0:.3f}, {0:.4f}, {0:.5f}'.format(3.141592))"
   ]
  },
  {
   "cell_type": "code",
   "execution_count": 27,
   "id": "7116b371",
   "metadata": {},
   "outputs": [
    {
     "name": "stdout",
     "output_type": "stream",
     "text": [
      "수학 점수를 입력하세요: 92.5\n"
     ]
    },
    {
     "ename": "ValueError",
     "evalue": "invalid literal for int() with base 10: '92.5'",
     "output_type": "error",
     "traceback": [
      "\u001b[1;31m---------------------------------------------------------------------------\u001b[0m",
      "\u001b[1;31mValueError\u001b[0m                                Traceback (most recent call last)",
      "Input \u001b[1;32mIn [27]\u001b[0m, in \u001b[0;36m<cell line: 2>\u001b[1;34m()\u001b[0m\n\u001b[0;32m      1\u001b[0m math \u001b[38;5;241m=\u001b[39m \u001b[38;5;28minput\u001b[39m(\u001b[38;5;124m'\u001b[39m\u001b[38;5;124m수학 점수를 입력하세요: \u001b[39m\u001b[38;5;124m'\u001b[39m)\n\u001b[1;32m----> 2\u001b[0m math \u001b[38;5;241m=\u001b[39m \u001b[38;5;28;43mint\u001b[39;49m\u001b[43m(\u001b[49m\u001b[43mmath\u001b[49m\u001b[43m)\u001b[49m\n\u001b[0;32m      4\u001b[0m \u001b[38;5;28mprint\u001b[39m(\u001b[38;5;28mtype\u001b[39m(math), math)\n",
      "\u001b[1;31mValueError\u001b[0m: invalid literal for int() with base 10: '92.5'"
     ]
    }
   ],
   "source": [
    "math = input('수학 점수를 입력하세요: ')\n",
    "math = int(math)\n",
    "\n",
    "print(type(math), math)"
   ]
  },
  {
   "cell_type": "code",
   "execution_count": 2,
   "id": "c3b3544b",
   "metadata": {},
   "outputs": [
    {
     "name": "stdout",
     "output_type": "stream",
     "text": [
      "정수를 입력하세요: 손흥민\n"
     ]
    },
    {
     "ename": "ValueError",
     "evalue": "invalid literal for int() with base 10: '손흥민'",
     "output_type": "error",
     "traceback": [
      "\u001b[1;31m---------------------------------------------------------------------------\u001b[0m",
      "\u001b[1;31mValueError\u001b[0m                                Traceback (most recent call last)",
      "Input \u001b[1;32mIn [2]\u001b[0m, in \u001b[0;36m<cell line: 2>\u001b[1;34m()\u001b[0m\n\u001b[0;32m      1\u001b[0m math \u001b[38;5;241m=\u001b[39m \u001b[38;5;28minput\u001b[39m(\u001b[38;5;124m'\u001b[39m\u001b[38;5;124m정수를 입력하세요: \u001b[39m\u001b[38;5;124m'\u001b[39m)\n\u001b[1;32m----> 2\u001b[0m math \u001b[38;5;241m=\u001b[39m \u001b[38;5;28;43mint\u001b[39;49m\u001b[43m(\u001b[49m\u001b[43mmath\u001b[49m\u001b[43m)\u001b[49m\n\u001b[0;32m      4\u001b[0m \u001b[38;5;28mprint\u001b[39m(\u001b[38;5;28mtype\u001b[39m(math), math)\n",
      "\u001b[1;31mValueError\u001b[0m: invalid literal for int() with base 10: '손흥민'"
     ]
    }
   ],
   "source": [
    "# 정수를 입력하라고 해서 그렇게 하지는 않음.\n",
    "\n",
    "math = input('정수를 입력하세요: ')\n",
    "math = int(math)\n",
    "\n",
    "print(type(math), math)"
   ]
  },
  {
   "cell_type": "code",
   "execution_count": 6,
   "id": "a1615066",
   "metadata": {},
   "outputs": [
    {
     "name": "stdout",
     "output_type": "stream",
     "text": [
      "정수를 입력하세요: 홍\n",
      "올바른 정수 값을 입력하세요!\n",
      "<class 'str'> 홍\n"
     ]
    }
   ],
   "source": [
    "# 예외 처리 (예외: 처리 가능한 오류)\n",
    "\n",
    "math = input('정수를 입력하세요: ')\n",
    "\n",
    "try: \n",
    "    math = int(math) # try 안에 오류가 발생할 수 있는 코드 작성\n",
    "except:\n",
    "    print('올바른 정수 값을 입력하세요!') # 오류 발생 시\n",
    "\n",
    "print(type(math), math)"
   ]
  },
  {
   "cell_type": "code",
   "execution_count": 28,
   "id": "dc1f6262",
   "metadata": {},
   "outputs": [
    {
     "name": "stdout",
     "output_type": "stream",
     "text": [
      "수학 점수를 입력하세요: 92.5\n",
      "<class 'float'> 92.5\n"
     ]
    }
   ],
   "source": [
    "math = input('수학 점수를 입력하세요: ')\n",
    "math = float(math)\n",
    "\n",
    "print(type(math), math)"
   ]
  },
  {
   "cell_type": "code",
   "execution_count": 29,
   "id": "cd43587d",
   "metadata": {},
   "outputs": [
    {
     "name": "stdout",
     "output_type": "stream",
     "text": [
      "수학 점수를 입력하세요: 92.5\n",
      "<class 'int'> 92\n"
     ]
    }
   ],
   "source": [
    "# 실수로 입력할 수도 있지만 정수만 활용해야 할 때\n",
    "\n",
    "math = input('수학 점수를 입력하세요: ')\n",
    "math = float(math)\n",
    "math = int(math)\n",
    "\n",
    "print(type(math), math)"
   ]
  },
  {
   "cell_type": "code",
   "execution_count": 31,
   "id": "363d3938",
   "metadata": {},
   "outputs": [
    {
     "name": "stdout",
     "output_type": "stream",
     "text": [
      "수학 점수를 입력하세요: 92.87\n",
      "<class 'int'> 92\n"
     ]
    }
   ],
   "source": [
    "math = int(float(input('수학 점수를 입력하세요: ')))\n",
    "\n",
    "print(type(math), math)"
   ]
  },
  {
   "cell_type": "code",
   "execution_count": 33,
   "id": "c23d2a1a",
   "metadata": {},
   "outputs": [
    {
     "name": "stdout",
     "output_type": "stream",
     "text": [
      "국어 점수를 입력하세요: 80\n",
      "영어 점수를 입력하세요: 90\n",
      "수학 점수를 입력하세요: 100\n",
      "80 90 100\n"
     ]
    }
   ],
   "source": [
    "kor = input('국어 점수를 입력하세요: ') # input 함수는 반드시 하나의 값만 받음\n",
    "eng = input('영어 점수를 입력하세요: ')\n",
    "math = input('수학 점수를 입력하세요: ')\n",
    "\n",
    "print(kor, eng, math)"
   ]
  },
  {
   "cell_type": "code",
   "execution_count": 35,
   "id": "86426a2e",
   "metadata": {},
   "outputs": [
    {
     "name": "stdout",
     "output_type": "stream",
     "text": [
      "국어, 영어, 수학 점수를 입력하세요: 80 90 70\n"
     ]
    },
    {
     "data": {
      "text/plain": [
       "['80', '90', '70']"
      ]
     },
     "execution_count": 35,
     "metadata": {},
     "output_type": "execute_result"
    }
   ],
   "source": [
    "score = input('국어, 영어, 수학 점수를 입력하세요: ')\n",
    "score.split(' ')"
   ]
  },
  {
   "cell_type": "code",
   "execution_count": 10,
   "id": "9880f65f",
   "metadata": {},
   "outputs": [
    {
     "name": "stdout",
     "output_type": "stream",
     "text": [
      "['90', '80', '70'] ['95', '85', '75']\n"
     ]
    }
   ],
   "source": [
    "str1 = '90 80 70' # 공백으로 구분된 개별 문자열 = 토큰, 단위 문자열\n",
    "str1_list = str1.split(' ')\n",
    "\n",
    "str2 = '95,85,75'\n",
    "str2_list = str2.split(',')\n",
    "\n",
    "print(str1_list, str2_list)"
   ]
  },
  {
   "cell_type": "code",
   "execution_count": null,
   "id": "fa1f97c7",
   "metadata": {},
   "outputs": [],
   "source": [
    "'''\n",
    "문제) 사용자에게 국어, 영어, 수학 점수를 한 번에 입력으로 받아 각 점수, 총점, 평균을 출력하는 코드를 작성하세요.\n",
    "    \n",
    "    score = input('국어, 영어, 수학 점수를 입력하세요: ')\n",
    "'''\n",
    "\n",
    "# score.split(' ')은 문자열로 저장돼서 바로 숫자로 사용 불가"
   ]
  },
  {
   "cell_type": "code",
   "execution_count": 4,
   "id": "1d865ed0",
   "metadata": {},
   "outputs": [
    {
     "name": "stdout",
     "output_type": "stream",
     "text": [
      "국어, 영어, 수학 점수를 입력하세요: 78 99 34 76\n",
      "점수: [78, 99, 34, 76], 총점: 287, 평균: 71.75\n"
     ]
    }
   ],
   "source": [
    "# answer\n",
    "\n",
    "scores = input('국어, 영어, 수학 점수를 입력하세요: ')\n",
    "scores = scores.split(' ')\n",
    "\n",
    "for i in range(len(scores)):\n",
    "    scores[i] = int(scores[i])\n",
    "    \n",
    "print('점수: %s, 총점: %d, 평균: %.2f' % (scores, sum(scores), sum(scores) / len(scores)))"
   ]
  },
  {
   "cell_type": "code",
   "execution_count": 7,
   "id": "09f87102",
   "metadata": {},
   "outputs": [
    {
     "name": "stdout",
     "output_type": "stream",
     "text": [
      "국어, 영어, 수학 점수를 입력하세요: 74 96 83\n",
      "점수: [74, 96, 83], 총점: 253, 평균: 84.33\n"
     ]
    }
   ],
   "source": [
    "# answer improved (comprehension)\n",
    "\n",
    "scores = input('국어, 영어, 수학 점수를 입력하세요: ')\n",
    "scores = scores.split(' ')\n",
    "scores = [int(score) for score in scores]\n",
    "    \n",
    "print('점수: {0}, 총점: {1}, 평균: {2:.2f}'.format(scores, sum(scores), sum(scores) / len(scores)))"
   ]
  },
  {
   "cell_type": "code",
   "execution_count": 8,
   "id": "7b2ada2e",
   "metadata": {},
   "outputs": [],
   "source": [
    "f = open('myFile.txt', 'wt')\n",
    "f.write('This is my first file.')\n",
    "f.close()"
   ]
  },
  {
   "cell_type": "code",
   "execution_count": 10,
   "id": "dcc8491e",
   "metadata": {},
   "outputs": [],
   "source": [
    "f = open('C:/myPyCode/data/myFile.txt', 'wt')\n",
    "f.write('[절대경로] This is my first file.')\n",
    "f.close()"
   ]
  },
  {
   "cell_type": "code",
   "execution_count": 11,
   "id": "0b727ab0",
   "metadata": {},
   "outputs": [],
   "source": [
    "f = open('../data/myFile.txt', 'wt')\n",
    "f.write('[상대경로] This is my first file.')\n",
    "f.close()"
   ]
  },
  {
   "cell_type": "code",
   "execution_count": 12,
   "id": "e3d54fd7",
   "metadata": {},
   "outputs": [],
   "source": [
    "f = open('../data/myFile.txt', 'wt')\n",
    "f.write('1. This is my first file.')\n",
    "f.write('2. This is my first file.')\n",
    "f.write('3. This is my first file.')\n",
    "f.close()"
   ]
  },
  {
   "cell_type": "code",
   "execution_count": 13,
   "id": "e653049e",
   "metadata": {},
   "outputs": [],
   "source": [
    "# write는 자동 개행이 안되므로 반드시 \\n 필요\n",
    "\n",
    "f = open('../data/myFile.txt', 'wt')\n",
    "f.write('1. This is my first file.\\n')\n",
    "f.write('2. This is my first file.\\n')\n",
    "f.write('3. This is my first file.\\n')\n",
    "f.close()"
   ]
  },
  {
   "cell_type": "code",
   "execution_count": 26,
   "id": "96bb1588",
   "metadata": {},
   "outputs": [],
   "source": [
    "# data 폴더의 myFile.txt 파일을 삭제 후 다음 코드 실행\n",
    "\n",
    "f = open('../data/myFile.txt', 'xt')\n",
    "f.write('1. This is my first file.\\n')\n",
    "f.write('2. This is my first file.\\n')\n",
    "f.write('3. This is my first file.\\n')\n",
    "f.close()"
   ]
  },
  {
   "cell_type": "code",
   "execution_count": 27,
   "id": "7c697a27",
   "metadata": {},
   "outputs": [
    {
     "ename": "FileExistsError",
     "evalue": "[Errno 17] File exists: '../data/myFile.txt'",
     "output_type": "error",
     "traceback": [
      "\u001b[1;31m---------------------------------------------------------------------------\u001b[0m",
      "\u001b[1;31mFileExistsError\u001b[0m                           Traceback (most recent call last)",
      "Input \u001b[1;32mIn [27]\u001b[0m, in \u001b[0;36m<cell line: 1>\u001b[1;34m()\u001b[0m\n\u001b[1;32m----> 1\u001b[0m f \u001b[38;5;241m=\u001b[39m \u001b[38;5;28;43mopen\u001b[39;49m\u001b[43m(\u001b[49m\u001b[38;5;124;43m'\u001b[39;49m\u001b[38;5;124;43m../data/myFile.txt\u001b[39;49m\u001b[38;5;124;43m'\u001b[39;49m\u001b[43m,\u001b[49m\u001b[43m \u001b[49m\u001b[38;5;124;43m'\u001b[39;49m\u001b[38;5;124;43mxt\u001b[39;49m\u001b[38;5;124;43m'\u001b[39;49m\u001b[43m)\u001b[49m\n\u001b[0;32m      2\u001b[0m f\u001b[38;5;241m.\u001b[39mwrite(\u001b[38;5;124m'\u001b[39m\u001b[38;5;124m4. This is my first file.\u001b[39m\u001b[38;5;130;01m\\n\u001b[39;00m\u001b[38;5;124m'\u001b[39m)\n\u001b[0;32m      3\u001b[0m f\u001b[38;5;241m.\u001b[39mwrite(\u001b[38;5;124m'\u001b[39m\u001b[38;5;124m5. This is my first file.\u001b[39m\u001b[38;5;130;01m\\n\u001b[39;00m\u001b[38;5;124m'\u001b[39m)\n",
      "\u001b[1;31mFileExistsError\u001b[0m: [Errno 17] File exists: '../data/myFile.txt'"
     ]
    }
   ],
   "source": [
    "f = open('../data/myFile.txt', 'xt')\n",
    "f.write('4. This is my first file.\\n')\n",
    "f.write('5. This is my first file.\\n')\n",
    "f.write('6. This is my first file.\\n')\n",
    "f.close()"
   ]
  },
  {
   "cell_type": "code",
   "execution_count": 28,
   "id": "66a0a8ae",
   "metadata": {},
   "outputs": [
    {
     "name": "stdout",
     "output_type": "stream",
     "text": [
      "동일한 이름의 파일이 존재합니다\n"
     ]
    }
   ],
   "source": [
    "try:\n",
    "    f = open('../data/myFile.txt', 'xt')\n",
    "    f.write('4. This is my first file.\\n')\n",
    "    f.write('5. This is my first file.\\n')\n",
    "    f.write('6. This is my first file.\\n')\n",
    "    f.close()\n",
    "except:\n",
    "    print('동일한 이름의 파일이 존재합니다')"
   ]
  },
  {
   "cell_type": "code",
   "execution_count": 29,
   "id": "ed45417d",
   "metadata": {},
   "outputs": [],
   "source": [
    "# data 폴더의 myFile.txt 파일을 삭제 후 다음 코드 실행\n",
    "\n",
    "f = open('../data/myFile.txt', 'at')\n",
    "f.write('1. This is my first file.\\n')\n",
    "f.write('2. This is my first file.\\n')\n",
    "f.write('3. This is my first file.\\n')\n",
    "f.close()"
   ]
  },
  {
   "cell_type": "code",
   "execution_count": 30,
   "id": "61cad79b",
   "metadata": {},
   "outputs": [],
   "source": [
    "f = open('../data/myFile.txt', 'at')\n",
    "f.write('4. This is my first file.\\n')\n",
    "f.write('5. This is my first file.\\n')\n",
    "f.write('6. This is my first file.\\n')\n",
    "f.close()"
   ]
  },
  {
   "cell_type": "code",
   "execution_count": 31,
   "id": "78632fae",
   "metadata": {},
   "outputs": [
    {
     "name": "stdout",
     "output_type": "stream",
     "text": [
      "1. This is my first file.\n",
      "2. This is my first file.\n",
      "3. This is my first file.\n",
      "4. This is my first file.\n",
      "5. This is my first file.\n",
      "6. This is my first file.\n",
      "\n"
     ]
    }
   ],
   "source": [
    "f = open('../data/myFile.txt', 'rt')\n",
    "file_text = f.read()\n",
    "f.close()\n",
    "\n",
    "print(file_text)"
   ]
  },
  {
   "cell_type": "code",
   "execution_count": 32,
   "id": "62055329",
   "metadata": {},
   "outputs": [
    {
     "data": {
      "text/plain": [
       "'1. This is my first file.\\n2. This is my first file.\\n3. This is my first file.\\n4. This is my first file.\\n5. This is my first file.\\n6. This is my first file.\\n'"
      ]
     },
     "execution_count": 32,
     "metadata": {},
     "output_type": "execute_result"
    }
   ],
   "source": [
    "file_text # 항상 print로 출력 필요"
   ]
  },
  {
   "cell_type": "code",
   "execution_count": 1,
   "id": "9d0a509b",
   "metadata": {},
   "outputs": [],
   "source": [
    "f = open('../data/two_times_table.txt', 'wt')\n",
    "\n",
    "for num in range(1, 10):\n",
    "    output_str = '{} * {} = {:2d}\\n'.format(2, num, 2 * num)\n",
    "    f.write(output_str)\n",
    "    \n",
    "f.close()"
   ]
  },
  {
   "cell_type": "code",
   "execution_count": null,
   "id": "fc6ecb74",
   "metadata": {},
   "outputs": [],
   "source": [
    "'''\n",
    "문제) 2단부터 9단까지의 레이블 있는 수평 구구단의 결과를 data/gugu.txt 파일로 저장하는 코드를 작성하세요.\n",
    "'''"
   ]
  },
  {
   "cell_type": "code",
   "execution_count": 41,
   "id": "eb505dc9",
   "metadata": {},
   "outputs": [
    {
     "name": "stdout",
     "output_type": "stream",
     "text": [
      "[ 2 단 ]\t[ 3 단 ]\t[ 4 단 ]\t[ 5 단 ]\t[ 6 단 ]\t[ 7 단 ]\t[ 8 단 ]\t[ 9 단 ]\t2 * 1 =  2\t\n",
      "3 * 1 =  3\t\n",
      "4 * 1 =  4\t\n",
      "5 * 1 =  5\t\n",
      "6 * 1 =  6\t\n",
      "7 * 1 =  7\t\n",
      "8 * 1 =  8\t\n",
      "9 * 1 =  9\t\n",
      "2 * 2 =  4\t\n",
      "3 * 2 =  6\t\n",
      "4 * 2 =  8\t\n",
      "5 * 2 = 10\t\n",
      "6 * 2 = 12\t\n",
      "7 * 2 = 14\t\n",
      "8 * 2 = 16\t\n",
      "9 * 2 = 18\t\n",
      "2 * 3 =  6\t\n",
      "3 * 3 =  9\t\n",
      "4 * 3 = 12\t\n",
      "5 * 3 = 15\t\n",
      "6 * 3 = 18\t\n",
      "7 * 3 = 21\t\n",
      "8 * 3 = 24\t\n",
      "9 * 3 = 27\t\n",
      "2 * 4 =  8\t\n",
      "3 * 4 = 12\t\n",
      "4 * 4 = 16\t\n",
      "5 * 4 = 20\t\n",
      "6 * 4 = 24\t\n",
      "7 * 4 = 28\t\n",
      "8 * 4 = 32\t\n",
      "9 * 4 = 36\t\n",
      "2 * 5 = 10\t\n",
      "3 * 5 = 15\t\n",
      "4 * 5 = 20\t\n",
      "5 * 5 = 25\t\n",
      "6 * 5 = 30\t\n",
      "7 * 5 = 35\t\n",
      "8 * 5 = 40\t\n",
      "9 * 5 = 45\t\n",
      "2 * 6 = 12\t\n",
      "3 * 6 = 18\t\n",
      "4 * 6 = 24\t\n",
      "5 * 6 = 30\t\n",
      "6 * 6 = 36\t\n",
      "7 * 6 = 42\t\n",
      "8 * 6 = 48\t\n",
      "9 * 6 = 54\t\n",
      "2 * 7 = 14\t\n",
      "3 * 7 = 21\t\n",
      "4 * 7 = 28\t\n",
      "5 * 7 = 35\t\n",
      "6 * 7 = 42\t\n",
      "7 * 7 = 49\t\n",
      "8 * 7 = 56\t\n",
      "9 * 7 = 63\t\n",
      "2 * 8 = 16\t\n",
      "3 * 8 = 24\t\n",
      "4 * 8 = 32\t\n",
      "5 * 8 = 40\t\n",
      "6 * 8 = 48\t\n",
      "7 * 8 = 56\t\n",
      "8 * 8 = 64\t\n",
      "9 * 8 = 72\t\n",
      "2 * 9 = 18\t\n",
      "3 * 9 = 27\t\n",
      "4 * 9 = 36\t\n",
      "5 * 9 = 45\t\n",
      "6 * 9 = 54\t\n",
      "7 * 9 = 63\t\n",
      "8 * 9 = 72\t\n",
      "9 * 9 = 81\t\n"
     ]
    }
   ],
   "source": [
    "# my\n",
    "\n"
   ]
  },
  {
   "cell_type": "code",
   "execution_count": 43,
   "id": "7390029e",
   "metadata": {},
   "outputs": [],
   "source": [
    "# answer\n",
    "\n",
    "f = open('../data/gugu.txt', 'wt')\n",
    "\n",
    "for num in range(0, 10):\n",
    "    for dan in range(2, 10):\n",
    "        if num == 0:\n",
    "            f.write('[ %d 단 ]\\t' % (dan))            \n",
    "        else:\n",
    "            f.write('%d * %d = %2d\\t' % (dan, num, dan * num))\n",
    "    f.write('\\n')\n",
    "\n",
    "f.close()"
   ]
  },
  {
   "cell_type": "code",
   "execution_count": 2,
   "id": "5a2bbbf9",
   "metadata": {},
   "outputs": [
    {
     "data": {
      "text/plain": [
       "'2 * 1 =  2\\n'"
      ]
     },
     "execution_count": 2,
     "metadata": {},
     "output_type": "execute_result"
    }
   ],
   "source": [
    "f = open('../data/two_times_table.txt', 'rt')\n",
    "\n",
    "line1 = f.readline()\n",
    "line2 = f.readline()\n",
    "line3 = f.readline()\n",
    "\n",
    "line1\n",
    "\n",
    "f.close()"
   ]
  },
  {
   "cell_type": "code",
   "execution_count": 3,
   "id": "cf574815",
   "metadata": {},
   "outputs": [
    {
     "name": "stdout",
     "output_type": "stream",
     "text": [
      "2 * 1 =  2\n",
      "\n",
      "2 * 2 =  4\n",
      "\n",
      "2 * 3 =  6\n",
      "\n"
     ]
    }
   ],
   "source": [
    "print(line1)\n",
    "print(line2)\n",
    "print(line3)"
   ]
  },
  {
   "cell_type": "code",
   "execution_count": 5,
   "id": "ca3e814c",
   "metadata": {},
   "outputs": [
    {
     "name": "stdout",
     "output_type": "stream",
     "text": [
      "2 * 1 =  2\n",
      "2 * 2 =  4\n",
      "2 * 3 =  6\n"
     ]
    }
   ],
   "source": [
    "print(line1, end='')\n",
    "print(line2, end='')\n",
    "print(line3, end='')"
   ]
  },
  {
   "cell_type": "code",
   "execution_count": 6,
   "id": "0ff9887b",
   "metadata": {},
   "outputs": [
    {
     "data": {
      "text/plain": [
       "bool"
      ]
     },
     "execution_count": 6,
     "metadata": {},
     "output_type": "execute_result"
    }
   ],
   "source": [
    "type(True)"
   ]
  },
  {
   "cell_type": "code",
   "execution_count": 10,
   "id": "b6ce246e",
   "metadata": {},
   "outputs": [
    {
     "name": "stdout",
     "output_type": "stream",
     "text": [
      "True True True False\n"
     ]
    }
   ],
   "source": [
    "print(bool(1), bool(-1), bool(3.14), bool(0))"
   ]
  },
  {
   "cell_type": "code",
   "execution_count": 9,
   "id": "18bc36f6",
   "metadata": {},
   "outputs": [
    {
     "name": "stdout",
     "output_type": "stream",
     "text": [
      "True True False\n"
     ]
    }
   ],
   "source": [
    "print(bool('a'), bool(' '), bool(''))"
   ]
  },
  {
   "cell_type": "code",
   "execution_count": null,
   "id": "72bef4f4",
   "metadata": {},
   "outputs": [],
   "source": [
    "'''\n",
    "문제1] data/two_times_table.txt 파일의 모든 내용을 읽고 출력하는 조건 반복문을 작성하세요.\n",
    "'''"
   ]
  },
  {
   "cell_type": "code",
   "execution_count": 17,
   "id": "bb6b2330",
   "metadata": {},
   "outputs": [
    {
     "name": "stdout",
     "output_type": "stream",
     "text": [
      "2 * 1 =  2\n",
      "2 * 2 =  4\n",
      "2 * 3 =  6\n",
      "2 * 4 =  8\n",
      "2 * 5 = 10\n",
      "2 * 6 = 12\n",
      "2 * 7 = 14\n",
      "2 * 8 = 16\n",
      "2 * 9 = 18\n"
     ]
    }
   ],
   "source": [
    "# answer\n",
    "\n",
    "f = open('../data/two_times_table.txt', 'rt')\n",
    "\n",
    "line = f.readline()\n",
    "\n",
    "while(bool(line)): # 조건을 먼저 검사하기 때문에 중복 발생\n",
    "    print(line, end='')\n",
    "    line = f.readline() # line5와 반복인 점 수정 필요\n",
    "\n",
    "f.close()"
   ]
  },
  {
   "cell_type": "code",
   "execution_count": null,
   "id": "c1f71a71",
   "metadata": {},
   "outputs": [],
   "source": [
    "'''\n",
    "문제2] data/two_times_table.txt 파일의 모든 내용을 읽고 출력하는 반복문을 작성하세요.\n",
    "        단, 코드의 중복은 발생하지 않습니다.\n",
    "'''"
   ]
  },
  {
   "cell_type": "code",
   "execution_count": 19,
   "id": "b0c81645",
   "metadata": {},
   "outputs": [
    {
     "name": "stdout",
     "output_type": "stream",
     "text": [
      "2 * 1 =  2\n",
      "2 * 2 =  4\n",
      "2 * 3 =  6\n",
      "2 * 4 =  8\n",
      "2 * 5 = 10\n",
      "2 * 6 = 12\n",
      "2 * 7 = 14\n",
      "2 * 8 = 16\n",
      "2 * 9 = 18\n"
     ]
    }
   ],
   "source": [
    "# answer\n",
    "\n",
    "f = open('../data/two_times_table.txt', 'rt')\n",
    "\n",
    "while(True):\n",
    "    line = f.readline()\n",
    "    \n",
    "    if not line: # bool 안 써도 암시적 형변환 발생\n",
    "        break\n",
    "    \n",
    "    print(line, end='')\n",
    "\n",
    "f.close()"
   ]
  },
  {
   "cell_type": "code",
   "execution_count": 20,
   "id": "db1fadbf",
   "metadata": {},
   "outputs": [
    {
     "name": "stdout",
     "output_type": "stream",
     "text": [
      "['2 * 1 =  2\\n', '2 * 2 =  4\\n', '2 * 3 =  6\\n', '2 * 4 =  8\\n', '2 * 5 = 10\\n', '2 * 6 = 12\\n', '2 * 7 = 14\\n', '2 * 8 = 16\\n', '2 * 9 = 18\\n']\n"
     ]
    }
   ],
   "source": [
    "f = open('../data/two_times_table.txt', 'rt')\n",
    "\n",
    "lines = f.readlines()\n",
    "print(lines)\n",
    "\n",
    "f.close()"
   ]
  },
  {
   "cell_type": "code",
   "execution_count": 21,
   "id": "138ee528",
   "metadata": {},
   "outputs": [
    {
     "name": "stdout",
     "output_type": "stream",
     "text": [
      "2 * 1 =  2\n",
      "2 * 2 =  4\n",
      "2 * 3 =  6\n",
      "2 * 4 =  8\n",
      "2 * 5 = 10\n",
      "2 * 6 = 12\n",
      "2 * 7 = 14\n",
      "2 * 8 = 16\n",
      "2 * 9 = 18\n"
     ]
    }
   ],
   "source": [
    "# readlines 활용법 3가지 - (1) 바로 파일을 닫기 때문에 가장 좋음\n",
    "\n",
    "f = open('../data/two_times_table.txt', 'rt')\n",
    "\n",
    "lines = f.readlines()\n",
    "f.close()\n",
    "\n",
    "for line in lines:\n",
    "    print(line, end='')"
   ]
  },
  {
   "cell_type": "code",
   "execution_count": 22,
   "id": "01320927",
   "metadata": {},
   "outputs": [
    {
     "name": "stdout",
     "output_type": "stream",
     "text": [
      "2 * 1 =  2\n",
      "2 * 2 =  4\n",
      "2 * 3 =  6\n",
      "2 * 4 =  8\n",
      "2 * 5 = 10\n",
      "2 * 6 = 12\n",
      "2 * 7 = 14\n",
      "2 * 8 = 16\n",
      "2 * 9 = 18\n"
     ]
    }
   ],
   "source": [
    "# readlines 활용법 3가지 - (2)\n",
    "\n",
    "f = open('../data/two_times_table.txt', 'rt')\n",
    "\n",
    "for line in lines:\n",
    "    print(line, end='')\n",
    "    \n",
    "f.close()"
   ]
  },
  {
   "cell_type": "code",
   "execution_count": 23,
   "id": "4f27e69c",
   "metadata": {},
   "outputs": [
    {
     "name": "stdout",
     "output_type": "stream",
     "text": [
      "2 * 1 =  2\n",
      "2 * 2 =  4\n",
      "2 * 3 =  6\n",
      "2 * 4 =  8\n",
      "2 * 5 = 10\n",
      "2 * 6 = 12\n",
      "2 * 7 = 14\n",
      "2 * 8 = 16\n",
      "2 * 9 = 18\n"
     ]
    }
   ],
   "source": [
    "# readlines 활용법 3가지 - (3) 모호하기 때문에 가장 좋지 않음\n",
    "\n",
    "f = open('../data/two_times_table.txt', 'rt')\n",
    "\n",
    "for line in f:\n",
    "    print(line, end='')\n",
    "    \n",
    "f.close()"
   ]
  },
  {
   "cell_type": "code",
   "execution_count": 24,
   "id": "7d05e90e",
   "metadata": {},
   "outputs": [],
   "source": [
    "with open('../data/my_file2.txt', 'wt') as f:\n",
    "    f.write('File read/write test: line1\\n')\n",
    "    f.write('File read/write test: line2\\n')\n",
    "    f.write('File read/write test: line3\\n')"
   ]
  },
  {
   "cell_type": "code",
   "execution_count": 25,
   "id": "3df871b1",
   "metadata": {},
   "outputs": [
    {
     "name": "stdout",
     "output_type": "stream",
     "text": [
      "File read/write test: line1\n",
      "File read/write test: line2\n",
      "File read/write test: line3\n",
      "\n"
     ]
    }
   ],
   "source": [
    "with open('../data/my_file2.txt', 'rt') as f:\n",
    "    lines = f.read()\n",
    "    \n",
    "print(lines) # with 블록 안에는 읽고 쓰는 것만 있어야 함. print는 with 블록 밖에"
   ]
  },
  {
   "cell_type": "code",
   "execution_count": null,
   "id": "c345b875",
   "metadata": {},
   "outputs": [],
   "source": [
    "'''\n",
    "문제] 구구단 3단의 내용을 data/my_flie3.txt 파일로 저장하고 다시 읽어서 출력하는 코드를 작성하세요.\n",
    "        단, with 블록과 반복문을 사용합니다.\n",
    "'''"
   ]
  },
  {
   "cell_type": "code",
   "execution_count": 27,
   "id": "951f7d1c",
   "metadata": {},
   "outputs": [],
   "source": [
    "with open('../data/my_file3.txt', 'wt') as f:\n",
    "    dan = 3\n",
    "    \n",
    "    for num in range(1, 10):\n",
    "        f.write('%d * %d = %2d\\n' % (dan, num, dan * num))"
   ]
  },
  {
   "cell_type": "code",
   "execution_count": 28,
   "id": "99e153d9",
   "metadata": {},
   "outputs": [
    {
     "name": "stdout",
     "output_type": "stream",
     "text": [
      "3 * 1 =  3\n",
      "3 * 2 =  6\n",
      "3 * 3 =  9\n",
      "3 * 4 = 12\n",
      "3 * 5 = 15\n",
      "3 * 6 = 18\n",
      "3 * 7 = 21\n",
      "3 * 8 = 24\n",
      "3 * 9 = 27\n"
     ]
    }
   ],
   "source": [
    "with open('../data/my_file3.txt', 'rt') as f:\n",
    "    lines = f.readlines() # with 안에는 읽기, 쓰기 작업만\n",
    "    \n",
    "for line in lines:\n",
    "    print(line, end='')"
   ]
  },
  {
   "cell_type": "code",
   "execution_count": null,
   "id": "9d6c5c44",
   "metadata": {},
   "outputs": [],
   "source": [
    "'''\n",
    "문제] 다음의 내용을 'data/stu_info.txt' 파일로 저장 후 읽어서 1등인 학생의 정보를 출력하는 코드를 작성하세요.\n",
    "\n",
    "[ data/stu_info.txt 파일 내용 ]\n",
    "이름 국어 영어 수학 과학\n",
    "손흥민 90 85 80 75\n",
    "류현진 80 75 70 75\n",
    "박찬호 85 70 75 80\n",
    "이승엽 80 85 80 70\n",
    "김연아 90 95 85 95\n",
    "\n",
    "[ 파일의 내용을 읽은 후 출력 결과 ]\n",
    "1등 >>> 김연아 [90 95 85 95] / 총점: 365, 평균: 91.25\n",
    "'''"
   ]
  },
  {
   "cell_type": "code",
   "execution_count": 38,
   "id": "e33ed6c2",
   "metadata": {},
   "outputs": [
    {
     "data": {
      "text/plain": [
       "['류현진', 80, 75, 70, 75, 300]"
      ]
     },
     "execution_count": 38,
     "metadata": {},
     "output_type": "execute_result"
    }
   ],
   "source": [
    "# answer\n",
    "\n",
    "stu_info = '류현진 80 75 70 75\\n'\n",
    "\n",
    "#1. 각 줄의 개행 문자 제거\n",
    "stu_info = stu_info[:len(stu_info) - 1]    \n",
    "\n",
    "#2. 각 줄의 정보를 리스트로 변환하여 저장\n",
    "stu_info = stu_info.split(' ')\n",
    "\n",
    "#3. 각 과목의 성적 정보를 정수로 변환\n",
    "for i in range(1, len(stu_info)):\n",
    "    stu_info[i] = int(stu_info[i])\n",
    "\n",
    "#4. 각 학생의 총점을 계산하여 리스트의 마지막 값으로 추가\n",
    "stu_info.append(sum(stu_info[1:]))\n",
    "\n",
    "stu_info"
   ]
  },
  {
   "cell_type": "code",
   "execution_count": 1,
   "id": "9a91c2f8",
   "metadata": {},
   "outputs": [],
   "source": [
    "stu_info = '''이름 국어 영어 수학 과학\n",
    "손흥민 90 85 80 75\n",
    "류현진 80 75 70 75\n",
    "박찬호 85 70 75 80\n",
    "이승엽 80 85 80 70\n",
    "김연아 90 95 85 95\n",
    "'''\n",
    "\n",
    "with open('../data/stu_info.txt', 'wt') as f:\n",
    "    f.write(stu_info)"
   ]
  },
  {
   "cell_type": "code",
   "execution_count": 3,
   "id": "5095bda6",
   "metadata": {},
   "outputs": [
    {
     "name": "stdout",
     "output_type": "stream",
     "text": [
      "1등 >>> 김연아 [90, 95, 85, 95] / 총점 365, 평균 91.25\n"
     ]
    }
   ],
   "source": [
    "# answer\n",
    "\n",
    "with open('../data/stu_info.txt', 'rt') as f:\n",
    "    lines = f.readlines()\n",
    "    \n",
    "lines = lines[1:] # 헤딩 제거\n",
    "max_total = 0\n",
    "first_place = -1\n",
    "\n",
    "for i in range(len(lines)):\n",
    "    lines[i] = lines[i][:len(lines[i]) - 1]\n",
    "    lines[i] = lines[i].split(' ') # 항목별 리스트 생성\n",
    "    \n",
    "    for j in range(1, len(lines[i])):\n",
    "        lines[i][j] = int(lines[i][j])\n",
    "\n",
    "    lines[i].append(sum(lines[i][1:]))\n",
    "    \n",
    "    if lines[i][-1] > max_total:\n",
    "        max_total = lines[i][-1]\n",
    "        first_place = i\n",
    "\n",
    "\n",
    "print('1등 >>> %s %s / 총점 %d, 평균 %.2f' % (lines[first_place][0], lines[first_place][1:5],\n",
    "                                        max_total, max_total / 4))"
   ]
  },
  {
   "cell_type": "code",
   "execution_count": null,
   "id": "8a9d0555",
   "metadata": {},
   "outputs": [],
   "source": []
  }
 ],
 "metadata": {
  "kernelspec": {
   "display_name": "Python 3 (ipykernel)",
   "language": "python",
   "name": "python3"
  },
  "language_info": {
   "codemirror_mode": {
    "name": "ipython",
    "version": 3
   },
   "file_extension": ".py",
   "mimetype": "text/x-python",
   "name": "python",
   "nbconvert_exporter": "python",
   "pygments_lexer": "ipython3",
   "version": "3.9.12"
  }
 },
 "nbformat": 4,
 "nbformat_minor": 5
}
