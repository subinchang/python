{
 "cells": [
  {
   "cell_type": "code",
   "execution_count": null,
   "id": "2b89247e",
   "metadata": {},
   "outputs": [],
   "source": [
    "'''\n",
    "함수의 종류\n",
    "\n",
    "1. 내장 함수\n",
    "2. 내부 함수 / import 필요 (ex) import random ... random.randint()\n",
    "3. 외부 함수\n",
    "4. 사용자 정의 함수\n",
    "'''"
   ]
  },
  {
   "cell_type": "code",
   "execution_count": 1,
   "id": "8c2d599b",
   "metadata": {},
   "outputs": [],
   "source": [
    "def return_test1(): # 함수 생성\n",
    "    print('return 실행 전')\n",
    "    \n",
    "    return\n",
    "    \n",
    "    print('return 실행 후') # return 이후는 실행 안 됨"
   ]
  },
  {
   "cell_type": "code",
   "execution_count": 2,
   "id": "5af26dda",
   "metadata": {},
   "outputs": [
    {
     "name": "stdout",
     "output_type": "stream",
     "text": [
      "return 실행 전\n"
     ]
    }
   ],
   "source": [
    "return_test1() # 함수 호출"
   ]
  },
  {
   "cell_type": "code",
   "execution_count": 3,
   "id": "7a9db4de",
   "metadata": {},
   "outputs": [],
   "source": [
    "def return_test2(): # 함수 생성\n",
    "    print('return 실행 전')\n",
    "    \n",
    "    return '반환 값'\n",
    "    \n",
    "    print('return 실행 후') # return 이후는 실행 안 됨"
   ]
  },
  {
   "cell_type": "code",
   "execution_count": 4,
   "id": "6f857c61",
   "metadata": {},
   "outputs": [
    {
     "name": "stdout",
     "output_type": "stream",
     "text": [
      "return 실행 전\n",
      "반환 값\n"
     ]
    }
   ],
   "source": [
    "ret_val = return_test2() # 반환 값 있으니까 할당 필요\n",
    "print(ret_val)"
   ]
  },
  {
   "cell_type": "code",
   "execution_count": 6,
   "id": "06659ccb",
   "metadata": {},
   "outputs": [],
   "source": [
    "# 입력값 x, 출력값 x\n",
    "\n",
    "def print_title():\n",
    "    print('# 원의 넓이 계산 프로그램 #')"
   ]
  },
  {
   "cell_type": "code",
   "execution_count": 7,
   "id": "2029ccfa",
   "metadata": {},
   "outputs": [],
   "source": [
    "# 입력값 o, 출력값 x\n",
    "\n",
    "def print_char(char, count):\n",
    "    for i in range(count):\n",
    "        print(char, end='')\n",
    "        \n",
    "    print() # print 안에 아무것도 없으면 개행만 함"
   ]
  },
  {
   "cell_type": "code",
   "execution_count": 8,
   "id": "5b73f453",
   "metadata": {},
   "outputs": [],
   "source": [
    "# 입력값 x, 출력값 o\n",
    "\n",
    "def get_pi():\n",
    "    pi = 3.141592\n",
    "    \n",
    "    return pi"
   ]
  },
  {
   "cell_type": "code",
   "execution_count": 9,
   "id": "b75b8189",
   "metadata": {},
   "outputs": [],
   "source": [
    "# 입력값 o, 출력값 o\n",
    "\n",
    "def get_circle_area(radius):\n",
    "    area = radius * radius * get_pi() # 함수 안에서 다른 함수 호출 가능\n",
    "    \n",
    "    return area"
   ]
  },
  {
   "cell_type": "code",
   "execution_count": 10,
   "id": "b6bf907f",
   "metadata": {},
   "outputs": [
    {
     "name": "stdout",
     "output_type": "stream",
     "text": [
      "# 원의 넓이 계산 프로그램 #\n"
     ]
    }
   ],
   "source": [
    "print_title()"
   ]
  },
  {
   "cell_type": "code",
   "execution_count": 11,
   "id": "71ee85ea",
   "metadata": {},
   "outputs": [
    {
     "name": "stdout",
     "output_type": "stream",
     "text": [
      "**************************\n"
     ]
    }
   ],
   "source": [
    "print_char('*', 26)"
   ]
  },
  {
   "cell_type": "code",
   "execution_count": 12,
   "id": "cd05374d",
   "metadata": {},
   "outputs": [
    {
     "data": {
      "text/plain": [
       "3.141592"
      ]
     },
     "execution_count": 12,
     "metadata": {},
     "output_type": "execute_result"
    }
   ],
   "source": [
    "get_pi()"
   ]
  },
  {
   "cell_type": "code",
   "execution_count": 13,
   "id": "19812bd9",
   "metadata": {},
   "outputs": [
    {
     "data": {
      "text/plain": [
       "78.5398"
      ]
     },
     "execution_count": 13,
     "metadata": {},
     "output_type": "execute_result"
    }
   ],
   "source": [
    "get_circle_area(5)"
   ]
  },
  {
   "cell_type": "code",
   "execution_count": 16,
   "id": "1fd2d19f",
   "metadata": {},
   "outputs": [
    {
     "name": "stdout",
     "output_type": "stream",
     "text": [
      "****************************\n",
      "# 원의 넓이 계산 프로그램 #\n",
      "****************************\n",
      "원의 반지름을 입력하세요: 7\n",
      "반지름이 7인 원의 넓이는 153.938008 입니다.\n"
     ]
    }
   ],
   "source": [
    "print_char('*', 28)\n",
    "print_title()\n",
    "print_char('*', 28)\n",
    "\n",
    "radius = int(input('원의 반지름을 입력하세요: '))\n",
    "area = get_circle_area(radius)\n",
    "print('반지름이 %d인 원의 넓이는 %f 입니다.' % (radius, area))"
   ]
  },
  {
   "cell_type": "code",
   "execution_count": 19,
   "id": "a9b898b1",
   "metadata": {},
   "outputs": [
    {
     "name": "stdout",
     "output_type": "stream",
     "text": [
      "global var: 10\n",
      "local var: 1234\n",
      "[outer] global_var: 10\n"
     ]
    },
    {
     "ename": "NameError",
     "evalue": "name 'local_var' is not defined",
     "output_type": "error",
     "traceback": [
      "\u001b[1;31m---------------------------------------------------------------------------\u001b[0m",
      "\u001b[1;31mNameError\u001b[0m                                 Traceback (most recent call last)",
      "Input \u001b[1;32mIn [19]\u001b[0m, in \u001b[0;36m<cell line: 11>\u001b[1;34m()\u001b[0m\n\u001b[0;32m      9\u001b[0m func()\n\u001b[0;32m     10\u001b[0m \u001b[38;5;28mprint\u001b[39m(\u001b[38;5;124m'\u001b[39m\u001b[38;5;124m[outer] global_var:\u001b[39m\u001b[38;5;124m'\u001b[39m, global_var)\n\u001b[1;32m---> 11\u001b[0m \u001b[38;5;28mprint\u001b[39m(\u001b[38;5;124m'\u001b[39m\u001b[38;5;124m[outer] local_var:\u001b[39m\u001b[38;5;124m'\u001b[39m, \u001b[43mlocal_var\u001b[49m)\n",
      "\u001b[1;31mNameError\u001b[0m: name 'local_var' is not defined"
     ]
    }
   ],
   "source": [
    "global_var = 10\n",
    "\n",
    "def func():\n",
    "    local_var = 1234\n",
    "    \n",
    "    print('global var:', global_var)\n",
    "    print('local var:', local_var)\n",
    "    \n",
    "func()\n",
    "print('[outer] global_var:', global_var)\n",
    "print('[outer] local_var:', local_var) # 오류 발생 (local은 함수 안에서만 사용 가능)"
   ]
  },
  {
   "cell_type": "code",
   "execution_count": 20,
   "id": "54f52fe8",
   "metadata": {},
   "outputs": [
    {
     "name": "stdout",
     "output_type": "stream",
     "text": [
      "[test_func] var: 4321\n",
      "[outer] var: 100\n"
     ]
    }
   ],
   "source": [
    "# 함수 안에서는 glocal 변수와 이름이 같은 local 변수 생성 가능\n",
    "\n",
    "var = 100\n",
    "\n",
    "def test_func():\n",
    "    var = 4321\n",
    "    print('[test_func] var:', var)   # 4321 출력, local 변수\n",
    "    \n",
    "test_func()\n",
    "print('[outer] var:', var)           # 100 출력"
   ]
  },
  {
   "cell_type": "code",
   "execution_count": 22,
   "id": "979e51aa",
   "metadata": {},
   "outputs": [
    {
     "name": "stdout",
     "output_type": "stream",
     "text": [
      "[test_func] var: 4321\n",
      "[outer] var: 4321\n"
     ]
    }
   ],
   "source": [
    "# 함수 안에서 전역 변수 변경\n",
    "\n",
    "var = 100\n",
    "\n",
    "def test_func():\n",
    "    global var\n",
    "    var = 4321 # global 변수 var의 값이 변경됨\n",
    "    print('[test_func] var:', var)   # 4321 출력, global 변수\n",
    "    \n",
    "test_func()\n",
    "print('[outer] var:', var)           # 4321 출력, 이미 변경되었으므로"
   ]
  },
  {
   "cell_type": "code",
   "execution_count": 23,
   "id": "c2350e48",
   "metadata": {},
   "outputs": [
    {
     "data": {
      "text/plain": [
       "78.5398"
      ]
     },
     "execution_count": 23,
     "metadata": {},
     "output_type": "execute_result"
    }
   ],
   "source": [
    "(lambda radius : radius * radius * 3.141592)(5) # 이름 없는 일회용 함수를 한 번만 사용"
   ]
  },
  {
   "cell_type": "code",
   "execution_count": 24,
   "id": "2d0d8a8a",
   "metadata": {},
   "outputs": [
    {
     "data": {
      "text/plain": [
       "function"
      ]
     },
     "execution_count": 24,
     "metadata": {},
     "output_type": "execute_result"
    }
   ],
   "source": [
    "save_func = lambda radius : radius * radius * 3.141592\n",
    "type(save_func)"
   ]
  },
  {
   "cell_type": "code",
   "execution_count": 25,
   "id": "4a3dde61",
   "metadata": {},
   "outputs": [
    {
     "data": {
      "text/plain": [
       "78.5398"
      ]
     },
     "execution_count": 25,
     "metadata": {},
     "output_type": "execute_result"
    }
   ],
   "source": [
    "save_func(5)"
   ]
  },
  {
   "cell_type": "code",
   "execution_count": 27,
   "id": "3d479133",
   "metadata": {},
   "outputs": [
    {
     "data": {
      "text/plain": [
       "78.5398"
      ]
     },
     "execution_count": 27,
     "metadata": {},
     "output_type": "execute_result"
    }
   ],
   "source": [
    "# 람다 함수의 매개 변수를 여러 개 설정 가능\n",
    "\n",
    "save_func = lambda radius, pi : radius * radius * pi\n",
    "save_func(5, 3.141592)"
   ]
  },
  {
   "cell_type": "code",
   "execution_count": 28,
   "id": "119b1337",
   "metadata": {},
   "outputs": [
    {
     "name": "stdout",
     "output_type": "stream",
     "text": [
      "longlee\n"
     ]
    }
   ],
   "source": [
    "my_name = 'longlee'\n",
    "\n",
    "print(my_name)"
   ]
  },
  {
   "cell_type": "code",
   "execution_count": 29,
   "id": "889e679d",
   "metadata": {},
   "outputs": [
    {
     "name": "stdout",
     "output_type": "stream",
     "text": [
      "__main__\n"
     ]
    }
   ],
   "source": [
    "print(__name__) # Local 제끼고 Global 보는데 없으니까 Built-in Scope 확인"
   ]
  },
  {
   "cell_type": "code",
   "execution_count": 30,
   "id": "1f10423a",
   "metadata": {},
   "outputs": [
    {
     "name": "stdout",
     "output_type": "stream",
     "text": [
      "function\n"
     ]
    }
   ],
   "source": [
    "def test():\n",
    "    name = 'function'\n",
    "    \n",
    "    print(name)\n",
    "    \n",
    "test() # test 실행되면서 Local Scope 생성됨"
   ]
  },
  {
   "cell_type": "code",
   "execution_count": 31,
   "id": "e8af6d71",
   "metadata": {},
   "outputs": [
    {
     "ename": "NameError",
     "evalue": "name 'name' is not defined",
     "output_type": "error",
     "traceback": [
      "\u001b[1;31m---------------------------------------------------------------------------\u001b[0m",
      "\u001b[1;31mNameError\u001b[0m                                 Traceback (most recent call last)",
      "Input \u001b[1;32mIn [31]\u001b[0m, in \u001b[0;36m<cell line: 6>\u001b[1;34m()\u001b[0m\n\u001b[0;32m      1\u001b[0m \u001b[38;5;28;01mdef\u001b[39;00m \u001b[38;5;21mtest\u001b[39m():\n\u001b[0;32m      2\u001b[0m     \u001b[38;5;66;03m# name = 'function'\u001b[39;00m\n\u001b[0;32m      4\u001b[0m     \u001b[38;5;28mprint\u001b[39m(name)\n\u001b[1;32m----> 6\u001b[0m \u001b[43mtest\u001b[49m\u001b[43m(\u001b[49m\u001b[43m)\u001b[49m\n",
      "Input \u001b[1;32mIn [31]\u001b[0m, in \u001b[0;36mtest\u001b[1;34m()\u001b[0m\n\u001b[0;32m      1\u001b[0m \u001b[38;5;28;01mdef\u001b[39;00m \u001b[38;5;21mtest\u001b[39m():\n\u001b[0;32m      2\u001b[0m     \u001b[38;5;66;03m# name = 'function'\u001b[39;00m\n\u001b[1;32m----> 4\u001b[0m     \u001b[38;5;28mprint\u001b[39m(\u001b[43mname\u001b[49m)\n",
      "\u001b[1;31mNameError\u001b[0m: name 'name' is not defined"
     ]
    }
   ],
   "source": [
    "def test():\n",
    "    # name = 'function'\n",
    "    \n",
    "    print(name)\n",
    "    \n",
    "test() # Local, Global, Built-in 다 없으므로 오류 발생"
   ]
  },
  {
   "cell_type": "code",
   "execution_count": null,
   "id": "dd3754cd",
   "metadata": {},
   "outputs": [],
   "source": []
  }
 ],
 "metadata": {
  "kernelspec": {
   "display_name": "Python 3 (ipykernel)",
   "language": "python",
   "name": "python3"
  },
  "language_info": {
   "codemirror_mode": {
    "name": "ipython",
    "version": 3
   },
   "file_extension": ".py",
   "mimetype": "text/x-python",
   "name": "python",
   "nbconvert_exporter": "python",
   "pygments_lexer": "ipython3",
   "version": "3.9.12"
  }
 },
 "nbformat": 4,
 "nbformat_minor": 5
}
