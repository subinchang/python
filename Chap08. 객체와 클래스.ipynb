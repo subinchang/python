{
 "cells": [
  {
   "cell_type": "code",
   "execution_count": 11,
   "id": "99abe6ae",
   "metadata": {},
   "outputs": [],
   "source": [
    "class Bicycle():\n",
    "    def __init__(self, wheel_size, color):\n",
    "        self.wheel_size = wheel_size\n",
    "        self.color = color\n",
    "        \n",
    "    def move(self, speed):\n",
    "        print('자전거: 시속 {0}킬로미터로 전진'.format(speed))\n",
    "        \n",
    "    def turn(self, direction):\n",
    "        print('자전거: {0}회전'.format(direction))\n",
    "        \n",
    "    def stop(self):\n",
    "        print('자전거: {0}, {1} - 정지'.format(self.wheel_size, self.color))"
   ]
  },
  {
   "cell_type": "code",
   "execution_count": 13,
   "id": "15d7b184",
   "metadata": {},
   "outputs": [
    {
     "name": "stdout",
     "output_type": "stream",
     "text": [
      "내 자전거는 바퀴 크기가 26인치이고, 색상은 red 입니다.\n",
      "자전거: 시속 25킬로미터로 전진\n",
      "자전거: 좌회전\n",
      "자전거: 시속 15킬로미터로 전진\n",
      "자전거: 우회전\n",
      "자전거: 26, red - 정지\n"
     ]
    }
   ],
   "source": [
    "my_bicycle = Bicycle(26, 'red')\n",
    "\n",
    "print('내 자전거는 바퀴 크기가 %d인치이고, 색상은 %s 입니다.' % (my_bicycle.wheel_size, \n",
    "                                          my_bicycle.color)) # 객체명.속성명\n",
    "\n",
    "my_bicycle.move(25) # 객체명.메서드명()\n",
    "my_bicycle.turn('좌')\n",
    "my_bicycle.move(15)\n",
    "my_bicycle.turn('우')\n",
    "my_bicycle.stop()"
   ]
  },
  {
   "cell_type": "code",
   "execution_count": null,
   "id": "b46e5564",
   "metadata": {},
   "outputs": [],
   "source": []
  }
 ],
 "metadata": {
  "kernelspec": {
   "display_name": "Python 3 (ipykernel)",
   "language": "python",
   "name": "python3"
  },
  "language_info": {
   "codemirror_mode": {
    "name": "ipython",
    "version": 3
   },
   "file_extension": ".py",
   "mimetype": "text/x-python",
   "name": "python",
   "nbconvert_exporter": "python",
   "pygments_lexer": "ipython3",
   "version": "3.9.12"
  }
 },
 "nbformat": 4,
 "nbformat_minor": 5
}
