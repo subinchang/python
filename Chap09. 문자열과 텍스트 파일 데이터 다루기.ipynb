{
 "cells": [
  {
   "cell_type": "code",
   "execution_count": 1,
   "id": "802ebfad",
   "metadata": {},
   "outputs": [
    {
     "data": {
      "text/plain": [
       "'python'"
      ]
     },
     "execution_count": 1,
     "metadata": {},
     "output_type": "execute_result"
    }
   ],
   "source": [
    "str1 = 'Python'\n",
    "\n",
    "str1.lower()"
   ]
  },
  {
   "cell_type": "code",
   "execution_count": 2,
   "id": "31ce9097",
   "metadata": {},
   "outputs": [
    {
     "data": {
      "text/plain": [
       "'Python'"
      ]
     },
     "execution_count": 2,
     "metadata": {},
     "output_type": "execute_result"
    }
   ],
   "source": [
    "str1"
   ]
  },
  {
   "cell_type": "code",
   "execution_count": null,
   "id": "f1d618ad",
   "metadata": {},
   "outputs": [],
   "source": [
    "# 문자열 조작 메서드는 원래의 문자열을 변경하는 게 아니라 새로운 문자열을 만듦"
   ]
  },
  {
   "cell_type": "code",
   "execution_count": 3,
   "id": "8e286781",
   "metadata": {},
   "outputs": [
    {
     "name": "stdout",
     "output_type": "stream",
     "text": [
      "Python python\n"
     ]
    }
   ],
   "source": [
    "str1 = 'Python'\n",
    "str2 = str1.lower()\n",
    "# 반드시 저장해야 사용 가능\n",
    "\n",
    "print(str1, str2)"
   ]
  },
  {
   "cell_type": "code",
   "execution_count": null,
   "id": "24870e2a",
   "metadata": {},
   "outputs": [],
   "source": [
    "'''\n",
    "문제1] 다음의 내용을 'data/coffee_shop_sales.txt' 파일로 저장하는 코드를 작성하세요.\n",
    "\n",
    "날짜   에스프레소    아메리카노  카페라떼   카푸치노\n",
    "10.15          10            50        45         20\n",
    "10.16          12            45        41         18\n",
    "10.17          11            53        32         25\n",
    "10.18          15            49        38         22\n",
    "'''"
   ]
  },
  {
   "cell_type": "code",
   "execution_count": 4,
   "id": "52a5143b",
   "metadata": {},
   "outputs": [],
   "source": [
    "# my\n",
    "\n",
    "sales_info = '''\n",
    "날짜   에스프레소    아메리카노  카페라떼   카푸치노\n",
    "10.15          10            50        45         20\n",
    "10.16          12            45        41         18\n",
    "10.17          11            53        32         25\n",
    "10.18          15            49        38         22\n",
    "'''\n",
    "\n",
    "with open('../data/coffee_shop_sales.txt', 'wt') as f:\n",
    "    f.write(sales_info)"
   ]
  },
  {
   "cell_type": "code",
   "execution_count": 3,
   "id": "080f8407",
   "metadata": {},
   "outputs": [],
   "source": [
    "# answer\n",
    "\n",
    "coffee_shop_sales = '''날짜   에스프레소    아메리카노  카페라떼   카푸치노\n",
    "10.15          10            50        45         20\n",
    "10.16          12            45        41         18\n",
    "10.17          11            53        32         25\n",
    "10.18          15            49        38         22\n",
    "'''\n",
    "\n",
    "with open('../data/coffee_shop_sales.txt', 'wt') as f:\n",
    "    f.write(coffee_shop_sales)"
   ]
  },
  {
   "cell_type": "code",
   "execution_count": null,
   "id": "d2e38921",
   "metadata": {},
   "outputs": [],
   "source": [
    "'''\n",
    "문제2] 'data/coffee_shop_sales.txt' 파일을 읽고 다음의 결과를 출력하는 코드를 작성하세요.\n",
    "\n",
    "[출력 결과]\n",
    "\n",
    "에스프레소 [10, 12, 11, 15] / 총 판매량: 48, 평균 판매량: 12.0\n",
    "아메리카노 [xx, xx, xx, xx] / 총 판매량: xx, 평균 판매량: xx.x\n",
    "카페라떼 [xx, xx, xx, xx] / 총 판매량: xx, 평균 판매량: xx.x\n",
    "카푸치노 [xx, xx, xx, xx] / 총 판매량: xx, 평균 판매량: xx.x\n",
    "'''"
   ]
  },
  {
   "cell_type": "code",
   "execution_count": 25,
   "id": "8eba3ded",
   "metadata": {},
   "outputs": [],
   "source": [
    "# my\n",
    "\n",
    "with open('../data/coffee_shop_sales.txt', 'rt') as f:\n",
    "    lines = f.readlines()\n",
    "    \n",
    "lines = lines[1:]\n",
    "\n",
    "for i in range(len(lines)):\n",
    "    lines[i] = lines[i][2:len(lines[i]) - 1]\n",
    "    espresso = lines[i][1]\n",
    "    americano = lines[i][2]\n",
    "    latte = lines[i][3]\n",
    "    capuccino = lines[i][4]"
   ]
  },
  {
   "cell_type": "code",
   "execution_count": 15,
   "id": "825c7bbc",
   "metadata": {},
   "outputs": [
    {
     "name": "stdout",
     "output_type": "stream",
     "text": [
      "에스프레소 [10, 12, 11, 15] / 총 판매량: 48, 평균 판매량: 12.0\n",
      "아메리카노 [50, 45, 53, 49] / 총 판매량: 197, 평균 판매량: 49.2\n",
      "카페라떼 [45, 41, 32, 38] / 총 판매량: 156, 평균 판매량: 39.0\n",
      "카푸치노 [20, 18, 25, 22] / 총 판매량: 85, 평균 판매량: 21.2\n"
     ]
    }
   ],
   "source": [
    "# answer\n",
    "\n",
    "with open('../data/coffee_shop_sales.txt', 'rt') as f:\n",
    "    lines = f.readlines()\n",
    "    \n",
    "#1. coffee_menu 리스트 생성\n",
    "coffee_menu = lines[0]\n",
    "coffee_menu = coffee_menu.split() # white space를 구분자로 지정\n",
    "coffee_menu = coffee_menu[1:] # 세 줄을 합쳐서 coffee_menu = lines[0].split()[1:] 가능\n",
    "\n",
    "#2. 커피 판매량 정보만 lines 리스트에 저장\n",
    "lines = lines[1:]\n",
    "\n",
    "for i in range(len(lines)):\n",
    "    temp = lines[i]\n",
    "    temp = temp.split()\n",
    "    temp = temp[1:]\n",
    "    # lines[i] = lines[i].split()[1:]로 한 번에 해도 됨\n",
    "    \n",
    "    for j in range(len(temp)):\n",
    "        temp[j] = int(temp[j]) # 정수 값으로 형 변환\n",
    "    \n",
    "    lines[i] = temp\n",
    "    \n",
    "#3. 일자별 판매량이 아닌 커피 메뉴별 판매량을 저장하는 coffee_menu_sales 리스트 생성\n",
    "coffee_menu_sales = [[], [], [], []]\n",
    "\n",
    "for i in range(len(lines)): # 매 날짜별 행마다\n",
    "    for j in range(len(lines[i])): # 매 행의 각 entry 마다\n",
    "        coffee_menu_sales[j].append(lines[i][j]) # 빈 중첩 리스트의 j번째 리스트에 하나씩 저장\n",
    "    \n",
    "#4. 최종 결과 출력\n",
    "for i in range(len(coffee_menu)):\n",
    "    print('%s %s / 총 판매량: %d, 평균 판매량: %.1f' % (coffee_menu[i], coffee_menu_sales[i],\n",
    "                                sum(coffee_menu_sales[i]), sum(coffee_menu_sales[i])/len(coffee_menu_sales[i])))"
   ]
  },
  {
   "cell_type": "code",
   "execution_count": null,
   "id": "90888659",
   "metadata": {},
   "outputs": [],
   "source": []
  }
 ],
 "metadata": {
  "kernelspec": {
   "display_name": "Python 3 (ipykernel)",
   "language": "python",
   "name": "python3"
  },
  "language_info": {
   "codemirror_mode": {
    "name": "ipython",
    "version": 3
   },
   "file_extension": ".py",
   "mimetype": "text/x-python",
   "name": "python",
   "nbconvert_exporter": "python",
   "pygments_lexer": "ipython3",
   "version": "3.9.12"
  }
 },
 "nbformat": 4,
 "nbformat_minor": 5
}
