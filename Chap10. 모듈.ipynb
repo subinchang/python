{
 "cells": [
  {
   "cell_type": "code",
   "execution_count": 1,
   "id": "f9dd4f5d",
   "metadata": {},
   "outputs": [
    {
     "name": "stderr",
     "output_type": "stream",
     "text": [
      "UsageError: Line magic function `%%writefile` not found.\n"
     ]
    }
   ],
   "source": [
    "# 소스코드 위치에 작성됨\n",
    "\n",
    "%%writefile my_first_module.py\n",
    "# File name: my_first_module.py\n",
    "def my_function():\n",
    "    print('This is my first module.')"
   ]
  },
  {
   "cell_type": "code",
   "execution_count": 2,
   "id": "2476bacb",
   "metadata": {},
   "outputs": [
    {
     "name": "stdout",
     "output_type": "stream",
     "text": [
      "This is my first module.\n"
     ]
    }
   ],
   "source": [
    "import my_first_module\n",
    "\n",
    "my_first_module.my_function()"
   ]
  },
  {
   "cell_type": "code",
   "execution_count": 3,
   "id": "c2ffc568",
   "metadata": {},
   "outputs": [
    {
     "ename": "NameError",
     "evalue": "name 'my_function' is not defined",
     "output_type": "error",
     "traceback": [
      "\u001b[1;31m---------------------------------------------------------------------------\u001b[0m",
      "\u001b[1;31mNameError\u001b[0m                                 Traceback (most recent call last)",
      "Input \u001b[1;32mIn [3]\u001b[0m, in \u001b[0;36m<cell line: 1>\u001b[1;34m()\u001b[0m\n\u001b[1;32m----> 1\u001b[0m \u001b[43mmy_function\u001b[49m()\n",
      "\u001b[1;31mNameError\u001b[0m: name 'my_function' is not defined"
     ]
    }
   ],
   "source": [
    "my_function() # 호출해야 사용 가능"
   ]
  },
  {
   "cell_type": "code",
   "execution_count": 4,
   "id": "c8de1804",
   "metadata": {},
   "outputs": [
    {
     "name": "stderr",
     "output_type": "stream",
     "text": [
      "UsageError: Line magic function `%%writefile` not found.\n"
     ]
    }
   ],
   "source": [
    "# modules에 저장, 절대경로\n",
    "\n",
    "%%writefile C:/myPyCode/modules/my_second_module.py\n",
    "# File name: my_second_module.py\n",
    "def my_function():\n",
    "    print('This is my second module.')"
   ]
  },
  {
   "cell_type": "code",
   "execution_count": 5,
   "id": "e9754a5e",
   "metadata": {},
   "outputs": [
    {
     "name": "stdout",
     "output_type": "stream",
     "text": [
      "This is my second module.\n"
     ]
    }
   ],
   "source": [
    "import my_second_module\n",
    "\n",
    "my_second_module.my_function()"
   ]
  },
  {
   "cell_type": "code",
   "execution_count": 6,
   "id": "18fa3068",
   "metadata": {},
   "outputs": [
    {
     "name": "stderr",
     "output_type": "stream",
     "text": [
      "UsageError: Line magic function `%%writefile` not found.\n"
     ]
    }
   ],
   "source": [
    "# modules에 저장, 상대경로\n",
    "\n",
    "%%writefile ../modules/my_third_module.py\n",
    "# File name: my_third_module.py\n",
    "def my_function():\n",
    "    print('This is my third module.')"
   ]
  },
  {
   "cell_type": "code",
   "execution_count": 7,
   "id": "5556265d",
   "metadata": {},
   "outputs": [
    {
     "name": "stdout",
     "output_type": "stream",
     "text": [
      "This is my third module.\n"
     ]
    }
   ],
   "source": [
    "import my_third_module\n",
    "\n",
    "my_third_module.my_function()"
   ]
  },
  {
   "cell_type": "code",
   "execution_count": 8,
   "id": "c58b4b44",
   "metadata": {},
   "outputs": [
    {
     "name": "stdout",
     "output_type": "stream",
     "text": [
      "Overwriting ../modules/my_area.py\n"
     ]
    }
   ],
   "source": [
    "%%writefile ../modules/my_area.py\n",
    "# File name: my area,py\n",
    "PI = 3.141592 # 대문자로 하면 상수로 취급한다는 뜻\n",
    "\n",
    "def square_area(a):\n",
    "    return a**2\n",
    "\n",
    "def circle_area(r):\n",
    "    return PI * r ** 2"
   ]
  },
  {
   "cell_type": "code",
   "execution_count": 9,
   "id": "e161b965",
   "metadata": {},
   "outputs": [
    {
     "name": "stdout",
     "output_type": "stream",
     "text": [
      "PI: 3.141592\n",
      "square_area: 25\n",
      "circle_area: 12.566368\n"
     ]
    }
   ],
   "source": [
    "import my_area\n",
    "\n",
    "print('PI:', my_area.PI)\n",
    "print('square_area:', my_area.square_area(5))\n",
    "print('circle_area:', my_area.circle_area(2))"
   ]
  },
  {
   "cell_type": "code",
   "execution_count": 10,
   "id": "26bc9b2b",
   "metadata": {},
   "outputs": [
    {
     "data": {
      "text/plain": [
       "['PI',\n",
       " '__builtins__',\n",
       " '__cached__',\n",
       " '__doc__',\n",
       " '__file__',\n",
       " '__loader__',\n",
       " '__name__',\n",
       " '__package__',\n",
       " '__spec__',\n",
       " 'circle_area',\n",
       " 'square_area']"
      ]
     },
     "execution_count": 10,
     "metadata": {},
     "output_type": "execute_result"
    }
   ],
   "source": [
    "dir(my_area)"
   ]
  },
  {
   "cell_type": "code",
   "execution_count": 11,
   "id": "a85a8a5a",
   "metadata": {},
   "outputs": [
    {
     "name": "stdout",
     "output_type": "stream",
     "text": [
      "PI: 3.141592\n"
     ]
    }
   ],
   "source": [
    "from my_area import PI\n",
    "\n",
    "print('PI:', PI)\n",
    "\n",
    "# import 된 건지, 직접 만든 건지 구분 어려움 (출처 모호 => 유지보수 어려워짐)"
   ]
  },
  {
   "cell_type": "code",
   "execution_count": 12,
   "id": "6b96862f",
   "metadata": {},
   "outputs": [
    {
     "name": "stdout",
     "output_type": "stream",
     "text": [
      "PI: 3.141592\n",
      "square_area: 25\n",
      "circle_area: 12.566368\n"
     ]
    }
   ],
   "source": [
    "from my_area import PI\n",
    "from my_area import square_area\n",
    "from my_area import circle_area\n",
    "\n",
    "print('PI:', PI)\n",
    "print('square_area:', square_area(5))\n",
    "print('circle_area:', circle_area(2))"
   ]
  },
  {
   "cell_type": "code",
   "execution_count": 13,
   "id": "f599e37c",
   "metadata": {},
   "outputs": [
    {
     "name": "stdout",
     "output_type": "stream",
     "text": [
      "PI: 3.141592\n",
      "square_area: 25\n",
      "circle_area: 12.566368\n"
     ]
    }
   ],
   "source": [
    "from my_area import PI, square_area, circle_area\n",
    "\n",
    "print('PI:', PI)\n",
    "print('square_area:', square_area(5))\n",
    "print('circle_area:', circle_area(2))"
   ]
  },
  {
   "cell_type": "code",
   "execution_count": 14,
   "id": "20f53ac4",
   "metadata": {},
   "outputs": [
    {
     "name": "stdout",
     "output_type": "stream",
     "text": [
      "PI: 3.141592\n",
      "square_area: 25\n",
      "circle_area: 12.566368\n"
     ]
    }
   ],
   "source": [
    "from my_area import *\n",
    "\n",
    "print('PI:', PI)\n",
    "print('square_area:', square_area(5))\n",
    "print('circle_area:', circle_area(2))"
   ]
  },
  {
   "cell_type": "code",
   "execution_count": 15,
   "id": "819a74f3",
   "metadata": {},
   "outputs": [
    {
     "name": "stdout",
     "output_type": "stream",
     "text": [
      "PI: 3.141592\n",
      "square_area: 25\n",
      "circle_area: 12.566368\n"
     ]
    }
   ],
   "source": [
    "import my_area as ma\n",
    "\n",
    "print('PI:', ma.PI)\n",
    "print('square_area:', ma.square_area(5))\n",
    "print('circle_area:', ma.circle_area(2))"
   ]
  },
  {
   "cell_type": "code",
   "execution_count": 16,
   "id": "70fe60a2",
   "metadata": {},
   "outputs": [
    {
     "name": "stdout",
     "output_type": "stream",
     "text": [
      "PI: 3.141592\n",
      "square_area: 25\n",
      "circle_area: 12.566368\n"
     ]
    }
   ],
   "source": [
    "# 권장하지 않음\n",
    "\n",
    "from my_area import PI as p\n",
    "from my_area import square_area as sa\n",
    "from my_area import circle_area as ca\n",
    "\n",
    "print('PI:', PI)\n",
    "print('square_area:', sa(5))\n",
    "print('circle_area:', ca(2))"
   ]
  },
  {
   "cell_type": "code",
   "execution_count": 17,
   "id": "ceb1a0b1",
   "metadata": {},
   "outputs": [
    {
     "name": "stdout",
     "output_type": "stream",
     "text": [
      "Overwriting ../modules/my_module_test1.py\n"
     ]
    }
   ],
   "source": [
    "%%writefile ../modules/my_module_test1.py\n",
    "# File name: my_module_test1.py\n",
    "def func(a):\n",
    "    print('입력 값:', a)\n",
    "    \n",
    "func(5)"
   ]
  },
  {
   "cell_type": "code",
   "execution_count": 18,
   "id": "e3c2f399",
   "metadata": {},
   "outputs": [
    {
     "name": "stdout",
     "output_type": "stream",
     "text": [
      "입력 값: 5\n"
     ]
    }
   ],
   "source": [
    "import my_module_test1 # 최초 import되는 모듈만 시행되고 그 뒤에는 안 됨"
   ]
  },
  {
   "cell_type": "code",
   "execution_count": 19,
   "id": "a74c82af",
   "metadata": {},
   "outputs": [],
   "source": [
    "import my_module_test1 # 최초 import되는 모듈만 시행되고 그 뒤에는 안 됨"
   ]
  },
  {
   "cell_type": "code",
   "execution_count": 20,
   "id": "65f9aad7",
   "metadata": {},
   "outputs": [
    {
     "name": "stdout",
     "output_type": "stream",
     "text": [
      "입력 값: 10\n"
     ]
    }
   ],
   "source": [
    "my_module_test1.func(10) # 얼마든지 실행 가능"
   ]
  },
  {
   "cell_type": "code",
   "execution_count": 21,
   "id": "ab3c6cf6",
   "metadata": {},
   "outputs": [
    {
     "name": "stdout",
     "output_type": "stream",
     "text": [
      "입력 값: 5\n"
     ]
    }
   ],
   "source": [
    "%run ../modules/my_module_test1.py # %run 사용하면 실행 가능"
   ]
  },
  {
   "cell_type": "code",
   "execution_count": 22,
   "id": "30b04e4f",
   "metadata": {},
   "outputs": [
    {
     "name": "stdout",
     "output_type": "stream",
     "text": [
      "입력 값: 5\n"
     ]
    }
   ],
   "source": [
    "%run ../modules/my_module_test1.py # %run 사용하면 실행 가능, import와 실행은 다른 것"
   ]
  },
  {
   "cell_type": "code",
   "execution_count": 26,
   "id": "b9e5fad6",
   "metadata": {},
   "outputs": [
    {
     "name": "stdout",
     "output_type": "stream",
     "text": [
      "Overwriting ../modules/my_module_test2.py\n"
     ]
    }
   ],
   "source": [
    "%%writefile ../modules/my_module_test2.py\n",
    "# File name: my_module_test2.py\n",
    "def func(a):\n",
    "    print('입력 값:', a)\n",
    "    \n",
    "if __name__ == '__main__':\n",
    "    print('my_module_test2 모듈이 메인 모듈입니다.')\n",
    "    func(5)\n",
    "    func(3)"
   ]
  },
  {
   "cell_type": "code",
   "execution_count": 24,
   "id": "5a82ba8d",
   "metadata": {},
   "outputs": [],
   "source": [
    "import my_module_test2"
   ]
  },
  {
   "cell_type": "code",
   "execution_count": 27,
   "id": "dd7c0c1f",
   "metadata": {},
   "outputs": [
    {
     "name": "stdout",
     "output_type": "stream",
     "text": [
      "my_module_test2 모듈이 메인 모듈입니다.\n",
      "입력 값: 5\n",
      "입력 값: 3\n"
     ]
    }
   ],
   "source": [
    "%run ../modules/my_module_test2.py # 현재 모듈이 실행 모듈일 때만 if문 작동"
   ]
  },
  {
   "cell_type": "code",
   "execution_count": 31,
   "id": "14ee914f",
   "metadata": {},
   "outputs": [
    {
     "name": "stdout",
     "output_type": "stream",
     "text": [
      "Overwriting ../modules/my_module_test3.py\n"
     ]
    }
   ],
   "source": [
    "%%writefile ../modules/my_module_test3.py\n",
    "# File name: my_module_test3.py\n",
    "def func(a):\n",
    "    print('입력 값:', a)\n",
    "    \n",
    "if __name__ == '__main__':\n",
    "    print('my_module_test3 모듈이 메인 모듈입니다.')\n",
    "    func(5)\n",
    "    func(3)\n",
    "else:\n",
    "    print('my_module_test3 모듈은 import 되는 모듈입니다.')"
   ]
  },
  {
   "cell_type": "code",
   "execution_count": 32,
   "id": "a53be762",
   "metadata": {},
   "outputs": [],
   "source": [
    "import my_module_test3"
   ]
  },
  {
   "cell_type": "code",
   "execution_count": 34,
   "id": "c5f8cfa8",
   "metadata": {},
   "outputs": [
    {
     "name": "stdout",
     "output_type": "stream",
     "text": [
      "my_module_test3 모듈이 메인 모듈입니다.\n",
      "입력 값: 5\n",
      "입력 값: 3\n"
     ]
    }
   ],
   "source": [
    "%run ../modules/my_module_test3.py"
   ]
  },
  {
   "cell_type": "code",
   "execution_count": 41,
   "id": "049f245a",
   "metadata": {},
   "outputs": [
    {
     "name": "stdout",
     "output_type": "stream",
     "text": [
      "Writing ../packages/image/io_file/imgread.py\n"
     ]
    }
   ],
   "source": [
    "%%writefile ../packages/image/io_file/imgread.py\n",
    "# File name: imgread.py\n",
    "\n",
    "def pngread():\n",
    "    print('pngread in imgread module')\n",
    "    \n",
    "def jpgread():\n",
    "    print('jpgread in imgread module')"
   ]
  },
  {
   "cell_type": "code",
   "execution_count": 42,
   "id": "9f20fa21",
   "metadata": {},
   "outputs": [
    {
     "name": "stdout",
     "output_type": "stream",
     "text": [
      "폴더 PATH의 목록입니다.\n",
      "볼륨 일련 번호가 000000BC 66EE:8ABF입니다.\n",
      "C:\\MYPYCODE\\PACKAGES\n",
      "└─image\n",
      "    │  __init__.py.txt\n",
      "    │  \n",
      "    └─io_file\n",
      "            imgread.py\n",
      "            __init__.py.txt\n",
      "            \n"
     ]
    }
   ],
   "source": [
    "!tree /F c:\\myPyCode\\packages"
   ]
  },
  {
   "cell_type": "code",
   "execution_count": 43,
   "id": "307f362d",
   "metadata": {},
   "outputs": [
    {
     "name": "stdout",
     "output_type": "stream",
     "text": [
      "pngread in imgread module\n",
      "jpgread in imgread module\n"
     ]
    }
   ],
   "source": [
    "import image.io_file.imgread\n",
    "\n",
    "image.io_file.imgread.pngread()\n",
    "image.io_file.imgread.jpgread()"
   ]
  },
  {
   "cell_type": "code",
   "execution_count": 44,
   "id": "be12e8c0",
   "metadata": {},
   "outputs": [
    {
     "name": "stdout",
     "output_type": "stream",
     "text": [
      "pngread in imgread module\n",
      "jpgread in imgread module\n"
     ]
    }
   ],
   "source": [
    "from image.io_file import imgread\n",
    "\n",
    "imgread.pngread()\n",
    "imgread.jpgread()"
   ]
  },
  {
   "cell_type": "code",
   "execution_count": 45,
   "id": "f4513118",
   "metadata": {},
   "outputs": [
    {
     "name": "stdout",
     "output_type": "stream",
     "text": [
      "pngread in imgread module\n",
      "jpgread in imgread module\n"
     ]
    }
   ],
   "source": [
    "# 권장하지 않음\n",
    "\n",
    "from image.io_file.imgread import pngread\n",
    "from image.io_file.imgread import jpgread\n",
    "\n",
    "pngread()\n",
    "jpgread()"
   ]
  },
  {
   "cell_type": "code",
   "execution_count": 46,
   "id": "52004342",
   "metadata": {},
   "outputs": [
    {
     "name": "stdout",
     "output_type": "stream",
     "text": [
      "pngread in imgread module\n",
      "jpgread in imgread module\n"
     ]
    }
   ],
   "source": [
    "# 권장하지 않음\n",
    "\n",
    "from image.io_file.imgread import pngread, jpgread\n",
    "\n",
    "pngread()\n",
    "jpgread()"
   ]
  },
  {
   "cell_type": "code",
   "execution_count": 47,
   "id": "52d9c1c6",
   "metadata": {},
   "outputs": [
    {
     "name": "stdout",
     "output_type": "stream",
     "text": [
      "pngread in imgread module\n",
      "jpgread in imgread module\n"
     ]
    }
   ],
   "source": [
    "# 권장하지 않음\n",
    "\n",
    "from image.io_file.imgread import *\n",
    "\n",
    "pngread()\n",
    "jpgread()"
   ]
  },
  {
   "cell_type": "code",
   "execution_count": 48,
   "id": "026c0fd0",
   "metadata": {},
   "outputs": [
    {
     "name": "stdout",
     "output_type": "stream",
     "text": [
      "pngread in imgread module\n",
      "jpgread in imgread module\n"
     ]
    }
   ],
   "source": [
    "# 권장\n",
    "\n",
    "from image.io_file import imgread as ir\n",
    "\n",
    "ir.pngread()\n",
    "ir.jpgread()"
   ]
  },
  {
   "cell_type": "code",
   "execution_count": 49,
   "id": "b2ed36e8",
   "metadata": {},
   "outputs": [
    {
     "name": "stdout",
     "output_type": "stream",
     "text": [
      "pngread in imgread module\n",
      "jpgread in imgread module\n"
     ]
    }
   ],
   "source": [
    "# 권장하지 않음\n",
    "\n",
    "from image.io_file.imgread import pngread as pr\n",
    "from image.io_file.imgread import jpgread as jr\n",
    "\n",
    "pr()\n",
    "jr()"
   ]
  },
  {
   "cell_type": "code",
   "execution_count": null,
   "id": "304fa197",
   "metadata": {},
   "outputs": [],
   "source": []
  }
 ],
 "metadata": {
  "kernelspec": {
   "display_name": "Python 3 (ipykernel)",
   "language": "python",
   "name": "python3"
  },
  "language_info": {
   "codemirror_mode": {
    "name": "ipython",
    "version": 3
   },
   "file_extension": ".py",
   "mimetype": "text/x-python",
   "name": "python",
   "nbconvert_exporter": "python",
   "pygments_lexer": "ipython3",
   "version": "3.9.12"
  }
 },
 "nbformat": 4,
 "nbformat_minor": 5
}
