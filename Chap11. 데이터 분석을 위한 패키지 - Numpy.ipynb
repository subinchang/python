{
 "cells": [
  {
   "cell_type": "code",
   "execution_count": 1,
   "id": "d48cc46b",
   "metadata": {},
   "outputs": [
    {
     "data": {
      "text/plain": [
       "[1, 2, 3, 4, 5]"
      ]
     },
     "execution_count": 1,
     "metadata": {},
     "output_type": "execute_result"
    }
   ],
   "source": [
    "lst = [1, 2, 3, 4, 5]\n",
    "\n",
    "lst"
   ]
  },
  {
   "cell_type": "code",
   "execution_count": 2,
   "id": "6102fdbd",
   "metadata": {},
   "outputs": [
    {
     "data": {
      "text/plain": [
       "[1, 2, '문자열', 4, 5]"
      ]
     },
     "execution_count": 2,
     "metadata": {},
     "output_type": "execute_result"
    }
   ],
   "source": [
    "lst[2] = '문자열'\n",
    "\n",
    "lst\n",
    "\n",
    "# 파이썬 컨테이너는 서로 다른 종류의 값이 저장되는 것을 막지 못함\n",
    "# 넘피는 같은 종류의 값으로만 저장이 가능함"
   ]
  },
  {
   "cell_type": "code",
   "execution_count": 1,
   "id": "4a951ca8",
   "metadata": {},
   "outputs": [
    {
     "name": "stdout",
     "output_type": "stream",
     "text": [
      "1\t2\t3\t\n",
      "4\t5\t6\t\n",
      "7\t8\t9\t\n"
     ]
    }
   ],
   "source": [
    "# 다차원 구조 지원하지만 안정적이지 못함\n",
    "\n",
    "lst = [[1, 2, 3], [4, 5, 6], [7, 8, 9]]\n",
    "\n",
    "for sub in lst:\n",
    "    for num in sub:\n",
    "        print(num, end='\\t')\n",
    "        \n",
    "    print()"
   ]
  },
  {
   "cell_type": "code",
   "execution_count": 2,
   "id": "157143f1",
   "metadata": {},
   "outputs": [
    {
     "name": "stdout",
     "output_type": "stream",
     "text": [
      "1\t2\t3\t\n",
      "나\t는\t \t문\t자\t열\t\n",
      "7\t8\t9\t\n"
     ]
    }
   ],
   "source": [
    "# 안정적 X\n",
    "\n",
    "lst = [[1, 2, 3], [4, 5, 6], [7, 8, 9]]\n",
    "\n",
    "lst[1] = '나는 문자열'\n",
    "\n",
    "for sub in lst:\n",
    "    for num in sub:\n",
    "        print(num, end='\\t')\n",
    "        \n",
    "    print()"
   ]
  },
  {
   "cell_type": "code",
   "execution_count": 3,
   "id": "eb4d5022",
   "metadata": {},
   "outputs": [
    {
     "name": "stdout",
     "output_type": "stream",
     "text": [
      "1\t2\t3\t\n"
     ]
    },
    {
     "ename": "TypeError",
     "evalue": "'int' object is not iterable",
     "output_type": "error",
     "traceback": [
      "\u001b[1;31m---------------------------------------------------------------------------\u001b[0m",
      "\u001b[1;31mTypeError\u001b[0m                                 Traceback (most recent call last)",
      "Input \u001b[1;32mIn [3]\u001b[0m, in \u001b[0;36m<cell line: 2>\u001b[1;34m()\u001b[0m\n\u001b[0;32m      1\u001b[0m lst[\u001b[38;5;241m1\u001b[39m] \u001b[38;5;241m=\u001b[39m \u001b[38;5;241m1234\u001b[39m\n\u001b[0;32m      2\u001b[0m \u001b[38;5;28;01mfor\u001b[39;00m sub \u001b[38;5;129;01min\u001b[39;00m lst:\n\u001b[1;32m----> 3\u001b[0m     \u001b[38;5;28;01mfor\u001b[39;00m num \u001b[38;5;129;01min\u001b[39;00m sub:\n\u001b[0;32m      4\u001b[0m         \u001b[38;5;28mprint\u001b[39m(num, end\u001b[38;5;241m=\u001b[39m\u001b[38;5;124m'\u001b[39m\u001b[38;5;130;01m\\t\u001b[39;00m\u001b[38;5;124m'\u001b[39m)\n\u001b[0;32m      6\u001b[0m     \u001b[38;5;28mprint\u001b[39m()\n",
      "\u001b[1;31mTypeError\u001b[0m: 'int' object is not iterable"
     ]
    }
   ],
   "source": [
    "# 안정적 X\n",
    "\n",
    "lst[1] = 1234\n",
    "for sub in lst:\n",
    "    for num in sub:\n",
    "        print(num, end='\\t')\n",
    "        \n",
    "    print()"
   ]
  },
  {
   "cell_type": "code",
   "execution_count": 1,
   "id": "02cf6822",
   "metadata": {},
   "outputs": [],
   "source": [
    "import numpy as np"
   ]
  },
  {
   "cell_type": "code",
   "execution_count": null,
   "id": "04a80cff",
   "metadata": {},
   "outputs": [],
   "source": [
    "'''\n",
    "Sequential Container\n",
    "=> str, list, tuple / index(o), slicing(o)\n",
    "\n",
    "Non-Sequential Container\n",
    "=> set, dict / index(x)\n",
    "----------------------------\n",
    "str, list, tuple, set, dict\n",
    "'''"
   ]
  },
  {
   "cell_type": "code",
   "execution_count": 5,
   "id": "e7d5463f",
   "metadata": {},
   "outputs": [
    {
     "name": "stdout",
     "output_type": "stream",
     "text": [
      "<class 'list'> <class 'numpy.ndarray'>\n"
     ]
    },
    {
     "data": {
      "text/plain": [
       "array([1, 2, 3, 4, 5])"
      ]
     },
     "execution_count": 5,
     "metadata": {},
     "output_type": "execute_result"
    }
   ],
   "source": [
    "lst1 = [1, 2, 3, 4, 5]\n",
    "arr1 = np.array(lst1)\n",
    "\n",
    "print(type(lst1), type(arr1))\n",
    "arr1\n",
    "\n",
    "#ndarray: n차원(dimension)array"
   ]
  },
  {
   "cell_type": "code",
   "execution_count": 3,
   "id": "e95672ac",
   "metadata": {},
   "outputs": [
    {
     "name": "stdout",
     "output_type": "stream",
     "text": [
      "<class 'int'> <class 'float'> <class 'float'>\n"
     ]
    }
   ],
   "source": [
    "print(type(3), type(3.), type(.3))"
   ]
  },
  {
   "cell_type": "code",
   "execution_count": 6,
   "id": "dffbf76a",
   "metadata": {},
   "outputs": [
    {
     "name": "stdout",
     "output_type": "stream",
     "text": [
      "<class 'list'> <class 'numpy.ndarray'>\n"
     ]
    },
    {
     "data": {
      "text/plain": [
       "array([1.2, 2. , 3. , 4. , 5.3])"
      ]
     },
     "execution_count": 6,
     "metadata": {},
     "output_type": "execute_result"
    }
   ],
   "source": [
    "# numpy 배열은 하나라도 실수면 전부 실수로 바꿔 실수 배열이 됨\n",
    "\n",
    "lst2 = [1.2, 2, 3, 4, 5.3]\n",
    "arr2 = np.array(lst2)\n",
    "\n",
    "print(type(lst2), type(arr2))\n",
    "arr2"
   ]
  },
  {
   "cell_type": "code",
   "execution_count": 7,
   "id": "42152a9c",
   "metadata": {},
   "outputs": [
    {
     "name": "stdout",
     "output_type": "stream",
     "text": [
      "int32 float64\n"
     ]
    }
   ],
   "source": [
    "print(arr1.dtype, arr2.dtype)\n",
    "\n",
    "# C언어에서 정수는 4바이트 int가 기본 -> 32bit\n",
    "# C언어에서 실수는 8바이트, double과 같음"
   ]
  },
  {
   "cell_type": "code",
   "execution_count": 8,
   "id": "fce3b093",
   "metadata": {},
   "outputs": [
    {
     "data": {
      "text/plain": [
       "array([[1, 2, 3],\n",
       "       [4, 5, 6],\n",
       "       [7, 8, 9]])"
      ]
     },
     "execution_count": 8,
     "metadata": {},
     "output_type": "execute_result"
    }
   ],
   "source": [
    "# 다차원 배열\n",
    "lst3 = [[1, 2, 3], [4, 5, 6], [7, 8, 9]]\n",
    "arr3 = np.array(lst3)\n",
    "\n",
    "arr3"
   ]
  },
  {
   "cell_type": "code",
   "execution_count": 9,
   "id": "4c3bae64",
   "metadata": {},
   "outputs": [
    {
     "data": {
      "text/plain": [
       "array([0, 2, 4, 6, 8])"
      ]
     },
     "execution_count": 9,
     "metadata": {},
     "output_type": "execute_result"
    }
   ],
   "source": [
    "arr = np.arange(0, 10, 2)\n",
    "arr"
   ]
  },
  {
   "cell_type": "code",
   "execution_count": 10,
   "id": "6f95e463",
   "metadata": {},
   "outputs": [
    {
     "data": {
      "text/plain": [
       "array([0, 1, 2, 3, 4, 5, 6, 7, 8, 9])"
      ]
     },
     "execution_count": 10,
     "metadata": {},
     "output_type": "execute_result"
    }
   ],
   "source": [
    "# step 생략 가능\n",
    "arr = np.arange(0, 10)\n",
    "arr"
   ]
  },
  {
   "cell_type": "code",
   "execution_count": 11,
   "id": "30f57c9d",
   "metadata": {},
   "outputs": [
    {
     "data": {
      "text/plain": [
       "array([0, 1, 2, 3, 4, 5, 6, 7, 8, 9])"
      ]
     },
     "execution_count": 11,
     "metadata": {},
     "output_type": "execute_result"
    }
   ],
   "source": [
    "# start 생략 가능\n",
    "arr = np.arange(10)\n",
    "arr"
   ]
  },
  {
   "cell_type": "code",
   "execution_count": 12,
   "id": "ff06126a",
   "metadata": {
    "collapsed": true
   },
   "outputs": [
    {
     "ename": "TypeError",
     "evalue": "arange() requires stop to be specified.",
     "output_type": "error",
     "traceback": [
      "\u001b[1;31m---------------------------------------------------------------------------\u001b[0m",
      "\u001b[1;31mTypeError\u001b[0m                                 Traceback (most recent call last)",
      "Input \u001b[1;32mIn [12]\u001b[0m, in \u001b[0;36m<cell line: 1>\u001b[1;34m()\u001b[0m\n\u001b[1;32m----> 1\u001b[0m arr \u001b[38;5;241m=\u001b[39m \u001b[43mnp\u001b[49m\u001b[38;5;241;43m.\u001b[39;49m\u001b[43marange\u001b[49m\u001b[43m(\u001b[49m\u001b[43m)\u001b[49m\n\u001b[0;32m      2\u001b[0m arr\n",
      "\u001b[1;31mTypeError\u001b[0m: arange() requires stop to be specified."
     ]
    }
   ],
   "source": [
    "# stop 생략하면 오류 발생\n",
    "arr = np.arange()\n",
    "arr"
   ]
  },
  {
   "cell_type": "code",
   "execution_count": null,
   "id": "54cc2aed",
   "metadata": {},
   "outputs": [],
   "source": [
    "'''\n",
    "넘피의 함수: array, arange, linspace, ones, zeros, eye\n",
    "배열의 속성: dtype, shape\n",
    "배열의 메서드: reshape, astype\n",
    "'''"
   ]
  },
  {
   "cell_type": "code",
   "execution_count": 13,
   "id": "8899b75e",
   "metadata": {},
   "outputs": [
    {
     "data": {
      "text/plain": [
       "array([ 0,  1,  2,  3,  4,  5,  6,  7,  8,  9, 10, 11])"
      ]
     },
     "execution_count": 13,
     "metadata": {},
     "output_type": "execute_result"
    }
   ],
   "source": [
    "arr = np.arange(12)\n",
    "arr"
   ]
  },
  {
   "cell_type": "code",
   "execution_count": 15,
   "id": "9009f3a3",
   "metadata": {},
   "outputs": [
    {
     "data": {
      "text/plain": [
       "array([[ 0,  1,  2],\n",
       "       [ 3,  4,  5],\n",
       "       [ 6,  7,  8],\n",
       "       [ 9, 10, 11]])"
      ]
     },
     "execution_count": 15,
     "metadata": {},
     "output_type": "execute_result"
    }
   ],
   "source": [
    "arr.reshape(4, 3)"
   ]
  },
  {
   "cell_type": "code",
   "execution_count": 16,
   "id": "19016ede",
   "metadata": {},
   "outputs": [
    {
     "data": {
      "text/plain": [
       "array([[ 0,  1,  2],\n",
       "       [ 3,  4,  5],\n",
       "       [ 6,  7,  8],\n",
       "       [ 9, 10, 11]])"
      ]
     },
     "execution_count": 16,
     "metadata": {},
     "output_type": "execute_result"
    }
   ],
   "source": [
    "# 합쳐서 표현할 수도 있음\n",
    "np.arange(12).reshape(4,3)"
   ]
  },
  {
   "cell_type": "code",
   "execution_count": 17,
   "id": "31e487b6",
   "metadata": {},
   "outputs": [
    {
     "data": {
      "text/plain": [
       "array([ 0,  1,  2,  3,  4,  5,  6,  7,  8,  9, 10, 11])"
      ]
     },
     "execution_count": 17,
     "metadata": {},
     "output_type": "execute_result"
    }
   ],
   "source": [
    "arr = np.arange(12)\n",
    "arr.reshape(4, 3)    # reshape 메서드는 원본 배열을 변경하지 않는다.\n",
    "\n",
    "arr"
   ]
  },
  {
   "cell_type": "code",
   "execution_count": 19,
   "id": "2eec1bc1",
   "metadata": {},
   "outputs": [
    {
     "name": "stdout",
     "output_type": "stream",
     "text": [
      "[ 0  1  2  3  4  5  6  7  8  9 10 11]\n",
      "\n",
      "[[ 0  1  2]\n",
      " [ 3  4  5]\n",
      " [ 6  7  8]\n",
      " [ 9 10 11]]\n"
     ]
    }
   ],
   "source": [
    "arr1 = np.arange(12)\n",
    "arr2 = arr.reshape(4, 3)    # reshape 메서드는 꼭 저장해서 사용해야 함\n",
    "\n",
    "print(arr1, arr2, sep='\\n\\n')"
   ]
  },
  {
   "cell_type": "code",
   "execution_count": 20,
   "id": "10210fd6",
   "metadata": {},
   "outputs": [
    {
     "ename": "ValueError",
     "evalue": "cannot reshape array of size 12 into shape (4,4)",
     "output_type": "error",
     "traceback": [
      "\u001b[1;31m---------------------------------------------------------------------------\u001b[0m",
      "\u001b[1;31mValueError\u001b[0m                                Traceback (most recent call last)",
      "Input \u001b[1;32mIn [20]\u001b[0m, in \u001b[0;36m<cell line: 2>\u001b[1;34m()\u001b[0m\n\u001b[0;32m      1\u001b[0m arr1 \u001b[38;5;241m=\u001b[39m np\u001b[38;5;241m.\u001b[39marange(\u001b[38;5;241m12\u001b[39m)\n\u001b[1;32m----> 2\u001b[0m arr2 \u001b[38;5;241m=\u001b[39m \u001b[43marr1\u001b[49m\u001b[38;5;241;43m.\u001b[39;49m\u001b[43mreshape\u001b[49m\u001b[43m(\u001b[49m\u001b[38;5;241;43m4\u001b[39;49m\u001b[43m,\u001b[49m\u001b[43m \u001b[49m\u001b[38;5;241;43m4\u001b[39;49m\u001b[43m)\u001b[49m\n",
      "\u001b[1;31mValueError\u001b[0m: cannot reshape array of size 12 into shape (4,4)"
     ]
    }
   ],
   "source": [
    "arr1 = np.arange(12) # arr1 - 12개\n",
    "arr2 = arr1.reshape(4, 4) # arr2 - 16개라 오류 발생"
   ]
  },
  {
   "cell_type": "code",
   "execution_count": 22,
   "id": "34ff0fb6",
   "metadata": {},
   "outputs": [
    {
     "ename": "ValueError",
     "evalue": "cannot reshape array of size 12 into shape (3,3)",
     "output_type": "error",
     "traceback": [
      "\u001b[1;31m---------------------------------------------------------------------------\u001b[0m",
      "\u001b[1;31mValueError\u001b[0m                                Traceback (most recent call last)",
      "Input \u001b[1;32mIn [22]\u001b[0m, in \u001b[0;36m<cell line: 2>\u001b[1;34m()\u001b[0m\n\u001b[0;32m      1\u001b[0m arr1 \u001b[38;5;241m=\u001b[39m np\u001b[38;5;241m.\u001b[39marange(\u001b[38;5;241m12\u001b[39m) \u001b[38;5;66;03m# arr1 - 12개\u001b[39;00m\n\u001b[1;32m----> 2\u001b[0m arr2 \u001b[38;5;241m=\u001b[39m \u001b[43marr1\u001b[49m\u001b[38;5;241;43m.\u001b[39;49m\u001b[43mreshape\u001b[49m\u001b[43m(\u001b[49m\u001b[38;5;241;43m3\u001b[39;49m\u001b[43m,\u001b[49m\u001b[43m \u001b[49m\u001b[38;5;241;43m3\u001b[39;49m\u001b[43m)\u001b[49m\n",
      "\u001b[1;31mValueError\u001b[0m: cannot reshape array of size 12 into shape (3,3)"
     ]
    }
   ],
   "source": [
    "# 원본 배열에 저장된 값의 수와 새로운 배열에서 필요로 하는 값의 수가 반드시 일치해야 함. 많거나 적으면 오류 발생.\n",
    "\n",
    "arr1 = np.arange(12)\n",
    "arr2 = arr1.reshape(3, 3)"
   ]
  },
  {
   "cell_type": "code",
   "execution_count": 24,
   "id": "5e481be3",
   "metadata": {},
   "outputs": [
    {
     "name": "stdout",
     "output_type": "stream",
     "text": [
      "(12,) (4, 3)\n"
     ]
    }
   ],
   "source": [
    "arr1 = np.arange(12)\n",
    "arr2 = arr.reshape(4, 3)\n",
    "\n",
    "print(arr1.shape, arr2.shape)\n",
    "\n",
    "# shape 속성의 결과는 튜플임 (x, y)\n",
    "# arr1은 1차원 배열이기 때문에 크기가 12인 1차원 배열\n",
    "# 단일값 튜플을 허용하지 않지만 만들 수는 있음. 그럴 때 콤마 사용"
   ]
  },
  {
   "cell_type": "code",
   "execution_count": 28,
   "id": "2b520107",
   "metadata": {},
   "outputs": [
    {
     "name": "stdout",
     "output_type": "stream",
     "text": [
      "<class 'int'> 3\n"
     ]
    }
   ],
   "source": [
    "tpl1 = (3)\n",
    "print(type(tpl1), tpl1)"
   ]
  },
  {
   "cell_type": "code",
   "execution_count": 29,
   "id": "4f75666b",
   "metadata": {},
   "outputs": [
    {
     "name": "stdout",
     "output_type": "stream",
     "text": [
      "<class 'tuple'> (3,) 3\n"
     ]
    }
   ],
   "source": [
    "tpl2 = (3,)\n",
    "print(type(tpl2), tpl2, tpl2[0])"
   ]
  },
  {
   "cell_type": "code",
   "execution_count": 31,
   "id": "cf453e55",
   "metadata": {},
   "outputs": [
    {
     "data": {
      "text/plain": [
       "array([ 1.,  2.,  3.,  4.,  5.,  6.,  7.,  8.,  9., 10.])"
      ]
     },
     "execution_count": 31,
     "metadata": {},
     "output_type": "execute_result"
    }
   ],
   "source": [
    "arr1 = np.linspace(1, 10, 10)\n",
    "arr1"
   ]
  },
  {
   "cell_type": "code",
   "execution_count": 33,
   "id": "17eee266",
   "metadata": {},
   "outputs": [
    {
     "data": {
      "text/plain": [
       "3.141592653589793"
      ]
     },
     "execution_count": 33,
     "metadata": {},
     "output_type": "execute_result"
    }
   ],
   "source": [
    "np.pi"
   ]
  },
  {
   "cell_type": "code",
   "execution_count": 34,
   "id": "f45e9ae7",
   "metadata": {},
   "outputs": [
    {
     "data": {
      "text/plain": [
       "array([0.        , 0.16534698, 0.33069396, 0.49604095, 0.66138793,\n",
       "       0.82673491, 0.99208189, 1.15742887, 1.32277585, 1.48812284,\n",
       "       1.65346982, 1.8188168 , 1.98416378, 2.14951076, 2.31485774,\n",
       "       2.48020473, 2.64555171, 2.81089869, 2.97624567, 3.14159265])"
      ]
     },
     "execution_count": 34,
     "metadata": {},
     "output_type": "execute_result"
    }
   ],
   "source": [
    "arr2 = np.linspace(0, np.pi, 20)\n",
    "arr2"
   ]
  },
  {
   "cell_type": "code",
   "execution_count": 35,
   "id": "55472969",
   "metadata": {},
   "outputs": [
    {
     "data": {
      "text/plain": [
       "array([0.        , 0.06411414, 0.12822827, 0.19234241, 0.25645654,\n",
       "       0.32057068, 0.38468481, 0.44879895, 0.51291309, 0.57702722,\n",
       "       0.64114136, 0.70525549, 0.76936963, 0.83348377, 0.8975979 ,\n",
       "       0.96171204, 1.02582617, 1.08994031, 1.15405444, 1.21816858,\n",
       "       1.28228272, 1.34639685, 1.41051099, 1.47462512, 1.53873926,\n",
       "       1.60285339, 1.66696753, 1.73108167, 1.7951958 , 1.85930994,\n",
       "       1.92342407, 1.98753821, 2.05165235, 2.11576648, 2.17988062,\n",
       "       2.24399475, 2.30810889, 2.37222302, 2.43633716, 2.5004513 ,\n",
       "       2.56456543, 2.62867957, 2.6927937 , 2.75690784, 2.82102197,\n",
       "       2.88513611, 2.94925025, 3.01336438, 3.07747852, 3.14159265])"
      ]
     },
     "execution_count": 35,
     "metadata": {},
     "output_type": "execute_result"
    }
   ],
   "source": [
    "# num 생략하면 50개\n",
    "arr2 = np.linspace(0, np.pi)\n",
    "arr2"
   ]
  },
  {
   "cell_type": "code",
   "execution_count": 36,
   "id": "29bf7ee6",
   "metadata": {},
   "outputs": [
    {
     "data": {
      "text/plain": [
       "array([0., 0., 0., 0., 0., 0., 0., 0., 0., 0.])"
      ]
     },
     "execution_count": 36,
     "metadata": {},
     "output_type": "execute_result"
    }
   ],
   "source": [
    "arr1 = np.zeros(10)\n",
    "arr1"
   ]
  },
  {
   "cell_type": "code",
   "execution_count": 37,
   "id": "3db6bb4a",
   "metadata": {},
   "outputs": [
    {
     "data": {
      "text/plain": [
       "array([[0., 0., 0., 0.],\n",
       "       [0., 0., 0., 0.],\n",
       "       [0., 0., 0., 0.]])"
      ]
     },
     "execution_count": 37,
     "metadata": {},
     "output_type": "execute_result"
    }
   ],
   "source": [
    "arr2 = np.zeros((3,4))\n",
    "arr2"
   ]
  },
  {
   "cell_type": "code",
   "execution_count": 38,
   "id": "d6acf5f8",
   "metadata": {},
   "outputs": [
    {
     "data": {
      "text/plain": [
       "array([1., 1., 1., 1., 1., 1., 1., 1., 1., 1.])"
      ]
     },
     "execution_count": 38,
     "metadata": {},
     "output_type": "execute_result"
    }
   ],
   "source": [
    "arr3 = np.ones(10)\n",
    "arr3"
   ]
  },
  {
   "cell_type": "code",
   "execution_count": 39,
   "id": "325cb18f",
   "metadata": {},
   "outputs": [
    {
     "data": {
      "text/plain": [
       "array([[1., 1., 1., 1.],\n",
       "       [1., 1., 1., 1.],\n",
       "       [1., 1., 1., 1.]])"
      ]
     },
     "execution_count": 39,
     "metadata": {},
     "output_type": "execute_result"
    }
   ],
   "source": [
    "arr4 = np.ones((3,4))\n",
    "arr4"
   ]
  },
  {
   "cell_type": "code",
   "execution_count": 40,
   "id": "d2da2f20",
   "metadata": {},
   "outputs": [
    {
     "data": {
      "text/plain": [
       "array([[1., 0., 0.],\n",
       "       [0., 1., 0.],\n",
       "       [0., 0., 1.]])"
      ]
     },
     "execution_count": 40,
     "metadata": {},
     "output_type": "execute_result"
    }
   ],
   "source": [
    "arr = np.eye(3)\n",
    "arr"
   ]
  },
  {
   "cell_type": "code",
   "execution_count": 45,
   "id": "583f96dc",
   "metadata": {},
   "outputs": [
    {
     "data": {
      "text/plain": [
       "array(['1.567', '0.123', '5.6789', '5', '8.456', '3', '9.345'],\n",
       "      dtype='<U6')"
      ]
     },
     "execution_count": 45,
     "metadata": {},
     "output_type": "execute_result"
    }
   ],
   "source": [
    "num_str = '1.567 0.123 5.6789 5 8.456 3 9.345'\n",
    "lst = num_str.split(' ')\n",
    "arr1 = np.array(lst)\n",
    "arr1\n",
    "\n",
    "# <U6에서 U: Unicode 문자열, 6: 제일 긴 문자열 길이가 6자리"
   ]
  },
  {
   "cell_type": "code",
   "execution_count": 46,
   "id": "ccb74674",
   "metadata": {},
   "outputs": [
    {
     "data": {
      "text/plain": [
       "array([1.567 , 0.123 , 5.6789, 5.    , 8.456 , 3.    , 9.345 ])"
      ]
     },
     "execution_count": 46,
     "metadata": {},
     "output_type": "execute_result"
    }
   ],
   "source": [
    "arr1.astype(float)\n",
    "# astype는 원본 배열을 변경하지 않음, 따로 저장 필요"
   ]
  },
  {
   "cell_type": "code",
   "execution_count": 47,
   "id": "876d7fa8",
   "metadata": {},
   "outputs": [
    {
     "data": {
      "text/plain": [
       "array(['1.567', '0.123', '5.6789', '5', '8.456', '3', '9.345'],\n",
       "      dtype='<U6')"
      ]
     },
     "execution_count": 47,
     "metadata": {},
     "output_type": "execute_result"
    }
   ],
   "source": [
    "arr1"
   ]
  },
  {
   "cell_type": "code",
   "execution_count": 49,
   "id": "8a7de4bb",
   "metadata": {},
   "outputs": [
    {
     "name": "stdout",
     "output_type": "stream",
     "text": [
      "<U6 ['1.567' '0.123' '5.6789' '5' '8.456' '3' '9.345']\n",
      "float64 [1.567  0.123  5.6789 5.     8.456  3.     9.345 ]\n"
     ]
    }
   ],
   "source": [
    "num_str = '1.567 0.123 5.6789 5 8.456 3 9.345'\n",
    "lst = num_str.split(' ')\n",
    "arr1 = np.array(lst)\n",
    "arr2 = arr1.astype(float) # float은 numpy가 아니라 python의 데이터 타입임\n",
    "\n",
    "print(arr1.dtype, arr1)\n",
    "print(arr2.dtype, arr2)"
   ]
  },
  {
   "cell_type": "code",
   "execution_count": 52,
   "id": "2363be4c",
   "metadata": {},
   "outputs": [
    {
     "name": "stdout",
     "output_type": "stream",
     "text": [
      "<U6 ['1.567' '0.123' '5.6789' '5' '8.456' '3' '9.345']\n",
      "float32 [1.567  0.123  5.6789 5.     8.456  3.     9.345 ]\n"
     ]
    }
   ],
   "source": [
    "num_str = '1.567 0.123 5.6789 5 8.456 3 9.345'\n",
    "lst = num_str.split(' ')\n",
    "arr1 = np.array(lst)\n",
    "arr2 = arr1.astype(np.float32) # 64가 아니라 32로 하면 정밀도는 떨어지지만 데이터 양이 1/2가 됨\n",
    "\n",
    "print(arr1.dtype, arr1)\n",
    "print(arr2.dtype, arr2)"
   ]
  },
  {
   "cell_type": "code",
   "execution_count": 53,
   "id": "a82d37e2",
   "metadata": {},
   "outputs": [
    {
     "ename": "ValueError",
     "evalue": "invalid literal for int() with base 10: '1.567'",
     "output_type": "error",
     "traceback": [
      "\u001b[1;31m---------------------------------------------------------------------------\u001b[0m",
      "\u001b[1;31mValueError\u001b[0m                                Traceback (most recent call last)",
      "Input \u001b[1;32mIn [53]\u001b[0m, in \u001b[0;36m<cell line: 4>\u001b[1;34m()\u001b[0m\n\u001b[0;32m      2\u001b[0m lst \u001b[38;5;241m=\u001b[39m num_str\u001b[38;5;241m.\u001b[39msplit(\u001b[38;5;124m'\u001b[39m\u001b[38;5;124m \u001b[39m\u001b[38;5;124m'\u001b[39m)\n\u001b[0;32m      3\u001b[0m arr1 \u001b[38;5;241m=\u001b[39m np\u001b[38;5;241m.\u001b[39marray(lst)\n\u001b[1;32m----> 4\u001b[0m arr2 \u001b[38;5;241m=\u001b[39m \u001b[43marr1\u001b[49m\u001b[38;5;241;43m.\u001b[39;49m\u001b[43mastype\u001b[49m\u001b[43m(\u001b[49m\u001b[43mnp\u001b[49m\u001b[38;5;241;43m.\u001b[39;49m\u001b[43mint32\u001b[49m\u001b[43m)\u001b[49m\n\u001b[0;32m      6\u001b[0m \u001b[38;5;28mprint\u001b[39m(arr1\u001b[38;5;241m.\u001b[39mdtype, arr1)\n\u001b[0;32m      7\u001b[0m \u001b[38;5;28mprint\u001b[39m(arr2\u001b[38;5;241m.\u001b[39mdtype, arr2)\n",
      "\u001b[1;31mValueError\u001b[0m: invalid literal for int() with base 10: '1.567'"
     ]
    }
   ],
   "source": [
    "# 실수 형식 -> 정수 값 변환은 오류 발생\n",
    "\n",
    "num_str = '1.567 0.123 5.6789 5 8.456 3 9.345'\n",
    "lst = num_str.split(' ')\n",
    "arr1 = np.array(lst)\n",
    "arr2 = arr1.astype(np.int32)\n",
    "\n",
    "print(arr1.dtype, arr1)\n",
    "print(arr2.dtype, arr2)"
   ]
  },
  {
   "cell_type": "code",
   "execution_count": 54,
   "id": "2adb801b",
   "metadata": {},
   "outputs": [
    {
     "name": "stdout",
     "output_type": "stream",
     "text": [
      "<U6 ['1.567' '0.123' '5.6789' '5' '8.456' '3' '9.345']\n",
      "float32 [1.567  0.123  5.6789 5.     8.456  3.     9.345 ]\n",
      "int32 [1 0 5 5 8 3 9]\n"
     ]
    }
   ],
   "source": [
    "# 실수 형식 문자열 -> 실수 값 -> 정수 값으로 변환해야 함\n",
    "\n",
    "num_str = '1.567 0.123 5.6789 5 8.456 3 9.345'\n",
    "lst = num_str.split(' ')\n",
    "arr1 = np.array(lst)\n",
    "arr2 = arr1.astype(np.float32)\n",
    "arr3 = arr2.astype(np.int32)\n",
    "\n",
    "print(arr1.dtype, arr1)\n",
    "print(arr2.dtype, arr2)\n",
    "print(arr3.dtype, arr3)"
   ]
  },
  {
   "cell_type": "code",
   "execution_count": 59,
   "id": "ce3c127d",
   "metadata": {},
   "outputs": [
    {
     "data": {
      "text/plain": [
       "0.5215888016884741"
      ]
     },
     "execution_count": 59,
     "metadata": {},
     "output_type": "execute_result"
    }
   ],
   "source": [
    "np.random.rand()"
   ]
  },
  {
   "cell_type": "code",
   "execution_count": 60,
   "id": "5ef98e86",
   "metadata": {},
   "outputs": [
    {
     "data": {
      "text/plain": [
       "array([0.20265123, 0.40470403, 0.78322432, 0.89848729, 0.66316897,\n",
       "       0.24992807, 0.50201634, 0.42560705, 0.15521188])"
      ]
     },
     "execution_count": 60,
     "metadata": {},
     "output_type": "execute_result"
    }
   ],
   "source": [
    "np.random.rand(9)"
   ]
  },
  {
   "cell_type": "code",
   "execution_count": 61,
   "id": "a0637a80",
   "metadata": {},
   "outputs": [
    {
     "data": {
      "text/plain": [
       "array([[0.70036601, 0.06712067, 0.74401629, 0.34555245],\n",
       "       [0.22153174, 0.88917549, 0.83927526, 0.53202945],\n",
       "       [0.90294942, 0.00521963, 0.50172934, 0.361262  ]])"
      ]
     },
     "execution_count": 61,
     "metadata": {},
     "output_type": "execute_result"
    }
   ],
   "source": [
    "np.random.rand(3, 4) # 2차원"
   ]
  },
  {
   "cell_type": "code",
   "execution_count": 62,
   "id": "9f014917",
   "metadata": {},
   "outputs": [
    {
     "data": {
      "text/plain": [
       "array([[[0.05649394, 0.38162845, 0.08367894, 0.02187792],\n",
       "        [0.48640527, 0.76089611, 0.19743102, 0.4245585 ],\n",
       "        [0.61692475, 0.55336742, 0.77476412, 0.52668267]],\n",
       "\n",
       "       [[0.74018005, 0.03470625, 0.2880952 , 0.32183072],\n",
       "        [0.77230557, 0.79309577, 0.92003908, 0.9573297 ],\n",
       "        [0.97511738, 0.89791842, 0.73452172, 0.28468961]]])"
      ]
     },
     "execution_count": 62,
     "metadata": {},
     "output_type": "execute_result"
    }
   ],
   "source": [
    "np.random.rand(2, 3, 4) # 3차원"
   ]
  },
  {
   "cell_type": "code",
   "execution_count": 66,
   "id": "2b5448a1",
   "metadata": {},
   "outputs": [
    {
     "data": {
      "text/plain": [
       "3"
      ]
     },
     "execution_count": 66,
     "metadata": {},
     "output_type": "execute_result"
    }
   ],
   "source": [
    "# python에서 가져온 randint는 범위 종료값이 포함됨\n",
    "import random\n",
    "\n",
    "random.randint(0, 3) # 0, 3이 범위에 포함됨"
   ]
  },
  {
   "cell_type": "code",
   "execution_count": 72,
   "id": "c7c1c667",
   "metadata": {},
   "outputs": [
    {
     "data": {
      "text/plain": [
       "0"
      ]
     },
     "execution_count": 72,
     "metadata": {},
     "output_type": "execute_result"
    }
   ],
   "source": [
    "# numpy의 randint는 범위 종료값이 포함 안 됨\n",
    "np.random.randint(0, 3) # 0은 나오지만 3은 안 나옴"
   ]
  },
  {
   "cell_type": "code",
   "execution_count": 76,
   "id": "cc82c94b",
   "metadata": {},
   "outputs": [
    {
     "data": {
      "text/plain": [
       "array([[[7, 0, 2, 2],\n",
       "        [7, 6, 8, 1],\n",
       "        [9, 0, 8, 3]],\n",
       "\n",
       "       [[4, 4, 9, 8],\n",
       "        [7, 7, 0, 2],\n",
       "        [3, 1, 7, 8]]])"
      ]
     },
     "execution_count": 76,
     "metadata": {},
     "output_type": "execute_result"
    }
   ],
   "source": [
    "np.random.randint(0, 10, size=(2, 3, 4))"
   ]
  },
  {
   "cell_type": "code",
   "execution_count": 77,
   "id": "33740147",
   "metadata": {},
   "outputs": [
    {
     "data": {
      "text/plain": [
       "array([6, 2, 8, 0, 0])"
      ]
     },
     "execution_count": 77,
     "metadata": {},
     "output_type": "execute_result"
    }
   ],
   "source": [
    "# 크기가 5인 1차원 배열\n",
    "np.random.randint(0, 10, size=(5,))"
   ]
  },
  {
   "cell_type": "code",
   "execution_count": 85,
   "id": "aea92733",
   "metadata": {},
   "outputs": [
    {
     "data": {
      "text/plain": [
       "array([44, 39, 44,  5, 22])"
      ]
     },
     "execution_count": 85,
     "metadata": {},
     "output_type": "execute_result"
    }
   ],
   "source": [
    "# 중복 가능\n",
    "np.random.randint(1, 46, size=(5,))"
   ]
  },
  {
   "cell_type": "code",
   "execution_count": 86,
   "id": "abd1253b",
   "metadata": {},
   "outputs": [
    {
     "data": {
      "text/plain": [
       "array([11, 22, 33, 44])"
      ]
     },
     "execution_count": 86,
     "metadata": {},
     "output_type": "execute_result"
    }
   ],
   "source": [
    "arr1 = np.array([10, 20, 30, 40])\n",
    "arr2 = np.array([1, 2, 3, 4])\n",
    "\n",
    "arr1 + arr2"
   ]
  },
  {
   "cell_type": "code",
   "execution_count": 87,
   "id": "389793cc",
   "metadata": {},
   "outputs": [
    {
     "name": "stdout",
     "output_type": "stream",
     "text": [
      "[10 20 30 40] [1 2 3 4]\n"
     ]
    }
   ],
   "source": [
    "# 연산 결과는 새로운 배열을 생성함. 기존 배열 변경X\n",
    "\n",
    "print(arr1, arr2)"
   ]
  },
  {
   "cell_type": "code",
   "execution_count": 89,
   "id": "2918813e",
   "metadata": {},
   "outputs": [
    {
     "name": "stdout",
     "output_type": "stream",
     "text": [
      "[10 20 30 40] [1 2 3 4] [11 22 33 44]\n"
     ]
    }
   ],
   "source": [
    "arr1 = np.array([10, 20, 30, 40])\n",
    "arr2 = np.array([1, 2, 3, 4])\n",
    "\n",
    "arr3 = arr1 + arr2\n",
    "print(arr1, arr2, arr3)"
   ]
  },
  {
   "cell_type": "code",
   "execution_count": 91,
   "id": "f156f6c7",
   "metadata": {},
   "outputs": [
    {
     "name": "stdout",
     "output_type": "stream",
     "text": [
      "[11 22 33 44]\n",
      "[ 9 18 27 36]\n",
      "[ 10  40  90 160]\n",
      "[10. 10. 10. 10.]\n",
      "[10 10 10 10]\n",
      "[0 0 0 0]\n",
      "[     10     400   27000 2560000]\n",
      "[10 20 30 40] [1 2 3 4]\n"
     ]
    }
   ],
   "source": [
    "# 배열과 배열의 연산\n",
    "arr1 = np.array([10, 20, 30, 40])\n",
    "arr2 = np.array([1, 2, 3, 4])\n",
    "\n",
    "print(arr1 + arr2)\n",
    "print(arr1 - arr2)\n",
    "print(arr1 * arr2)\n",
    "print(arr1 / arr2)\n",
    "print(arr1 // arr2)\n",
    "print(arr1 % arr2)\n",
    "print(arr1 ** arr2)\n",
    "print(arr1, arr2)"
   ]
  },
  {
   "cell_type": "code",
   "execution_count": 93,
   "id": "d8b863ba",
   "metadata": {},
   "outputs": [
    {
     "name": "stdout",
     "output_type": "stream",
     "text": [
      "[3 4 5 6]\n",
      "[-1  0  1  2]\n",
      "[2 4 6 8]\n",
      "[0.5 1.  1.5 2. ]\n",
      "[0 1 1 2]\n",
      "[1 0 1 0]\n",
      "[ 1  4  9 16]\n",
      "[1 2 3 4]\n"
     ]
    }
   ],
   "source": [
    "# 배열과 숫자의 연산\n",
    "arr2 = np.array([1, 2, 3, 4])\n",
    "\n",
    "print(arr2 + 2)\n",
    "print(arr2 - 2)\n",
    "print(arr2 * 2)\n",
    "print(arr2 / 2)\n",
    "print(arr2 // 2)\n",
    "print(arr2 % 2)\n",
    "print(arr2 ** 2)\n",
    "print(arr2)"
   ]
  },
  {
   "cell_type": "code",
   "execution_count": 95,
   "id": "7f1ea54e",
   "metadata": {},
   "outputs": [
    {
     "name": "stdout",
     "output_type": "stream",
     "text": [
      "[11 22 33 44] [1 2 3 4]\n"
     ]
    }
   ],
   "source": [
    "arr1 = np.array([10, 20, 30, 40])\n",
    "arr2 = np.array([1, 2, 3, 4])\n",
    "\n",
    "arr1 += arr2 # 복합 연산자로 바로 저장\n",
    "print(arr1, arr2)"
   ]
  },
  {
   "cell_type": "code",
   "execution_count": 96,
   "id": "58e594a3",
   "metadata": {},
   "outputs": [
    {
     "name": "stdout",
     "output_type": "stream",
     "text": [
      "[3 4 5 6]\n"
     ]
    }
   ],
   "source": [
    "arr2 = np.array([1, 2, 3, 4])\n",
    "\n",
    "arr2 += 2 # 복합 대행 연산자로 바로 저장 가능\n",
    "print(arr2)"
   ]
  },
  {
   "cell_type": "code",
   "execution_count": 98,
   "id": "189ea3a1",
   "metadata": {},
   "outputs": [
    {
     "name": "stdout",
     "output_type": "stream",
     "text": [
      "[10 20 30 40] [1 2 3 4] [10. 10. 10. 10.]\n"
     ]
    }
   ],
   "source": [
    "# 이건 가능\n",
    "arr1 = np.array([10, 20, 30, 40])\n",
    "arr2 = np.array([1, 2, 3, 4])\n",
    "\n",
    "arr3 = arr1 / arr2\n",
    "print(arr1, arr2, arr3)"
   ]
  },
  {
   "cell_type": "code",
   "execution_count": 99,
   "id": "0f16dcb2",
   "metadata": {},
   "outputs": [
    {
     "ename": "UFuncTypeError",
     "evalue": "Cannot cast ufunc 'true_divide' output from dtype('float64') to dtype('int32') with casting rule 'same_kind'",
     "output_type": "error",
     "traceback": [
      "\u001b[1;31m---------------------------------------------------------------------------\u001b[0m",
      "\u001b[1;31mUFuncTypeError\u001b[0m                            Traceback (most recent call last)",
      "Input \u001b[1;32mIn [99]\u001b[0m, in \u001b[0;36m<cell line: 4>\u001b[1;34m()\u001b[0m\n\u001b[0;32m      1\u001b[0m arr1 \u001b[38;5;241m=\u001b[39m np\u001b[38;5;241m.\u001b[39marray([\u001b[38;5;241m10\u001b[39m, \u001b[38;5;241m20\u001b[39m, \u001b[38;5;241m30\u001b[39m, \u001b[38;5;241m40\u001b[39m])\n\u001b[0;32m      2\u001b[0m arr2 \u001b[38;5;241m=\u001b[39m np\u001b[38;5;241m.\u001b[39marray([\u001b[38;5;241m1\u001b[39m, \u001b[38;5;241m2\u001b[39m, \u001b[38;5;241m3\u001b[39m, \u001b[38;5;241m4\u001b[39m])\n\u001b[1;32m----> 4\u001b[0m arr1 \u001b[38;5;241m/\u001b[39m\u001b[38;5;241m=\u001b[39m arr2 \u001b[38;5;66;03m# /=은 \u001b[39;00m\n\u001b[0;32m      5\u001b[0m \u001b[38;5;28mprint\u001b[39m(arr1, arr2)\n",
      "\u001b[1;31mUFuncTypeError\u001b[0m: Cannot cast ufunc 'true_divide' output from dtype('float64') to dtype('int32') with casting rule 'same_kind'"
     ]
    }
   ],
   "source": [
    "# 자료형 다르면 오류 발생 (나눈 결과는 실수 배열)\n",
    "arr1 = np.array([10, 20, 30, 40])\n",
    "arr2 = np.array([1, 2, 3, 4])\n",
    "\n",
    "arr1 /= arr2 # 정수 배열인 arr1, 2안에 실수 배열인 연산 결과 저장 불가 \n",
    "print(arr1, arr2)"
   ]
  },
  {
   "cell_type": "code",
   "execution_count": 100,
   "id": "318a7d01",
   "metadata": {},
   "outputs": [
    {
     "name": "stdout",
     "output_type": "stream",
     "text": [
      "[10. 10. 10. 10.] [1 2 3 4]\n"
     ]
    }
   ],
   "source": [
    "arr1 = np.array([10, 20, 30, 40])\n",
    "arr2 = np.array([1, 2, 3, 4])\n",
    "\n",
    "arr1 = arr1.astype(np.float64) # 실수로 바꾼 후에 /= 사용 가능\n",
    "arr1 /= arr2\n",
    "print(arr1, arr2)"
   ]
  },
  {
   "cell_type": "code",
   "execution_count": 101,
   "id": "308deca2",
   "metadata": {},
   "outputs": [
    {
     "data": {
      "text/plain": [
       "array([11, 22, 33, 44])"
      ]
     },
     "execution_count": 101,
     "metadata": {},
     "output_type": "execute_result"
    }
   ],
   "source": [
    "arr1 = np.array([10, 20, 30, 40])\n",
    "arr2 = np.array([1, 2, 3, 4])\n",
    "\n",
    "arr1 + arr2"
   ]
  },
  {
   "cell_type": "code",
   "execution_count": 103,
   "id": "8fc9781a",
   "metadata": {},
   "outputs": [
    {
     "ename": "ValueError",
     "evalue": "operands could not be broadcast together with shapes (5,) (4,) ",
     "output_type": "error",
     "traceback": [
      "\u001b[1;31m---------------------------------------------------------------------------\u001b[0m",
      "\u001b[1;31mValueError\u001b[0m                                Traceback (most recent call last)",
      "Input \u001b[1;32mIn [103]\u001b[0m, in \u001b[0;36m<cell line: 5>\u001b[1;34m()\u001b[0m\n\u001b[0;32m      2\u001b[0m arr1 \u001b[38;5;241m=\u001b[39m np\u001b[38;5;241m.\u001b[39marray([\u001b[38;5;241m10\u001b[39m, \u001b[38;5;241m20\u001b[39m, \u001b[38;5;241m30\u001b[39m, \u001b[38;5;241m40\u001b[39m, \u001b[38;5;241m50\u001b[39m])\n\u001b[0;32m      3\u001b[0m arr2 \u001b[38;5;241m=\u001b[39m np\u001b[38;5;241m.\u001b[39marray([\u001b[38;5;241m1\u001b[39m, \u001b[38;5;241m2\u001b[39m, \u001b[38;5;241m3\u001b[39m, \u001b[38;5;241m4\u001b[39m])\n\u001b[1;32m----> 5\u001b[0m \u001b[43marr1\u001b[49m\u001b[43m \u001b[49m\u001b[38;5;241;43m+\u001b[39;49m\u001b[43m \u001b[49m\u001b[43marr2\u001b[49m\n",
      "\u001b[1;31mValueError\u001b[0m: operands could not be broadcast together with shapes (5,) (4,) "
     ]
    }
   ],
   "source": [
    "# 배열과 배열 사이 연산에는 반드시 배열 구조가 일치해야 함\n",
    "arr1 = np.array([10, 20, 30, 40, 50])\n",
    "arr2 = np.array([1, 2, 3, 4])\n",
    "\n",
    "arr1 + arr2"
   ]
  },
  {
   "cell_type": "code",
   "execution_count": 104,
   "id": "cef88b11",
   "metadata": {},
   "outputs": [
    {
     "data": {
      "text/plain": [
       "array([ True,  True,  True,  True])"
      ]
     },
     "execution_count": 104,
     "metadata": {},
     "output_type": "execute_result"
    }
   ],
   "source": [
    "# 비교 연산도 broadcast임\n",
    "arr1 = np.array([10, 20, 30, 40])\n",
    "arr2 = np.array([1, 2, 3, 4])\n",
    "\n",
    "arr1 > arr2"
   ]
  },
  {
   "cell_type": "code",
   "execution_count": 105,
   "id": "1b0b9097",
   "metadata": {},
   "outputs": [
    {
     "name": "stdout",
     "output_type": "stream",
     "text": [
      "[10 20 30 40] [1 2 3 4]\n"
     ]
    }
   ],
   "source": [
    "print(arr1, arr2) # 원본 배열은 변경X"
   ]
  },
  {
   "cell_type": "code",
   "execution_count": 106,
   "id": "7ba76ea1",
   "metadata": {},
   "outputs": [
    {
     "name": "stdout",
     "output_type": "stream",
     "text": [
      "[10 20 30 40] [1 2 3 4] [ True  True  True  True]\n"
     ]
    }
   ],
   "source": [
    "arr1 = np.array([10, 20, 30, 40])\n",
    "arr2 = np.array([1, 2, 3, 4])\n",
    "\n",
    "arr3 = arr1 > arr2\n",
    "print(arr1, arr2, arr3)"
   ]
  },
  {
   "cell_type": "code",
   "execution_count": 107,
   "id": "0138d00b",
   "metadata": {},
   "outputs": [
    {
     "name": "stdout",
     "output_type": "stream",
     "text": [
      "[ True  True  True  True]\n",
      "[False False False False]\n",
      "[ True  True  True  True]\n",
      "[False False False False]\n",
      "[False False False False]\n",
      "[ True  True  True  True]\n"
     ]
    }
   ],
   "source": [
    "# 배열과 배열 사이 비교 연산 가능\n",
    "\n",
    "arr1 = np.array([10, 20, 30, 40])\n",
    "arr2 = np.array([1, 2, 3, 4])\n",
    "\n",
    "print(arr1 > arr2)\n",
    "print(arr1 < arr2)\n",
    "print(arr1 >= arr2)\n",
    "print(arr1 <= arr2)\n",
    "print(arr1 == arr2)\n",
    "print(arr1 != arr2)"
   ]
  },
  {
   "cell_type": "code",
   "execution_count": 109,
   "id": "9034b426",
   "metadata": {},
   "outputs": [
    {
     "name": "stdout",
     "output_type": "stream",
     "text": [
      "[False False  True  True]\n",
      "[ True False False False]\n",
      "[False  True  True  True]\n",
      "[ True  True False False]\n",
      "[False  True False False]\n",
      "[ True False  True  True]\n"
     ]
    }
   ],
   "source": [
    "# 배열과 숫자 사이 비교 연산 가능\n",
    "arr2 = np.array([1, 2, 3, 4])\n",
    "\n",
    "print(arr2 > 2)\n",
    "print(arr2 < 2)\n",
    "print(arr2 >= 2)\n",
    "print(arr2 <= 2)\n",
    "print(arr2 == 2)\n",
    "print(arr2 != 2)"
   ]
  },
  {
   "cell_type": "code",
   "execution_count": 110,
   "id": "ffaf7042",
   "metadata": {},
   "outputs": [
    {
     "ename": "ValueError",
     "evalue": "The truth value of an array with more than one element is ambiguous. Use a.any() or a.all()",
     "output_type": "error",
     "traceback": [
      "\u001b[1;31m---------------------------------------------------------------------------\u001b[0m",
      "\u001b[1;31mValueError\u001b[0m                                Traceback (most recent call last)",
      "Input \u001b[1;32mIn [110]\u001b[0m, in \u001b[0;36m<cell line: 4>\u001b[1;34m()\u001b[0m\n\u001b[0;32m      1\u001b[0m arr1 \u001b[38;5;241m=\u001b[39m np\u001b[38;5;241m.\u001b[39marray([\u001b[38;5;241m10\u001b[39m, \u001b[38;5;241m20\u001b[39m, \u001b[38;5;241m30\u001b[39m, \u001b[38;5;241m40\u001b[39m])\n\u001b[0;32m      2\u001b[0m arr2 \u001b[38;5;241m=\u001b[39m np\u001b[38;5;241m.\u001b[39marray([\u001b[38;5;241m1\u001b[39m, \u001b[38;5;241m2\u001b[39m, \u001b[38;5;241m3\u001b[39m, \u001b[38;5;241m4\u001b[39m])\n\u001b[1;32m----> 4\u001b[0m \u001b[38;5;28mprint\u001b[39m(arr1 \u001b[38;5;129;01mand\u001b[39;00m arr2)\n",
      "\u001b[1;31mValueError\u001b[0m: The truth value of an array with more than one element is ambiguous. Use a.any() or a.all()"
     ]
    }
   ],
   "source": [
    "# 논리 연산 불가\n",
    "\n",
    "arr1 = np.array([10, 20, 30, 40])\n",
    "arr2 = np.array([1, 2, 3, 4])\n",
    "\n",
    "print(arr1 and arr2)"
   ]
  },
  {
   "cell_type": "code",
   "execution_count": 111,
   "id": "f7f3562b",
   "metadata": {},
   "outputs": [
    {
     "ename": "ValueError",
     "evalue": "The truth value of an array with more than one element is ambiguous. Use a.any() or a.all()",
     "output_type": "error",
     "traceback": [
      "\u001b[1;31m---------------------------------------------------------------------------\u001b[0m",
      "\u001b[1;31mValueError\u001b[0m                                Traceback (most recent call last)",
      "Input \u001b[1;32mIn [111]\u001b[0m, in \u001b[0;36m<cell line: 4>\u001b[1;34m()\u001b[0m\n\u001b[0;32m      1\u001b[0m arr1 \u001b[38;5;241m=\u001b[39m np\u001b[38;5;241m.\u001b[39marray([\u001b[38;5;28;01mFalse\u001b[39;00m, \u001b[38;5;28;01mFalse\u001b[39;00m, \u001b[38;5;28;01mTrue\u001b[39;00m, \u001b[38;5;28;01mTrue\u001b[39;00m])\n\u001b[0;32m      2\u001b[0m arr2 \u001b[38;5;241m=\u001b[39m np\u001b[38;5;241m.\u001b[39marray([\u001b[38;5;28;01mFalse\u001b[39;00m, \u001b[38;5;28;01mTrue\u001b[39;00m, \u001b[38;5;28;01mFalse\u001b[39;00m, \u001b[38;5;28;01mTrue\u001b[39;00m])\n\u001b[1;32m----> 4\u001b[0m \u001b[38;5;28mprint\u001b[39m(arr1 \u001b[38;5;129;01mand\u001b[39;00m arr2)\n",
      "\u001b[1;31mValueError\u001b[0m: The truth value of an array with more than one element is ambiguous. Use a.any() or a.all()"
     ]
    }
   ],
   "source": [
    "# 논리 연산 불가\n",
    "\n",
    "arr1 = np.array([False, False, True, True])\n",
    "arr2 = np.array([False, True, False, True])\n",
    "\n",
    "print(arr1 and arr2)\n",
    "\n",
    "# 파이썬에서의 논리 연산자는 피연산자가 논리값이어야 하는데 arr1, arr2는 논리값이 아니라 넘피 배열이라 오류 발생"
   ]
  },
  {
   "cell_type": "code",
   "execution_count": 112,
   "id": "3926c4d5",
   "metadata": {},
   "outputs": [
    {
     "data": {
      "text/plain": [
       "array([False, False, False,  True])"
      ]
     },
     "execution_count": 112,
     "metadata": {},
     "output_type": "execute_result"
    }
   ],
   "source": [
    "# Numpy에서 논리 연산하는 법\n",
    "arr1 = np.array([False, False, True, True])\n",
    "arr2 = np.array([False, True, False, True])\n",
    "\n",
    "np.logical_and(arr1, arr2)"
   ]
  },
  {
   "cell_type": "code",
   "execution_count": 113,
   "id": "1bf715a3",
   "metadata": {},
   "outputs": [
    {
     "name": "stdout",
     "output_type": "stream",
     "text": [
      "[False False  True  True] [False  True False  True]\n"
     ]
    }
   ],
   "source": [
    "print(arr1, arr2) # 원본 배열은 안 바뀜"
   ]
  },
  {
   "cell_type": "code",
   "execution_count": 114,
   "id": "5aa1b223",
   "metadata": {},
   "outputs": [
    {
     "name": "stdout",
     "output_type": "stream",
     "text": [
      "[False False False  True]\n",
      "[False  True  True  True]\n",
      "[ True  True False False]\n",
      "[False False  True  True] [False  True False  True]\n"
     ]
    }
   ],
   "source": [
    "# Numpy 논리 연산\n",
    "arr1 = np.array([False, False, True, True])\n",
    "arr2 = np.array([False, True, False, True])\n",
    "\n",
    "print(np.logical_and(arr1, arr2)) # numpy 함수 사용\n",
    "print(np.logical_or(arr1, arr2))\n",
    "print(np.logical_not(arr1))\n",
    "print(arr1, arr2)"
   ]
  },
  {
   "cell_type": "code",
   "execution_count": 116,
   "id": "bc3ce2ee",
   "metadata": {},
   "outputs": [
    {
     "name": "stdout",
     "output_type": "stream",
     "text": [
      "[False False False  True]\n",
      "[False  True  True  True]\n",
      "[ True  True False False]\n",
      "[False False  True  True] [False  True False  True]\n"
     ]
    }
   ],
   "source": [
    "# Numpy 자체 논리 연산자 활용\n",
    "\n",
    "arr1 = np.array([False, False, True, True])\n",
    "arr2 = np.array([False, True, False, True])\n",
    "\n",
    "print(arr1 & arr2) # numpy 함수 사용\n",
    "print(arr1 | arr2)\n",
    "print(~arr1)\n",
    "print(arr1, arr2)"
   ]
  },
  {
   "cell_type": "code",
   "execution_count": null,
   "id": "d7fe65d2",
   "metadata": {},
   "outputs": [],
   "source": [
    "'''\n",
    "문제1] 다음 리스트에 저장된 각각의 값 x에 대하여 y = 2x^3 + 4x^2 + 5x + 7의 값을 구하여\n",
    "    새로운 리스트에 저장하는 코드를 작성하세요.\n",
    "    단, 넘피는 사용하지 않고 파이썬으로만 코드를 작성합니다.\n",
    "\n",
    "lst = [1, 2, 3, 4, 5]\n",
    "'''"
   ]
  },
  {
   "cell_type": "code",
   "execution_count": 117,
   "id": "3c7fe712",
   "metadata": {},
   "outputs": [
    {
     "data": {
      "text/plain": [
       "[18, 49, 112, 219, 382]"
      ]
     },
     "execution_count": 117,
     "metadata": {},
     "output_type": "execute_result"
    }
   ],
   "source": [
    "lst = [1, 2, 3, 4, 5]\n",
    "lst2 = []\n",
    "\n",
    "for x in lst:\n",
    "    y = 2 * x ** 3 + 4 * x ** 2 + 5 * x + 7\n",
    "    lst2.append(y)\n",
    "    \n",
    "lst2"
   ]
  },
  {
   "cell_type": "code",
   "execution_count": null,
   "id": "e7af8586",
   "metadata": {},
   "outputs": [],
   "source": [
    "'''\n",
    "문제1] 다음 리스트에 저장된 각각의 값 x에 대하여 y = 2x^3 + 4x^2 + 5x + 7의 값을 구하여\n",
    "    새로운 리스트에 저장하는 코드를 작성하세요.\n",
    "    단, 넘피를 사용하여 코드를 작성합니다.\n",
    "\n",
    "lst = [1, 2, 3, 4, 5]\n",
    "'''"
   ]
  },
  {
   "cell_type": "code",
   "execution_count": 119,
   "id": "088266f9",
   "metadata": {},
   "outputs": [
    {
     "data": {
      "text/plain": [
       "[18, 49, 112, 219, 382]"
      ]
     },
     "execution_count": 119,
     "metadata": {},
     "output_type": "execute_result"
    }
   ],
   "source": [
    "arr = np.array([1, 2, 3, 4, 5])\n",
    "list(2 * arr ** 3 + 4 * arr ** 2 + 5 * arr + 7)"
   ]
  },
  {
   "cell_type": "code",
   "execution_count": 120,
   "id": "719dfbb4",
   "metadata": {},
   "outputs": [
    {
     "data": {
      "text/plain": [
       "array([0, 1, 2, 3, 4])"
      ]
     },
     "execution_count": 120,
     "metadata": {},
     "output_type": "execute_result"
    }
   ],
   "source": [
    "arr = np.arange(5)\n",
    "arr"
   ]
  },
  {
   "cell_type": "code",
   "execution_count": 121,
   "id": "ffeb3200",
   "metadata": {},
   "outputs": [
    {
     "name": "stdout",
     "output_type": "stream",
     "text": [
      "10 2.0\n"
     ]
    }
   ],
   "source": [
    "print(arr.sum(), arr.mean())\n"
   ]
  },
  {
   "cell_type": "code",
   "execution_count": 122,
   "id": "39459be6",
   "metadata": {},
   "outputs": [
    {
     "name": "stdout",
     "output_type": "stream",
     "text": [
      "2.0 1.4142135623730951\n"
     ]
    }
   ],
   "source": [
    "print(arr.var(), arr.std())"
   ]
  },
  {
   "cell_type": "code",
   "execution_count": 123,
   "id": "f1ffe039",
   "metadata": {},
   "outputs": [
    {
     "name": "stdout",
     "output_type": "stream",
     "text": [
      "0 4\n"
     ]
    }
   ],
   "source": [
    "print(arr.min(), arr.max())"
   ]
  },
  {
   "cell_type": "code",
   "execution_count": 124,
   "id": "b90c32e4",
   "metadata": {},
   "outputs": [
    {
     "data": {
      "text/plain": [
       "array([ 0,  1,  3,  6, 10], dtype=int32)"
      ]
     },
     "execution_count": 124,
     "metadata": {},
     "output_type": "execute_result"
    }
   ],
   "source": [
    "arr.cumsum()"
   ]
  },
  {
   "cell_type": "code",
   "execution_count": 125,
   "id": "0e048f0f",
   "metadata": {},
   "outputs": [
    {
     "data": {
      "text/plain": [
       "array([0, 0, 0, 0, 0], dtype=int32)"
      ]
     },
     "execution_count": 125,
     "metadata": {},
     "output_type": "execute_result"
    }
   ],
   "source": [
    "arr.cumprod()"
   ]
  },
  {
   "cell_type": "code",
   "execution_count": 127,
   "id": "f729b4ef",
   "metadata": {},
   "outputs": [
    {
     "data": {
      "text/plain": [
       "array([ 1,  2,  6, 24], dtype=int32)"
      ]
     },
     "execution_count": 127,
     "metadata": {},
     "output_type": "execute_result"
    }
   ],
   "source": [
    "arr = np.arange(1, 5)\n",
    "arr.cumprod()"
   ]
  },
  {
   "cell_type": "code",
   "execution_count": 128,
   "id": "0b282e1a",
   "metadata": {},
   "outputs": [
    {
     "data": {
      "text/plain": [
       "array([[0, 1],\n",
       "       [2, 3]])"
      ]
     },
     "execution_count": 128,
     "metadata": {},
     "output_type": "execute_result"
    }
   ],
   "source": [
    "A = np.array([0,1, 2, 3]).reshape(2, 2)\n",
    "A"
   ]
  },
  {
   "cell_type": "code",
   "execution_count": 129,
   "id": "e2757b55",
   "metadata": {},
   "outputs": [
    {
     "data": {
      "text/plain": [
       "array([[3, 2],\n",
       "       [0, 1]])"
      ]
     },
     "execution_count": 129,
     "metadata": {},
     "output_type": "execute_result"
    }
   ],
   "source": [
    "B = np.array([3, 2, 0, 1]).reshape(2,2)\n",
    "B"
   ]
  },
  {
   "cell_type": "code",
   "execution_count": 130,
   "id": "b4089bd4",
   "metadata": {},
   "outputs": [
    {
     "data": {
      "text/plain": [
       "array([[0, 1],\n",
       "       [6, 7]])"
      ]
     },
     "execution_count": 130,
     "metadata": {},
     "output_type": "execute_result"
    }
   ],
   "source": [
    "A.dot(B)"
   ]
  },
  {
   "cell_type": "code",
   "execution_count": 131,
   "id": "8fe4f576",
   "metadata": {},
   "outputs": [
    {
     "data": {
      "text/plain": [
       "array([[0, 1],\n",
       "       [6, 7]])"
      ]
     },
     "execution_count": 131,
     "metadata": {},
     "output_type": "execute_result"
    }
   ],
   "source": [
    "np.dot(A,B)"
   ]
  },
  {
   "cell_type": "code",
   "execution_count": 136,
   "id": "5fa3588e",
   "metadata": {},
   "outputs": [
    {
     "name": "stdout",
     "output_type": "stream",
     "text": [
      "[[0 1]\n",
      " [2 3]]\n",
      "[[3 2]\n",
      " [0 1]]\n"
     ]
    }
   ],
   "source": [
    "print(A)\n",
    "print(B) # 원본 바뀌지 않음"
   ]
  },
  {
   "cell_type": "code",
   "execution_count": 137,
   "id": "298bdd2e",
   "metadata": {},
   "outputs": [
    {
     "data": {
      "text/plain": [
       "array([[0, 2],\n",
       "       [1, 3]])"
      ]
     },
     "execution_count": 137,
     "metadata": {},
     "output_type": "execute_result"
    }
   ],
   "source": [
    "A.transpose()"
   ]
  },
  {
   "cell_type": "code",
   "execution_count": 138,
   "id": "ce70b78b",
   "metadata": {},
   "outputs": [
    {
     "data": {
      "text/plain": [
       "array([[0, 2],\n",
       "       [1, 3]])"
      ]
     },
     "execution_count": 138,
     "metadata": {},
     "output_type": "execute_result"
    }
   ],
   "source": [
    "np.transpose(A)"
   ]
  },
  {
   "cell_type": "code",
   "execution_count": 139,
   "id": "8648fb49",
   "metadata": {},
   "outputs": [
    {
     "data": {
      "text/plain": [
       "array([[-1.5,  0.5],\n",
       "       [ 1. ,  0. ]])"
      ]
     },
     "execution_count": 139,
     "metadata": {},
     "output_type": "execute_result"
    }
   ],
   "source": [
    "np.linalg.inv(A)"
   ]
  },
  {
   "cell_type": "code",
   "execution_count": 140,
   "id": "42f73b2c",
   "metadata": {},
   "outputs": [
    {
     "data": {
      "text/plain": [
       "array([[1., 0.],\n",
       "       [0., 1.]])"
      ]
     },
     "execution_count": 140,
     "metadata": {},
     "output_type": "execute_result"
    }
   ],
   "source": [
    "A.dot(np.linalg.inv(A)) # 행렬 dot 역행렬은 단위행렬"
   ]
  },
  {
   "cell_type": "code",
   "execution_count": 141,
   "id": "c0a4a426",
   "metadata": {},
   "outputs": [
    {
     "data": {
      "text/plain": [
       "-2.0"
      ]
     },
     "execution_count": 141,
     "metadata": {},
     "output_type": "execute_result"
    }
   ],
   "source": [
    "np.linalg.det(A) # 0*3 - 1*2"
   ]
  },
  {
   "cell_type": "code",
   "execution_count": 142,
   "id": "670d8f87",
   "metadata": {},
   "outputs": [
    {
     "data": {
      "text/plain": [
       "array([[0, 1],\n",
       "       [2, 3]])"
      ]
     },
     "execution_count": 142,
     "metadata": {},
     "output_type": "execute_result"
    }
   ],
   "source": [
    "A"
   ]
  },
  {
   "cell_type": "code",
   "execution_count": 143,
   "id": "c0994a1e",
   "metadata": {},
   "outputs": [
    {
     "data": {
      "text/plain": [
       "array([ 0, 10, 20, 30, 40, 50])"
      ]
     },
     "execution_count": 143,
     "metadata": {},
     "output_type": "execute_result"
    }
   ],
   "source": [
    "# 배열을 읽고 사용하는 방법 1) 인덱싱\n",
    "\n",
    "arr = np.array([0, 10, 20, 30, 40, 50])\n",
    "arr"
   ]
  },
  {
   "cell_type": "code",
   "execution_count": 144,
   "id": "17b83489",
   "metadata": {},
   "outputs": [
    {
     "name": "stdout",
     "output_type": "stream",
     "text": [
      "0 40\n"
     ]
    }
   ],
   "source": [
    "print(arr[0], arr[4])"
   ]
  },
  {
   "cell_type": "code",
   "execution_count": 145,
   "id": "3e7f3748",
   "metadata": {},
   "outputs": [
    {
     "name": "stdout",
     "output_type": "stream",
     "text": [
      "50 30\n"
     ]
    }
   ],
   "source": [
    "# Numpy 배열에서도 역방향 인덱스 존재\n",
    "print(arr[-1], arr[-3])"
   ]
  },
  {
   "cell_type": "code",
   "execution_count": 146,
   "id": "fbc57866",
   "metadata": {},
   "outputs": [
    {
     "data": {
      "text/plain": [
       "array([ 0, 10, 20, 30, 40, 70])"
      ]
     },
     "execution_count": 146,
     "metadata": {},
     "output_type": "execute_result"
    }
   ],
   "source": [
    "# arr 값 변경 가능\n",
    "arr[5] = 70\n",
    "arr"
   ]
  },
  {
   "cell_type": "code",
   "execution_count": 147,
   "id": "7ea30500",
   "metadata": {},
   "outputs": [
    {
     "data": {
      "text/plain": [
       "array([10, 30, 40])"
      ]
     },
     "execution_count": 147,
     "metadata": {},
     "output_type": "execute_result"
    }
   ],
   "source": [
    "arr[[1, 3, 4]]"
   ]
  },
  {
   "cell_type": "code",
   "execution_count": 148,
   "id": "87ca8b91",
   "metadata": {},
   "outputs": [
    {
     "ename": "TypeError",
     "evalue": "list indices must be integers or slices, not list",
     "output_type": "error",
     "traceback": [
      "\u001b[1;31m---------------------------------------------------------------------------\u001b[0m",
      "\u001b[1;31mTypeError\u001b[0m                                 Traceback (most recent call last)",
      "Input \u001b[1;32mIn [148]\u001b[0m, in \u001b[0;36m<cell line: 2>\u001b[1;34m()\u001b[0m\n\u001b[0;32m      1\u001b[0m lst \u001b[38;5;241m=\u001b[39m [\u001b[38;5;241m0\u001b[39m, \u001b[38;5;241m10\u001b[39m, \u001b[38;5;241m20\u001b[39m, \u001b[38;5;241m30\u001b[39m, \u001b[38;5;241m40\u001b[39m, \u001b[38;5;241m50\u001b[39m]\n\u001b[1;32m----> 2\u001b[0m \u001b[43mlst\u001b[49m\u001b[43m[\u001b[49m\u001b[43m[\u001b[49m\u001b[38;5;241;43m1\u001b[39;49m\u001b[43m,\u001b[49m\u001b[43m \u001b[49m\u001b[38;5;241;43m3\u001b[39;49m\u001b[43m,\u001b[49m\u001b[43m \u001b[49m\u001b[38;5;241;43m4\u001b[39;49m\u001b[43m]\u001b[49m\u001b[43m]\u001b[49m\n",
      "\u001b[1;31mTypeError\u001b[0m: list indices must be integers or slices, not list"
     ]
    }
   ],
   "source": [
    "# 파이썬은 인덱스 여러 개 안 됨\n",
    "lst = [0, 10, 20, 30, 40, 50]\n",
    "lst[[1, 3, 4]]"
   ]
  },
  {
   "cell_type": "code",
   "execution_count": 150,
   "id": "c2f0b1c5",
   "metadata": {},
   "outputs": [
    {
     "data": {
      "text/plain": [
       "array([[[0, 7],\n",
       "        [9, 0]],\n",
       "\n",
       "       [[7, 1],\n",
       "        [6, 3]]])"
      ]
     },
     "execution_count": 150,
     "metadata": {},
     "output_type": "execute_result"
    }
   ],
   "source": [
    "arr = np.random.randint(10, size=(2, 2, 2))\n",
    "arr"
   ]
  },
  {
   "cell_type": "code",
   "execution_count": 156,
   "id": "6bd077cc",
   "metadata": {},
   "outputs": [
    {
     "name": "stdout",
     "output_type": "stream",
     "text": [
      "<class 'numpy.ndarray'> <class 'numpy.ndarray'> <class 'numpy.ndarray'>\n"
     ]
    }
   ],
   "source": [
    "print(type(arr), type(arr[0]), type(arr[1]))"
   ]
  },
  {
   "cell_type": "code",
   "execution_count": 159,
   "id": "7851d277",
   "metadata": {},
   "outputs": [
    {
     "name": "stdout",
     "output_type": "stream",
     "text": [
      "<class 'numpy.ndarray'> <class 'numpy.ndarray'> <class 'numpy.ndarray'> <class 'numpy.ndarray'>\n"
     ]
    }
   ],
   "source": [
    "print(type(arr[0][0]), type(arr[0][1]), type(arr[1][0]), type(arr[1][1]))"
   ]
  },
  {
   "cell_type": "code",
   "execution_count": 162,
   "id": "1ef1bdd7",
   "metadata": {},
   "outputs": [
    {
     "name": "stdout",
     "output_type": "stream",
     "text": [
      "<class 'numpy.int32'> <class 'numpy.int32'> <class 'numpy.int32'> <class 'numpy.int32'>\n",
      "0 7 9 0\n"
     ]
    }
   ],
   "source": [
    "print(type(arr[0][0][0]), type(arr[0][0][1]), type(arr[0][1][0]), type(arr[0][1][1])) # 마지막 차원만 실제 값 가짐\n",
    "print(arr[0][0][0], arr[0][0][1], arr[0][1][0], arr[0][1][1])"
   ]
  },
  {
   "cell_type": "code",
   "execution_count": 163,
   "id": "49945650",
   "metadata": {},
   "outputs": [
    {
     "name": "stdout",
     "output_type": "stream",
     "text": [
      "<class 'numpy.int32'> <class 'numpy.int32'> <class 'numpy.int32'> <class 'numpy.int32'>\n",
      "7 1 6 3\n"
     ]
    }
   ],
   "source": [
    "print(type(arr[1][0][0]), type(arr[1][0][1]), type(arr[1][1][0]), type(arr[1][1][1])) # 마지막 차원만 실제 값 가짐\n",
    "print(arr[1][0][0], arr[1][0][1], arr[1][1][0], arr[1][1][1])"
   ]
  },
  {
   "cell_type": "code",
   "execution_count": 164,
   "id": "1ba33083",
   "metadata": {},
   "outputs": [
    {
     "data": {
      "text/plain": [
       "array([9, 0])"
      ]
     },
     "execution_count": 164,
     "metadata": {},
     "output_type": "execute_result"
    }
   ],
   "source": [
    "arr[0][1]"
   ]
  },
  {
   "cell_type": "code",
   "execution_count": 167,
   "id": "6cc9c43b",
   "metadata": {},
   "outputs": [
    {
     "data": {
      "text/plain": [
       "array([[10, 20, 30],\n",
       "       [40, 50, 60],\n",
       "       [70, 80, 90]])"
      ]
     },
     "execution_count": 167,
     "metadata": {},
     "output_type": "execute_result"
    }
   ],
   "source": [
    "arr = np.arange(10, 100, 10).reshape(3, 3)\n",
    "arr"
   ]
  },
  {
   "cell_type": "code",
   "execution_count": 169,
   "id": "1083118a",
   "metadata": {},
   "outputs": [
    {
     "name": "stdout",
     "output_type": "stream",
     "text": [
      "50 50\n"
     ]
    }
   ],
   "source": [
    "# 50이 읽고 싶으면\n",
    "print(arr[1][1], arr[1, 1]) # 한 단계 거치는 거(기본)랑 바로 찾는 것의 차이\n",
    "# arr[1, 1]은 넘피에서만 지원"
   ]
  },
  {
   "cell_type": "code",
   "execution_count": 170,
   "id": "4ff7d234",
   "metadata": {},
   "outputs": [
    {
     "name": "stdout",
     "output_type": "stream",
     "text": [
      "50\n"
     ]
    },
    {
     "ename": "TypeError",
     "evalue": "list indices must be integers or slices, not tuple",
     "output_type": "error",
     "traceback": [
      "\u001b[1;31m---------------------------------------------------------------------------\u001b[0m",
      "\u001b[1;31mTypeError\u001b[0m                                 Traceback (most recent call last)",
      "Input \u001b[1;32mIn [170]\u001b[0m, in \u001b[0;36m<cell line: 3>\u001b[1;34m()\u001b[0m\n\u001b[0;32m      1\u001b[0m lst \u001b[38;5;241m=\u001b[39m [[\u001b[38;5;241m10\u001b[39m, \u001b[38;5;241m20\u001b[39m, \u001b[38;5;241m30\u001b[39m], [\u001b[38;5;241m40\u001b[39m, \u001b[38;5;241m50\u001b[39m, \u001b[38;5;241m60\u001b[39m],[\u001b[38;5;241m70\u001b[39m, \u001b[38;5;241m80\u001b[39m, \u001b[38;5;241m90\u001b[39m]]\n\u001b[0;32m      2\u001b[0m \u001b[38;5;28mprint\u001b[39m(lst[\u001b[38;5;241m1\u001b[39m][\u001b[38;5;241m1\u001b[39m])\n\u001b[1;32m----> 3\u001b[0m \u001b[38;5;28mprint\u001b[39m(\u001b[43mlst\u001b[49m\u001b[43m[\u001b[49m\u001b[38;5;241;43m1\u001b[39;49m\u001b[43m,\u001b[49m\u001b[43m \u001b[49m\u001b[38;5;241;43m1\u001b[39;49m\u001b[43m]\u001b[49m)\n",
      "\u001b[1;31mTypeError\u001b[0m: list indices must be integers or slices, not tuple"
     ]
    }
   ],
   "source": [
    "lst = [[10, 20, 30], [40, 50, 60], [70, 80, 90]]\n",
    "print(lst[1][1])\n",
    "print(lst[1, 1]) # 파이썬에서는 지원 안 됨"
   ]
  },
  {
   "cell_type": "code",
   "execution_count": null,
   "id": "2f91de63",
   "metadata": {},
   "outputs": [],
   "source": [
    "'''\n",
    "문제1] 다음 배열에 저장된 값을 순서대로 출력하는 코드를 작성하세요.\n",
    "\n",
    "arr = np.arange(10, 100, 10).reshape(3, 3)\n",
    "\n",
    "실행결과>\n",
    "10     20     30\n",
    "40     50     60\n",
    "70     80     90\n",
    "'''"
   ]
  },
  {
   "cell_type": "code",
   "execution_count": 171,
   "id": "9125df99",
   "metadata": {},
   "outputs": [
    {
     "name": "stdout",
     "output_type": "stream",
     "text": [
      "10\t20\t30\t\n",
      "40\t50\t60\t\n",
      "70\t80\t90\t\n"
     ]
    }
   ],
   "source": [
    "# 방법1. 순서번호 이용\n",
    "\n",
    "arr = np.arange(10, 100, 10).reshape(3, 3)\n",
    "for i in range(len(arr)): # 1차원 배열 3개니까 len(arr) = 3\n",
    "    for j in range(len(arr[i])):\n",
    "        print(arr[i][j], end='\\t')\n",
    "    \n",
    "    print()"
   ]
  },
  {
   "cell_type": "code",
   "execution_count": 172,
   "id": "9e3e6ef9",
   "metadata": {},
   "outputs": [
    {
     "name": "stdout",
     "output_type": "stream",
     "text": [
      "10\t20\t30\t\n",
      "40\t50\t60\t\n",
      "70\t80\t90\t\n"
     ]
    }
   ],
   "source": [
    "arr = np.arange(10, 100, 10).reshape(3, 3)\n",
    "for i in range(len(arr)): # 1차원 배열 3개니까 len(arr) = 3\n",
    "    for j in range(len(arr[i])):\n",
    "        print(arr[i, j], end='\\t') # 대괄호 한꺼번에 써도 됨\n",
    "    \n",
    "    print()"
   ]
  },
  {
   "cell_type": "code",
   "execution_count": 174,
   "id": "b626e9a3",
   "metadata": {},
   "outputs": [
    {
     "name": "stdout",
     "output_type": "stream",
     "text": [
      "10\t20\t30\t\n",
      "40\t50\t60\t\n",
      "70\t80\t90\t\n"
     ]
    }
   ],
   "source": [
    "# 방법2. 컨테이너 이용(배열에서만 사용 가능)\n",
    "\n",
    "arr = np.arange(10, 100, 10).reshape(3, 3)\n",
    "for sub in arr:\n",
    "    for num in sub:\n",
    "        print(num, end='\\t')\n",
    "        \n",
    "    print()"
   ]
  },
  {
   "cell_type": "code",
   "execution_count": null,
   "id": "a36a93a2",
   "metadata": {},
   "outputs": [],
   "source": [
    "'''\n",
    "문제2] 다음 리스트에 저장된 값을 순서대로 출력하는 코드를 작성하세요.\n",
    "\n",
    "lst = [[10, 20, 30], [40, 50, 60], [70, 80, 90]]\n",
    "\n",
    "실행결과>\n",
    "10     20     30\n",
    "40     50     60\n",
    "70     80     90\n",
    "'''"
   ]
  },
  {
   "cell_type": "code",
   "execution_count": 175,
   "id": "2247f35f",
   "metadata": {},
   "outputs": [
    {
     "name": "stdout",
     "output_type": "stream",
     "text": [
      "10\t20\t30\t\n",
      "40\t50\t60\t\n",
      "70\t80\t90\t\n"
     ]
    }
   ],
   "source": [
    "# 방법1. 인덱스 이용(리스트 자체에 접근)\n",
    "\n",
    "lst = [[10, 20, 30], [40, 50, 60], [70, 80, 90]]\n",
    "for i in range(len(lst)):\n",
    "    for j in range(len(lst[i])):\n",
    "        print(lst[i][j], end='\\t')\n",
    "    \n",
    "    print()"
   ]
  },
  {
   "cell_type": "code",
   "execution_count": 176,
   "id": "2fc771c2",
   "metadata": {},
   "outputs": [
    {
     "name": "stdout",
     "output_type": "stream",
     "text": [
      "10\t20\t30\t\n",
      "40\t50\t60\t\n",
      "70\t80\t90\t\n"
     ]
    }
   ],
   "source": [
    "# 방법2. 컨테이너 이용(복사한 값을 이용)\n",
    "\n",
    "lst = [[10, 20, 30], [40, 50, 60], [70, 80, 90]]\n",
    "for sub in lst:\n",
    "    for num in sub:\n",
    "        print(num, end='\\t')\n",
    "        \n",
    "    print()"
   ]
  },
  {
   "cell_type": "code",
   "execution_count": 177,
   "id": "997fdeff",
   "metadata": {},
   "outputs": [
    {
     "data": {
      "text/plain": [
       "array([[10, 20, 30],\n",
       "       [40, 50, 60],\n",
       "       [70, 80, 95]])"
      ]
     },
     "execution_count": 177,
     "metadata": {},
     "output_type": "execute_result"
    }
   ],
   "source": [
    "arr = np.arange(10, 100, 10).reshape(3, 3)\n",
    "arr[2, 2] = 95\n",
    "arr"
   ]
  },
  {
   "cell_type": "code",
   "execution_count": 178,
   "id": "39a3b0e4",
   "metadata": {},
   "outputs": [
    {
     "data": {
      "text/plain": [
       "array([[10, 20, 30],\n",
       "       [45, 65, 85],\n",
       "       [70, 80, 95]])"
      ]
     },
     "execution_count": 178,
     "metadata": {},
     "output_type": "execute_result"
    }
   ],
   "source": [
    "arr[1] = np.array([45, 65, 85])\n",
    "arr"
   ]
  },
  {
   "cell_type": "code",
   "execution_count": 180,
   "id": "9914f2df",
   "metadata": {},
   "outputs": [
    {
     "data": {
      "text/plain": [
       "array([47, 57, 67])"
      ]
     },
     "execution_count": 180,
     "metadata": {},
     "output_type": "execute_result"
    }
   ],
   "source": [
    "arr[1] = [47, 57, 67] # 배열에 리스트 대입하면 암시적 형변환 발생해서 배열 됨\n",
    "arr[1]"
   ]
  },
  {
   "cell_type": "code",
   "execution_count": 183,
   "id": "1ccc0362",
   "metadata": {},
   "outputs": [
    {
     "name": "stdout",
     "output_type": "stream",
     "text": [
      "10 80\n",
      "[10 80]\n"
     ]
    }
   ],
   "source": [
    "arr = np.arange(10, 100, 10).reshape(3, 3)\n",
    "\n",
    "print(arr[0, 0], arr[2, 1])\n",
    "print(arr[[0, 2], [0, 1]]) # 파이썬 컨테이너는 지원하지 않음"
   ]
  },
  {
   "cell_type": "code",
   "execution_count": 185,
   "id": "1d4873ad",
   "metadata": {},
   "outputs": [
    {
     "data": {
      "text/plain": [
       "array([ 0, 10, 20, 30, 40, 50, 60, 70, 80, 90])"
      ]
     },
     "execution_count": 185,
     "metadata": {},
     "output_type": "execute_result"
    }
   ],
   "source": [
    "# 배열을 읽고 사용하는 방법 2) 슬라이싱\n",
    "\n",
    "arr = np.arange(0, 100, 10)\n",
    "arr"
   ]
  },
  {
   "cell_type": "code",
   "execution_count": 186,
   "id": "055516ae",
   "metadata": {},
   "outputs": [
    {
     "data": {
      "text/plain": [
       "array([10, 20, 30])"
      ]
     },
     "execution_count": 186,
     "metadata": {},
     "output_type": "execute_result"
    }
   ],
   "source": [
    "arr[1:4]"
   ]
  },
  {
   "cell_type": "code",
   "execution_count": 187,
   "id": "74e159b5",
   "metadata": {},
   "outputs": [
    {
     "data": {
      "text/plain": [
       "array([20, 40, 60, 80])"
      ]
     },
     "execution_count": 187,
     "metadata": {},
     "output_type": "execute_result"
    }
   ],
   "source": [
    "arr[2::2] # step 사용 가능"
   ]
  },
  {
   "cell_type": "code",
   "execution_count": 188,
   "id": "1ba1d45f",
   "metadata": {},
   "outputs": [
    {
     "data": {
      "text/plain": [
       "array([ 0, 10, 20])"
      ]
     },
     "execution_count": 188,
     "metadata": {},
     "output_type": "execute_result"
    }
   ],
   "source": [
    "arr[:3] # start, step 생략"
   ]
  },
  {
   "cell_type": "code",
   "execution_count": 189,
   "id": "b7c95f1d",
   "metadata": {},
   "outputs": [
    {
     "data": {
      "text/plain": [
       "array([20, 30, 40, 50, 60, 70, 80, 90])"
      ]
     },
     "execution_count": 189,
     "metadata": {},
     "output_type": "execute_result"
    }
   ],
   "source": [
    "arr[2:] # end, step 생략"
   ]
  },
  {
   "cell_type": "code",
   "execution_count": 190,
   "id": "55959617",
   "metadata": {},
   "outputs": [
    {
     "data": {
      "text/plain": [
       "array([90, 70, 50])"
      ]
     },
     "execution_count": 190,
     "metadata": {},
     "output_type": "execute_result"
    }
   ],
   "source": [
    "arr[-1:-7:-2]"
   ]
  },
  {
   "cell_type": "code",
   "execution_count": 191,
   "id": "df2a319b",
   "metadata": {},
   "outputs": [
    {
     "data": {
      "text/plain": [
       "array([ 0, 10, 25, 35, 45, 50, 60, 70, 80, 90])"
      ]
     },
     "execution_count": 191,
     "metadata": {},
     "output_type": "execute_result"
    }
   ],
   "source": [
    "arr = np.arange(0, 100, 10)\n",
    "arr[2:5] = np.array([25, 35, 45])\n",
    "arr"
   ]
  },
  {
   "cell_type": "code",
   "execution_count": 192,
   "id": "f61cac94",
   "metadata": {},
   "outputs": [
    {
     "data": {
      "text/plain": [
       "array([ 0, 10, 25, 59, 59, 50, 60, 70, 80, 90])"
      ]
     },
     "execution_count": 192,
     "metadata": {},
     "output_type": "execute_result"
    }
   ],
   "source": [
    "arr[3:5] = 59\n",
    "arr"
   ]
  },
  {
   "cell_type": "code",
   "execution_count": 195,
   "id": "8466a0e8",
   "metadata": {},
   "outputs": [
    {
     "data": {
      "text/plain": [
       "array([[10, 20, 30],\n",
       "       [40, 50, 60],\n",
       "       [70, 80, 90]])"
      ]
     },
     "execution_count": 195,
     "metadata": {},
     "output_type": "execute_result"
    }
   ],
   "source": [
    "arr = np.arange(10, 100, 10).reshape(3, 3)\n",
    "arr"
   ]
  },
  {
   "cell_type": "code",
   "execution_count": 196,
   "id": "9e7b650f",
   "metadata": {},
   "outputs": [
    {
     "data": {
      "text/plain": [
       "array([[50, 60],\n",
       "       [80, 90]])"
      ]
     },
     "execution_count": 196,
     "metadata": {},
     "output_type": "execute_result"
    }
   ],
   "source": [
    "arr[1:, 1:] # 두번째, 두번째"
   ]
  },
  {
   "cell_type": "code",
   "execution_count": 197,
   "id": "373dac3f",
   "metadata": {},
   "outputs": [
    {
     "data": {
      "text/plain": [
       "array([[20, 30],\n",
       "       [50, 60],\n",
       "       [80, 90]])"
      ]
     },
     "execution_count": 197,
     "metadata": {},
     "output_type": "execute_result"
    }
   ],
   "source": [
    "arr[:, 1:] # 전체, 두번째부터"
   ]
  },
  {
   "cell_type": "code",
   "execution_count": 198,
   "id": "cf00ee1d",
   "metadata": {},
   "outputs": [
    {
     "data": {
      "text/plain": [
       "array([50, 60])"
      ]
     },
     "execution_count": 198,
     "metadata": {},
     "output_type": "execute_result"
    }
   ],
   "source": [
    "arr = np.arange(10, 100, 10).reshape(3, 3)\n",
    "arr[1][1:]"
   ]
  },
  {
   "cell_type": "code",
   "execution_count": 203,
   "id": "db27acbc",
   "metadata": {},
   "outputs": [
    {
     "data": {
      "text/plain": [
       "array([[10, 25, 35],\n",
       "       [40, 55, 65],\n",
       "       [70, 80, 90]])"
      ]
     },
     "execution_count": 203,
     "metadata": {},
     "output_type": "execute_result"
    }
   ],
   "source": [
    "arr = np.arange(10, 100, 10).reshape(3, 3)\n",
    "arr[:2, 1:3] = np.array([[25, 35], [55, 65]])\n",
    "arr"
   ]
  },
  {
   "cell_type": "code",
   "execution_count": 204,
   "id": "f35b4f46",
   "metadata": {},
   "outputs": [
    {
     "data": {
      "text/plain": [
       "array([1, 2, 3, 4, 5, 6])"
      ]
     },
     "execution_count": 204,
     "metadata": {},
     "output_type": "execute_result"
    }
   ],
   "source": [
    "# 배열을 읽고 사용하는 방법 3) 조건\n",
    "\n",
    "arr = np.array([1, 2, 3, 4, 5, 6])\n",
    "arr"
   ]
  },
  {
   "cell_type": "code",
   "execution_count": 205,
   "id": "5ffce871",
   "metadata": {},
   "outputs": [
    {
     "data": {
      "text/plain": [
       "array([False, False, False,  True,  True,  True])"
      ]
     },
     "execution_count": 205,
     "metadata": {},
     "output_type": "execute_result"
    }
   ],
   "source": [
    "arr > 3"
   ]
  },
  {
   "cell_type": "code",
   "execution_count": 206,
   "id": "6eb7e8b5",
   "metadata": {},
   "outputs": [
    {
     "data": {
      "text/plain": [
       "array([4, 5, 6])"
      ]
     },
     "execution_count": 206,
     "metadata": {},
     "output_type": "execute_result"
    }
   ],
   "source": [
    "arr[[False, False, False,  True,  True,  True]]"
   ]
  },
  {
   "cell_type": "code",
   "execution_count": 207,
   "id": "02459f75",
   "metadata": {},
   "outputs": [
    {
     "data": {
      "text/plain": [
       "array([4, 5, 6])"
      ]
     },
     "execution_count": 207,
     "metadata": {},
     "output_type": "execute_result"
    }
   ],
   "source": [
    "arr[arr > 3]"
   ]
  },
  {
   "cell_type": "code",
   "execution_count": 208,
   "id": "7dd57928",
   "metadata": {},
   "outputs": [
    {
     "data": {
      "text/plain": [
       "array([False,  True, False,  True, False,  True])"
      ]
     },
     "execution_count": 208,
     "metadata": {},
     "output_type": "execute_result"
    }
   ],
   "source": [
    "arr % 2 == 0 # 조건"
   ]
  },
  {
   "cell_type": "code",
   "execution_count": 209,
   "id": "36002749",
   "metadata": {},
   "outputs": [
    {
     "data": {
      "text/plain": [
       "array([2, 4, 6])"
      ]
     },
     "execution_count": 209,
     "metadata": {},
     "output_type": "execute_result"
    }
   ],
   "source": [
    "arr[arr % 2 == 0]"
   ]
  },
  {
   "cell_type": "code",
   "execution_count": 210,
   "id": "e5494a48",
   "metadata": {
    "collapsed": true
   },
   "outputs": [
    {
     "data": {
      "text/plain": [
       "array([[10, 20, 30],\n",
       "       [40, 50, 60],\n",
       "       [70, 80, 90]])"
      ]
     },
     "execution_count": 210,
     "metadata": {},
     "output_type": "execute_result"
    }
   ],
   "source": [
    "'''\n",
    "문제1] 다음 배열에서 [20, 50, 80], [[20, 50, 80]]을 각각 반환하는 코드를 작성하ㅔ요.\n",
    "\n",
    "array([[10, 20, 30],\n",
    "       [40, 50, 60],\n",
    "       [70, 80, 90]])\n",
    "'''"
   ]
  },
  {
   "cell_type": "code",
   "execution_count": 222,
   "id": "b9f7611d",
   "metadata": {},
   "outputs": [
    {
     "name": "stdout",
     "output_type": "stream",
     "text": [
      "[20 50 80]\n",
      "[[20]\n",
      " [50]\n",
      " [80]]\n"
     ]
    }
   ],
   "source": [
    "arr = np.arange(10, 100, 10).reshape(3, 3)\n",
    "\n",
    "print(arr[:, 1]) # 슬라이싱 + 인덱싱 -> 1차원\n",
    "print(arr[:, 1:2]) # 슬라이싱 + 슬라이싱 -> 2차원"
   ]
  },
  {
   "cell_type": "code",
   "execution_count": null,
   "id": "2ccee716",
   "metadata": {},
   "outputs": [],
   "source": [
    "'''\n",
    "문제2] 국어, 영어, 수학, 과학 점수를 가지는 아래의 학생 성적 정보 배열에서\n",
    "수학 점수를 저장하는 3번째 열의 값이 90 이상인 학생의 정보를 출력하는 코드를 작성하세요.\n",
    "\n",
    "[[75, 82, 95, 80],\n",
    " [85, 88, 80, 75],\n",
    " [80, 75, 90, 80],\n",
    " [85, 80, 75, 90]]\n",
    "\n",
    "출력결과>\n",
    "[[75, 82, 95, 80],\n",
    " [80, 75, 90, 80]]\n",
    "'''"
   ]
  },
  {
   "cell_type": "code",
   "execution_count": 240,
   "id": "2878ae64",
   "metadata": {},
   "outputs": [
    {
     "data": {
      "text/plain": [
       "array([[ True],\n",
       "       [False],\n",
       "       [ True],\n",
       "       [False]])"
      ]
     },
     "execution_count": 240,
     "metadata": {},
     "output_type": "execute_result"
    }
   ],
   "source": [
    "# my\n",
    "\n",
    "arr = np.array([[75, 82, 95, 80],\n",
    " [85, 88, 80, 75],\n",
    " [80, 75, 90, 80],\n",
    " [85, 80, 75, 90]])\n",
    "\n",
    "arr.reshape(4, 4)\n",
    "\n",
    "arr[:, 2:3] >= 90"
   ]
  },
  {
   "cell_type": "code",
   "execution_count": 242,
   "id": "04bfb1f2",
   "metadata": {},
   "outputs": [
    {
     "data": {
      "text/plain": [
       "array([[75, 82, 95, 80],\n",
       "       [80, 75, 90, 80]])"
      ]
     },
     "execution_count": 242,
     "metadata": {},
     "output_type": "execute_result"
    }
   ],
   "source": [
    "# answer\n",
    "arr = np.array([[75, 82, 95, 80], [85, 88, 80, 75], [80, 75, 90, 80], [85, 80, 75, 90]])\n",
    "arr[[True, False, True, False]]"
   ]
  },
  {
   "cell_type": "code",
   "execution_count": 245,
   "id": "861d5302",
   "metadata": {},
   "outputs": [
    {
     "data": {
      "text/plain": [
       "array([95, 80, 90, 75])"
      ]
     },
     "execution_count": 245,
     "metadata": {},
     "output_type": "execute_result"
    }
   ],
   "source": [
    "arr[:, 2]"
   ]
  },
  {
   "cell_type": "code",
   "execution_count": 246,
   "id": "e37f6ab9",
   "metadata": {},
   "outputs": [
    {
     "data": {
      "text/plain": [
       "array([ True, False,  True, False])"
      ]
     },
     "execution_count": 246,
     "metadata": {},
     "output_type": "execute_result"
    }
   ],
   "source": [
    "arr[:, 2] >= 90"
   ]
  },
  {
   "cell_type": "code",
   "execution_count": 247,
   "id": "c7c882a5",
   "metadata": {},
   "outputs": [
    {
     "data": {
      "text/plain": [
       "array([[75, 82, 95, 80],\n",
       "       [80, 75, 90, 80]])"
      ]
     },
     "execution_count": 247,
     "metadata": {},
     "output_type": "execute_result"
    }
   ],
   "source": [
    "arr[arr[:, 2] >= 90]"
   ]
  },
  {
   "cell_type": "code",
   "execution_count": null,
   "id": "557877ff",
   "metadata": {},
   "outputs": [],
   "source": [
    "'''\n",
    "문제3] 다음 배열에서 [[10, 30], [70, 90]] 값을 가지는 2차원 배열을 출력하는 코드를 작성하세요.\n",
    "\n",
    "array([[10, 20, 30],\n",
    "       [40, 50, 60],\n",
    "       [70, 80, 90]])\n",
    "'''"
   ]
  },
  {
   "cell_type": "code",
   "execution_count": 271,
   "id": "146fb8e5",
   "metadata": {},
   "outputs": [
    {
     "data": {
      "text/plain": [
       "array([[10, 30],\n",
       "       [70, 90]])"
      ]
     },
     "execution_count": 271,
     "metadata": {},
     "output_type": "execute_result"
    }
   ],
   "source": [
    "arr = np.arange(10, 100, 10).reshape(3,3)\n",
    "arr = arr[[0, 2]]\n",
    "arr = arr[:, [0, 2]]\n",
    "arr"
   ]
  },
  {
   "cell_type": "code",
   "execution_count": 272,
   "id": "4a991a54",
   "metadata": {},
   "outputs": [
    {
     "data": {
      "text/plain": [
       "array([[10, 30],\n",
       "       [70, 90]])"
      ]
     },
     "execution_count": 272,
     "metadata": {},
     "output_type": "execute_result"
    }
   ],
   "source": [
    "# 간략히\n",
    "arr = np.arange(10, 100, 10).reshape(3,3)\n",
    "arr[[0, 2]][:, [0, 2]]"
   ]
  },
  {
   "cell_type": "code",
   "execution_count": null,
   "id": "45e35759",
   "metadata": {},
   "outputs": [],
   "source": [
    "'''\n",
    "문제4] 'data/coffee_shop_sales.txt' 파일을 읽고 다음의 결과를 출력하는 코드를 작성하세요.\n",
    "        단, numpy를 사용하여 문제를 해결합니다.\n",
    "\n",
    "[출력 결과]\n",
    "\n",
    "에스프레소 [10, 12, 11, 15] / 총 판매량: 48, 평균 판매량: 12.0\n",
    "아메리카노 [xx, xx, xx, xx] / 총 판매량: xx, 평균 판매량: xx.x\n",
    "카페라떼 [xx, xx, xx, xx] / 총 판매량: xx, 평균 판매량: xx.x\n",
    "카푸치노 [xx, xx, xx, xx] / 총 판매량: xx, 평균 판매량: xx.x\n",
    "'''"
   ]
  },
  {
   "cell_type": "code",
   "execution_count": 302,
   "id": "4131f899",
   "metadata": {},
   "outputs": [
    {
     "name": "stdout",
     "output_type": "stream",
     "text": [
      "에스프레소 [10 12 11 15] / 총 판매량: 48, 평균 판매량: 12.0\n",
      "아메리카노 [50 45 53 49] / 총 판매량: 197, 평균 판매량: 49.2\n",
      "카페라떼 [45 41 32 38] / 총 판매량: 156, 평균 판매량: 39.0\n",
      "카푸치노 [20 18 25 22] / 총 판매량: 85, 평균 판매량: 21.2\n"
     ]
    }
   ],
   "source": [
    "# answer\n",
    "\n",
    "with open('../data/coffee_shop_sales.txt', 'rt') as f:\n",
    "    lines = f.readlines()\n",
    "    \n",
    "coffee_menu = lines[0].split()[1:] #1. coffee_menu 리스트 생성\n",
    "coffee_menu\n",
    "\n",
    "lines = lines[1:] #2. 커피 판매량 정보만 lines 리스트에 저장\n",
    "\n",
    "for i in range(len(lines)):\n",
    "    lines[i] = lines[i].split()[1:]\n",
    "\n",
    "coffee_menu_sales = np.array(lines).astype(np.int32).transpose() # 3. numpy 활용\n",
    "\n",
    "for i in range(len(coffee_menu)):\n",
    "    print('%s %s / 총 판매량: %d, 평균 판매량: %.1f' % (coffee_menu[i], coffee_menu_sales[i],\n",
    "                                coffee_menu_sales[i].sum(), coffee_menu_sales[i].mean())) # 4. numpy 활용하는 형태로 수정"
   ]
  },
  {
   "cell_type": "code",
   "execution_count": null,
   "id": "8c4214fd",
   "metadata": {},
   "outputs": [],
   "source": []
  }
 ],
 "metadata": {
  "kernelspec": {
   "display_name": "Python 3 (ipykernel)",
   "language": "python",
   "name": "python3"
  },
  "language_info": {
   "codemirror_mode": {
    "name": "ipython",
    "version": 3
   },
   "file_extension": ".py",
   "mimetype": "text/x-python",
   "name": "python",
   "nbconvert_exporter": "python",
   "pygments_lexer": "ipython3",
   "version": "3.9.12"
  }
 },
 "nbformat": 4,
 "nbformat_minor": 5
}
